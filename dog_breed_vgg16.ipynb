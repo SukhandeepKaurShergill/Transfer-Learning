{
  "cells": [
    {
      "cell_type": "markdown",
      "source": [
        "# Extract zip file"
      ],
      "metadata": {
        "id": "SefAqeGfspXx"
      },
      "id": "SefAqeGfspXx"
    },
    {
      "cell_type": "code",
      "execution_count": null,
      "id": "325f9949",
      "metadata": {
        "id": "325f9949"
      },
      "outputs": [],
      "source": [
        "import zipfile\n",
        "with zipfile.ZipFile('dog-breed-identification.zip', 'r') as zip_ref:\n",
        "    zip_ref.extractall('dog_breed')\n"
      ]
    },
    {
      "cell_type": "markdown",
      "source": [
        "# import all required libraries for deep learning and vgg16"
      ],
      "metadata": {
        "id": "zf9bYVEJstLv"
      },
      "id": "zf9bYVEJstLv"
    },
    {
      "cell_type": "code",
      "execution_count": null,
      "id": "2cc898c0",
      "metadata": {
        "id": "2cc898c0"
      },
      "outputs": [],
      "source": [
        "from keras import regularizers\n",
        "from keras.models import Model\n",
        "from tensorflow.keras.optimizers import Adam\n",
        "from keras.layers import Dropout\n",
        "from keras.layers import GlobalAveragePooling2D\n",
        "from keras.layers import BatchNormalization\n",
        "from keras.layers import Activation,Dense\n",
        "from keras.models import Sequential,load_model\n",
        "from keras.preprocessing.image import ImageDataGenerator, img_to_array, load_img\n",
        "from keras.applications.vgg16 import VGG16"
      ]
    },
    {
      "cell_type": "markdown",
      "source": [
        "# Pandas and Numpy for data structures and util fucntions"
      ],
      "metadata": {
        "id": "0SdJLq9as5Qh"
      },
      "id": "0SdJLq9as5Qh"
    },
    {
      "cell_type": "code",
      "execution_count": null,
      "id": "e05a325b",
      "metadata": {
        "id": "e05a325b"
      },
      "outputs": [],
      "source": [
        "\n",
        "import numpy as np\n",
        "#pip install pandas\n",
        "import pandas as pd\n",
        "from numpy.random import rand\n",
        "\n",
        "pd.options.display.max_colwidth = 600\n",
        "\n",
        "# Scikit Imports\n",
        "from sklearn.model_selection import train_test_split\n",
        "# Matplot Imports\n",
        "import matplotlib.pyplot as plt\n",
        "params = {'legend.fontsize': 'x-large',\n",
        "          'figure.figsize': (15, 5),\n",
        "          'axes.labelsize': 'x-large',\n",
        "          'axes.titlesize':'x-large',\n",
        "          'xtick.labelsize':'x-large',\n",
        "          'ytick.labelsize':'x-large'}\n",
        "\n",
        "plt.rcParams.update(params)\n",
        "%matplotlib inline"
      ]
    },
    {
      "cell_type": "code",
      "execution_count": null,
      "id": "4b4e88c6",
      "metadata": {
        "id": "4b4e88c6"
      },
      "outputs": [],
      "source": [
        "\n",
        "from IPython.display import display, HTML\n",
        "\n",
        "import warnings\n",
        "warnings.filterwarnings('ignore')"
      ]
    },
    {
      "cell_type": "markdown",
      "source": [
        "# Go to train folder"
      ],
      "metadata": {
        "id": "riqq35tx0Yh6"
      },
      "id": "riqq35tx0Yh6"
    },
    {
      "cell_type": "code",
      "execution_count": null,
      "id": "44cb1b7a",
      "metadata": {
        "id": "44cb1b7a"
      },
      "outputs": [],
      "source": [
        "\n",
        "train_folder = 'dog_breed/train/'\n",
        "#test_folder = '/content/test/'"
      ]
    },
    {
      "cell_type": "markdown",
      "source": [
        "### pandas display data frames as tables"
      ],
      "metadata": {
        "id": "NGhww7q90U7-"
      },
      "id": "NGhww7q90U7-"
    },
    {
      "cell_type": "code",
      "execution_count": null,
      "id": "adde28e6",
      "metadata": {
        "id": "adde28e6",
        "outputId": "73703f3e-15ad-4e5d-86af-7cd4784d82af"
      },
      "outputs": [
        {
          "data": {
            "text/html": [
              "<div>\n",
              "<style scoped>\n",
              "    .dataframe tbody tr th:only-of-type {\n",
              "        vertical-align: middle;\n",
              "    }\n",
              "\n",
              "    .dataframe tbody tr th {\n",
              "        vertical-align: top;\n",
              "    }\n",
              "\n",
              "    .dataframe thead th {\n",
              "        text-align: right;\n",
              "    }\n",
              "</style>\n",
              "<table border=\"1\" class=\"dataframe\">\n",
              "  <thead>\n",
              "    <tr style=\"text-align: right;\">\n",
              "      <th></th>\n",
              "      <th>id</th>\n",
              "      <th>breed</th>\n",
              "    </tr>\n",
              "  </thead>\n",
              "  <tbody>\n",
              "    <tr>\n",
              "      <th>0</th>\n",
              "      <td>000bec180eb18c7604dcecc8fe0dba07</td>\n",
              "      <td>boston_bull</td>\n",
              "    </tr>\n",
              "    <tr>\n",
              "      <th>1</th>\n",
              "      <td>001513dfcb2ffafc82cccf4d8bbaba97</td>\n",
              "      <td>dingo</td>\n",
              "    </tr>\n",
              "    <tr>\n",
              "      <th>2</th>\n",
              "      <td>001cdf01b096e06d78e9e5112d419397</td>\n",
              "      <td>pekinese</td>\n",
              "    </tr>\n",
              "    <tr>\n",
              "      <th>3</th>\n",
              "      <td>00214f311d5d2247d5dfe4fe24b2303d</td>\n",
              "      <td>bluetick</td>\n",
              "    </tr>\n",
              "    <tr>\n",
              "      <th>4</th>\n",
              "      <td>0021f9ceb3235effd7fcde7f7538ed62</td>\n",
              "      <td>golden_retriever</td>\n",
              "    </tr>\n",
              "  </tbody>\n",
              "</table>\n",
              "</div>"
            ],
            "text/plain": [
              "                                 id             breed\n",
              "0  000bec180eb18c7604dcecc8fe0dba07       boston_bull\n",
              "1  001513dfcb2ffafc82cccf4d8bbaba97             dingo\n",
              "2  001cdf01b096e06d78e9e5112d419397          pekinese\n",
              "3  00214f311d5d2247d5dfe4fe24b2303d          bluetick\n",
              "4  0021f9ceb3235effd7fcde7f7538ed62  golden_retriever"
            ]
          },
          "execution_count": 5,
          "metadata": {},
          "output_type": "execute_result"
        }
      ],
      "source": [
        "data_labels = pd.read_csv('dog_breed/labels.csv')\n",
        "data_labels.head()"
      ]
    },
    {
      "cell_type": "markdown",
      "source": [
        "# Extract some intial values of dataset"
      ],
      "metadata": {
        "id": "HAI4UwgD0fX0"
      },
      "id": "HAI4UwgD0fX0"
    },
    {
      "cell_type": "code",
      "execution_count": null,
      "id": "f96a9cff",
      "metadata": {
        "id": "f96a9cff"
      },
      "outputs": [],
      "source": [
        "data_labels=data_labels[:8000]"
      ]
    },
    {
      "cell_type": "markdown",
      "source": [
        "# Access labels and check the number of classes"
      ],
      "metadata": {
        "id": "GiDzxAPS0wLk"
      },
      "id": "GiDzxAPS0wLk"
    },
    {
      "cell_type": "code",
      "execution_count": null,
      "id": "27f66f89",
      "metadata": {
        "id": "27f66f89",
        "outputId": "9eb0ea3f-5361-4f07-c497-c5be35921b71"
      },
      "outputs": [
        {
          "data": {
            "text/plain": [
              "120"
            ]
          },
          "execution_count": 7,
          "metadata": {},
          "output_type": "execute_result"
        }
      ],
      "source": [
        "target_labels = data_labels['breed']\n",
        "len(set(target_labels))"
      ]
    },
    {
      "cell_type": "markdown",
      "source": [
        "# Prepare Labels\n",
        "Deep Learning models work with one hot encoded outputs or target variables. We utilize pandas to prepare one hot encoding for the labels."
      ],
      "metadata": {
        "id": "8pGnODd80zEH"
      },
      "id": "8pGnODd80zEH"
    },
    {
      "cell_type": "code",
      "execution_count": null,
      "id": "4a408a76",
      "metadata": {
        "id": "4a408a76",
        "outputId": "ea6dfebc-879c-4773-9077-0a138eda91be"
      },
      "outputs": [
        {
          "name": "stdout",
          "output_type": "stream",
          "text": [
            "(8000, 120)\n",
            "[[0 0 0 0 0 0 0 0 0 0 0 0 0 0 0 0 0 0 0 1 0 0 0 0 0 0 0 0 0 0 0 0 0 0 0 0\n",
            "  0 0 0 0 0 0 0 0 0 0 0 0 0 0 0 0 0 0 0 0 0 0 0 0 0 0 0 0 0 0 0 0 0 0 0 0\n",
            "  0 0 0 0 0 0 0 0 0 0 0 0 0 0 0 0 0 0 0 0 0 0 0 0 0 0 0 0 0 0 0 0 0 0 0 0\n",
            "  0 0 0 0 0 0 0 0 0 0 0 0]\n",
            " [0 0 0 0 0 0 0 0 0 0 0 0 0 0 0 0 0 0 0 0 0 0 0 0 0 0 0 0 0 0 0 0 0 0 0 0\n",
            "  0 1 0 0 0 0 0 0 0 0 0 0 0 0 0 0 0 0 0 0 0 0 0 0 0 0 0 0 0 0 0 0 0 0 0 0\n",
            "  0 0 0 0 0 0 0 0 0 0 0 0 0 0 0 0 0 0 0 0 0 0 0 0 0 0 0 0 0 0 0 0 0 0 0 0\n",
            "  0 0 0 0 0 0 0 0 0 0 0 0]]\n"
          ]
        }
      ],
      "source": [
        "labels_ohe_names = pd.get_dummies(target_labels, sparse=True)\n",
        "labels_ohe = np.asarray(labels_ohe_names)\n",
        "print(labels_ohe.shape)\n",
        "print(labels_ohe[:2])"
      ]
    },
    {
      "cell_type": "markdown",
      "source": [
        "# Create another colomn of named image_path to acces the images from dataset"
      ],
      "metadata": {
        "id": "Vm6mnOhl0_iv"
      },
      "id": "Vm6mnOhl0_iv"
    },
    {
      "cell_type": "code",
      "execution_count": null,
      "id": "2514a1c1",
      "metadata": {
        "id": "2514a1c1",
        "outputId": "035e848b-55af-4617-ee39-d01f607fe810"
      },
      "outputs": [
        {
          "data": {
            "text/html": [
              "<div>\n",
              "<style scoped>\n",
              "    .dataframe tbody tr th:only-of-type {\n",
              "        vertical-align: middle;\n",
              "    }\n",
              "\n",
              "    .dataframe tbody tr th {\n",
              "        vertical-align: top;\n",
              "    }\n",
              "\n",
              "    .dataframe thead th {\n",
              "        text-align: right;\n",
              "    }\n",
              "</style>\n",
              "<table border=\"1\" class=\"dataframe\">\n",
              "  <thead>\n",
              "    <tr style=\"text-align: right;\">\n",
              "      <th></th>\n",
              "      <th>id</th>\n",
              "      <th>breed</th>\n",
              "      <th>image_path</th>\n",
              "    </tr>\n",
              "  </thead>\n",
              "  <tbody>\n",
              "    <tr>\n",
              "      <th>0</th>\n",
              "      <td>000bec180eb18c7604dcecc8fe0dba07</td>\n",
              "      <td>boston_bull</td>\n",
              "      <td>dog_breed/train/000bec180eb18c7604dcecc8fe0dba07.jpg</td>\n",
              "    </tr>\n",
              "    <tr>\n",
              "      <th>1</th>\n",
              "      <td>001513dfcb2ffafc82cccf4d8bbaba97</td>\n",
              "      <td>dingo</td>\n",
              "      <td>dog_breed/train/001513dfcb2ffafc82cccf4d8bbaba97.jpg</td>\n",
              "    </tr>\n",
              "    <tr>\n",
              "      <th>2</th>\n",
              "      <td>001cdf01b096e06d78e9e5112d419397</td>\n",
              "      <td>pekinese</td>\n",
              "      <td>dog_breed/train/001cdf01b096e06d78e9e5112d419397.jpg</td>\n",
              "    </tr>\n",
              "    <tr>\n",
              "      <th>3</th>\n",
              "      <td>00214f311d5d2247d5dfe4fe24b2303d</td>\n",
              "      <td>bluetick</td>\n",
              "      <td>dog_breed/train/00214f311d5d2247d5dfe4fe24b2303d.jpg</td>\n",
              "    </tr>\n",
              "    <tr>\n",
              "      <th>4</th>\n",
              "      <td>0021f9ceb3235effd7fcde7f7538ed62</td>\n",
              "      <td>golden_retriever</td>\n",
              "      <td>dog_breed/train/0021f9ceb3235effd7fcde7f7538ed62.jpg</td>\n",
              "    </tr>\n",
              "  </tbody>\n",
              "</table>\n",
              "</div>"
            ],
            "text/plain": [
              "                                 id             breed  \\\n",
              "0  000bec180eb18c7604dcecc8fe0dba07       boston_bull   \n",
              "1  001513dfcb2ffafc82cccf4d8bbaba97             dingo   \n",
              "2  001cdf01b096e06d78e9e5112d419397          pekinese   \n",
              "3  00214f311d5d2247d5dfe4fe24b2303d          bluetick   \n",
              "4  0021f9ceb3235effd7fcde7f7538ed62  golden_retriever   \n",
              "\n",
              "                                             image_path  \n",
              "0  dog_breed/train/000bec180eb18c7604dcecc8fe0dba07.jpg  \n",
              "1  dog_breed/train/001513dfcb2ffafc82cccf4d8bbaba97.jpg  \n",
              "2  dog_breed/train/001cdf01b096e06d78e9e5112d419397.jpg  \n",
              "3  dog_breed/train/00214f311d5d2247d5dfe4fe24b2303d.jpg  \n",
              "4  dog_breed/train/0021f9ceb3235effd7fcde7f7538ed62.jpg  "
            ]
          },
          "execution_count": 9,
          "metadata": {},
          "output_type": "execute_result"
        }
      ],
      "source": [
        "data_labels['image_path'] = data_labels.apply( lambda row: (train_folder + row[\"id\"] + \".jpg\" ), axis=1)\n",
        "data_labels.head()"
      ]
    },
    {
      "cell_type": "markdown",
      "source": [
        "#Prepare Train-Test Datasets\n",
        " We use a 70-30 split to prepare the two dataset.\n",
        " convert images data into numpy arrays"
      ],
      "metadata": {
        "id": "WlNCLj171P6q"
      },
      "id": "WlNCLj171P6q"
    },
    {
      "cell_type": "code",
      "execution_count": null,
      "id": "f3e85818",
      "metadata": {
        "id": "f3e85818"
      },
      "outputs": [],
      "source": [
        "train_data = np.array([img_to_array(\n",
        "                            load_img(img, \n",
        "                                     target_size=(224, 224))\n",
        "                       ) for img \n",
        "                           in data_labels['image_path'].values.tolist()\n",
        "                      ]).astype('float32')"
      ]
    },
    {
      "cell_type": "code",
      "execution_count": null,
      "id": "cfa1a4a0",
      "metadata": {
        "id": "cfa1a4a0",
        "outputId": "6f73af13-bc48-4248-d36f-e0028a91bd96"
      },
      "outputs": [
        {
          "data": {
            "text/plain": [
              "(8000, 224, 224, 3)"
            ]
          },
          "execution_count": 11,
          "metadata": {},
          "output_type": "execute_result"
        }
      ],
      "source": [
        "train_data.shape"
      ]
    },
    {
      "cell_type": "code",
      "execution_count": null,
      "id": "33fb51b5",
      "metadata": {
        "id": "33fb51b5"
      },
      "outputs": [],
      "source": [
        "x_train, x_test, y_train, y_test = train_test_split(train_data, \n",
        "                                                    target_labels, \n",
        "                                                    test_size=0.3, \n",
        "                                                    stratify=np.array(target_labels), \n",
        "                                                    random_state=42)"
      ]
    },
    {
      "cell_type": "markdown",
      "source": [
        "# check shape of training data"
      ],
      "metadata": {
        "id": "MwjMqq7Q1ktY"
      },
      "id": "MwjMqq7Q1ktY"
    },
    {
      "cell_type": "code",
      "execution_count": null,
      "id": "dff39c4a",
      "metadata": {
        "id": "dff39c4a",
        "outputId": "407442a2-39be-477e-81c7-9892de3670cf"
      },
      "outputs": [
        {
          "data": {
            "text/plain": [
              "((5600, 224, 224, 3), (2400, 224, 224, 3))"
            ]
          },
          "execution_count": 13,
          "metadata": {},
          "output_type": "execute_result"
        }
      ],
      "source": [
        "x_train.shape, x_test.shape"
      ]
    },
    {
      "cell_type": "markdown",
      "source": [
        "# Prepare training and validation data from training data"
      ],
      "metadata": {
        "id": "R0gNFu0K1nmW"
      },
      "id": "R0gNFu0K1nmW"
    },
    {
      "cell_type": "code",
      "execution_count": null,
      "id": "72cd16ac",
      "metadata": {
        "id": "72cd16ac"
      },
      "outputs": [],
      "source": [
        "x_train, x_val, y_train, y_val = train_test_split(x_train, \n",
        "                                                    y_train, \n",
        "                                                    test_size=0.15, \n",
        "                                                    stratify=np.array(y_train), \n",
        "                                                    random_state=42)\n"
      ]
    },
    {
      "cell_type": "markdown",
      "source": [
        "# Prepare target variables for train, test and validation datasets"
      ],
      "metadata": {
        "id": "JVR-kuS91zOw"
      },
      "id": "JVR-kuS91zOw"
    },
    {
      "cell_type": "code",
      "execution_count": null,
      "id": "59fb8be2",
      "metadata": {
        "id": "59fb8be2",
        "outputId": "9a9b6b29-8f52-4c32-addc-a048cf7949ee"
      },
      "outputs": [
        {
          "data": {
            "text/plain": [
              "((4760, 224, 224, 3), (840, 224, 224, 3))"
            ]
          },
          "execution_count": 15,
          "metadata": {},
          "output_type": "execute_result"
        }
      ],
      "source": [
        "x_train.shape, x_val.shape"
      ]
    },
    {
      "cell_type": "code",
      "execution_count": null,
      "id": "1311d562",
      "metadata": {
        "id": "1311d562",
        "outputId": "54147aa0-3701-45a7-f72e-f252c59f1484"
      },
      "outputs": [
        {
          "data": {
            "text/plain": [
              "((4760, 120), (2400, 120), (840, 120))"
            ]
          },
          "execution_count": 16,
          "metadata": {},
          "output_type": "execute_result"
        }
      ],
      "source": [
        "y_train_ohe = pd.get_dummies(y_train, sparse=True)\n",
        "y_train_ohe = np.asarray(y_train_ohe)\n",
        "\n",
        "y_test_ohe = pd.get_dummies(y_test, sparse=True)\n",
        "y_test_ohe = np.asarray(y_test_ohe)\n",
        "\n",
        "y_val_ohe = pd.get_dummies(y_val, sparse=True)\n",
        "y_val_ohe = np.asarray(y_val_ohe)\n",
        "\n",
        "y_train_ohe.shape, y_test_ohe.shape, y_val_ohe.shape"
      ]
    },
    {
      "cell_type": "code",
      "execution_count": null,
      "id": "15bbbf01",
      "metadata": {
        "id": "15bbbf01"
      },
      "outputs": [],
      "source": [
        "BATCH_SIZE = 12"
      ]
    },
    {
      "cell_type": "markdown",
      "source": [
        "# Data Augmentation\n",
        "Since number of samples per class are not very high, we utilize data augmentation to prepare different variations of different samples available. We do this using the ImageDataGenerator utility from keras"
      ],
      "metadata": {
        "id": "gtu1mYPC16eH"
      },
      "id": "gtu1mYPC16eH"
    },
    {
      "cell_type": "code",
      "execution_count": null,
      "id": "dee50b0f",
      "metadata": {
        "id": "dee50b0f"
      },
      "outputs": [],
      "source": [
        "# Create train generator.\n",
        "train_datagen = ImageDataGenerator(rescale=1./255, \n",
        "                                   rotation_range=30, \n",
        "                                   width_shift_range=0.2,\n",
        "                                   height_shift_range=0.2, \n",
        "                                   horizontal_flip = 'true')\n",
        "train_generator = train_datagen.flow(x_train, y_train_ohe, shuffle=False, batch_size=BATCH_SIZE, seed=1)"
      ]
    },
    {
      "cell_type": "code",
      "execution_count": null,
      "id": "dac99f44",
      "metadata": {
        "id": "dac99f44"
      },
      "outputs": [],
      "source": [
        "# Create validation generator\n",
        "val_datagen = ImageDataGenerator(rescale = 1./255)\n",
        "val_generator = train_datagen.flow(x_val, y_val_ohe, shuffle=False, batch_size=BATCH_SIZE, seed=1)"
      ]
    },
    {
      "cell_type": "markdown",
      "source": [
        "# Get the vgg16 model so we can do transfer learning"
      ],
      "metadata": {
        "id": "qUlafOTE3B7B"
      },
      "id": "qUlafOTE3B7B"
    },
    {
      "cell_type": "code",
      "execution_count": null,
      "id": "d1e9c2e0",
      "metadata": {
        "id": "d1e9c2e0"
      },
      "outputs": [],
      "source": [
        "\n",
        "base_vgg = VGG16(weights='imagenet', include_top = False, input_shape=(224, 224, 3))"
      ]
    },
    {
      "cell_type": "markdown",
      "source": [
        "## Using Readymade model without any fine tuning only change last layer i.e. classification layer"
      ],
      "metadata": {
        "id": "Mh3tZYII3ZPY"
      },
      "id": "Mh3tZYII3ZPY"
    },
    {
      "cell_type": "code",
      "execution_count": null,
      "id": "43656785",
      "metadata": {
        "id": "43656785"
      },
      "outputs": [],
      "source": [
        "# Add a global spatial average pooling layer\n",
        "out = base_vgg.output\n",
        "out = GlobalAveragePooling2D()(out)\n",
        "out = Dense(512, activation='relu')(out)\n",
        "out = Dense(512, activation='relu')(out)\n",
        "total_classes = y_train_ohe.shape[1]\n",
        "predictions = Dense(total_classes, activation='softmax')(out)"
      ]
    },
    {
      "cell_type": "markdown",
      "source": [
        ""
      ],
      "metadata": {
        "id": "5M69eI9h3Lga"
      },
      "id": "5M69eI9h3Lga"
    },
    {
      "cell_type": "code",
      "execution_count": null,
      "id": "a730546a",
      "metadata": {
        "id": "a730546a"
      },
      "outputs": [],
      "source": [
        "model = Model(inputs=base_vgg.input, outputs=predictions)"
      ]
    },
    {
      "cell_type": "code",
      "execution_count": null,
      "id": "0abd8b5a",
      "metadata": {
        "id": "0abd8b5a"
      },
      "outputs": [],
      "source": [
        "# only if we want to freeze layers\n",
        "for layer in base_vgg.layers:\n",
        "    layer.trainable = False"
      ]
    },
    {
      "cell_type": "code",
      "execution_count": null,
      "id": "006a4086",
      "metadata": {
        "id": "006a4086",
        "outputId": "05e9339b-bf7e-4519-95b1-275eb1f754bc"
      },
      "outputs": [
        {
          "name": "stdout",
          "output_type": "stream",
          "text": [
            "Model: \"model\"\n",
            "_________________________________________________________________\n",
            "Layer (type)                 Output Shape              Param #   \n",
            "=================================================================\n",
            "input_1 (InputLayer)         [(None, 224, 224, 3)]     0         \n",
            "_________________________________________________________________\n",
            "block1_conv1 (Conv2D)        (None, 224, 224, 64)      1792      \n",
            "_________________________________________________________________\n",
            "block1_conv2 (Conv2D)        (None, 224, 224, 64)      36928     \n",
            "_________________________________________________________________\n",
            "block1_pool (MaxPooling2D)   (None, 112, 112, 64)      0         \n",
            "_________________________________________________________________\n",
            "block2_conv1 (Conv2D)        (None, 112, 112, 128)     73856     \n",
            "_________________________________________________________________\n",
            "block2_conv2 (Conv2D)        (None, 112, 112, 128)     147584    \n",
            "_________________________________________________________________\n",
            "block2_pool (MaxPooling2D)   (None, 56, 56, 128)       0         \n",
            "_________________________________________________________________\n",
            "block3_conv1 (Conv2D)        (None, 56, 56, 256)       295168    \n",
            "_________________________________________________________________\n",
            "block3_conv2 (Conv2D)        (None, 56, 56, 256)       590080    \n",
            "_________________________________________________________________\n",
            "block3_conv3 (Conv2D)        (None, 56, 56, 256)       590080    \n",
            "_________________________________________________________________\n",
            "block3_pool (MaxPooling2D)   (None, 28, 28, 256)       0         \n",
            "_________________________________________________________________\n",
            "block4_conv1 (Conv2D)        (None, 28, 28, 512)       1180160   \n",
            "_________________________________________________________________\n",
            "block4_conv2 (Conv2D)        (None, 28, 28, 512)       2359808   \n",
            "_________________________________________________________________\n",
            "block4_conv3 (Conv2D)        (None, 28, 28, 512)       2359808   \n",
            "_________________________________________________________________\n",
            "block4_pool (MaxPooling2D)   (None, 14, 14, 512)       0         \n",
            "_________________________________________________________________\n",
            "block5_conv1 (Conv2D)        (None, 14, 14, 512)       2359808   \n",
            "_________________________________________________________________\n",
            "block5_conv2 (Conv2D)        (None, 14, 14, 512)       2359808   \n",
            "_________________________________________________________________\n",
            "block5_conv3 (Conv2D)        (None, 14, 14, 512)       2359808   \n",
            "_________________________________________________________________\n",
            "block5_pool (MaxPooling2D)   (None, 7, 7, 512)         0         \n",
            "_________________________________________________________________\n",
            "global_average_pooling2d (Gl (None, 512)               0         \n",
            "_________________________________________________________________\n",
            "dense (Dense)                (None, 512)               262656    \n",
            "_________________________________________________________________\n",
            "dense_1 (Dense)              (None, 512)               262656    \n",
            "_________________________________________________________________\n",
            "dense_2 (Dense)              (None, 120)               61560     \n",
            "=================================================================\n",
            "Total params: 15,301,560\n",
            "Trainable params: 586,872\n",
            "Non-trainable params: 14,714,688\n",
            "_________________________________________________________________\n"
          ]
        }
      ],
      "source": [
        "# Compile \n",
        "model.compile(Adam(lr=.0001), loss='categorical_crossentropy', metrics=['accuracy']) \n",
        "\n",
        "model.summary()"
      ]
    },
    {
      "cell_type": "code",
      "execution_count": null,
      "id": "3ef7b625",
      "metadata": {
        "id": "3ef7b625",
        "outputId": "b3479dd4-20aa-42f6-c2ff-c85ab877e393"
      },
      "outputs": [
        {
          "name": "stdout",
          "output_type": "stream",
          "text": [
            "Epoch 1/100\n",
            "396/396 [==============================] - 80s 191ms/step - loss: 4.7937 - accuracy: 0.0086 - val_loss: 4.7490 - val_accuracy: 0.0143\n",
            "Epoch 2/100\n",
            "396/396 [==============================] - 67s 169ms/step - loss: 4.7361 - accuracy: 0.0225 - val_loss: 4.7012 - val_accuracy: 0.0226\n",
            "Epoch 3/100\n",
            "396/396 [==============================] - 73s 184ms/step - loss: 4.6633 - accuracy: 0.0272 - val_loss: 4.6117 - val_accuracy: 0.0357\n",
            "Epoch 4/100\n",
            "396/396 [==============================] - 76s 191ms/step - loss: 4.5559 - accuracy: 0.0377 - val_loss: 4.5064 - val_accuracy: 0.0452\n",
            "Epoch 5/100\n",
            "396/396 [==============================] - 73s 185ms/step - loss: 4.4402 - accuracy: 0.0510 - val_loss: 4.4135 - val_accuracy: 0.0560\n",
            "Epoch 6/100\n",
            "396/396 [==============================] - 75s 189ms/step - loss: 4.3219 - accuracy: 0.0676 - val_loss: 4.2868 - val_accuracy: 0.0488\n",
            "Epoch 7/100\n",
            "396/396 [==============================] - 73s 185ms/step - loss: 4.2087 - accuracy: 0.0762 - val_loss: 4.2112 - val_accuracy: 0.0679\n",
            "Epoch 8/100\n",
            "396/396 [==============================] - 74s 188ms/step - loss: 4.1017 - accuracy: 0.0933 - val_loss: 4.1336 - val_accuracy: 0.0881\n",
            "Epoch 9/100\n",
            "396/396 [==============================] - 69s 174ms/step - loss: 4.0094 - accuracy: 0.1011 - val_loss: 4.0462 - val_accuracy: 0.0988\n",
            "Epoch 10/100\n",
            "396/396 [==============================] - 68s 171ms/step - loss: 3.9094 - accuracy: 0.1177 - val_loss: 3.9576 - val_accuracy: 0.0929\n",
            "Epoch 11/100\n",
            "396/396 [==============================] - 73s 184ms/step - loss: 3.8218 - accuracy: 0.1314 - val_loss: 3.9477 - val_accuracy: 0.1095\n",
            "Epoch 12/100\n",
            "396/396 [==============================] - 70s 177ms/step - loss: 3.7470 - accuracy: 0.1441 - val_loss: 3.8617 - val_accuracy: 0.1238\n",
            "Epoch 13/100\n",
            "396/396 [==============================] - 75s 189ms/step - loss: 3.6858 - accuracy: 0.1514 - val_loss: 3.7948 - val_accuracy: 0.1310\n",
            "Epoch 14/100\n",
            "396/396 [==============================] - 71s 180ms/step - loss: 3.6144 - accuracy: 0.1571 - val_loss: 3.7611 - val_accuracy: 0.1369\n",
            "Epoch 15/100\n",
            "396/396 [==============================] - 73s 184ms/step - loss: 3.5418 - accuracy: 0.1702 - val_loss: 3.7112 - val_accuracy: 0.1286\n",
            "Epoch 16/100\n",
            "396/396 [==============================] - 65s 163ms/step - loss: 3.4960 - accuracy: 0.1841 - val_loss: 3.6696 - val_accuracy: 0.1321\n",
            "Epoch 17/100\n",
            "396/396 [==============================] - 73s 185ms/step - loss: 3.4288 - accuracy: 0.1887 - val_loss: 3.6084 - val_accuracy: 0.1357\n",
            "Epoch 18/100\n",
            "396/396 [==============================] - 75s 188ms/step - loss: 3.3835 - accuracy: 0.2016 - val_loss: 3.6044 - val_accuracy: 0.1488\n",
            "Epoch 19/100\n",
            "396/396 [==============================] - 69s 175ms/step - loss: 3.3452 - accuracy: 0.2079 - val_loss: 3.5795 - val_accuracy: 0.1536\n",
            "Epoch 20/100\n",
            "396/396 [==============================] - 72s 182ms/step - loss: 3.2886 - accuracy: 0.2186 - val_loss: 3.5511 - val_accuracy: 0.1667\n",
            "Epoch 21/100\n",
            "396/396 [==============================] - 72s 183ms/step - loss: 3.2675 - accuracy: 0.2239 - val_loss: 3.5266 - val_accuracy: 0.1714\n",
            "Epoch 22/100\n",
            "396/396 [==============================] - 74s 188ms/step - loss: 3.2169 - accuracy: 0.2195 - val_loss: 3.4948 - val_accuracy: 0.1702\n",
            "Epoch 23/100\n",
            "396/396 [==============================] - 69s 174ms/step - loss: 3.1876 - accuracy: 0.2414 - val_loss: 3.4780 - val_accuracy: 0.1690\n",
            "Epoch 24/100\n",
            "396/396 [==============================] - 70s 177ms/step - loss: 3.1493 - accuracy: 0.2428 - val_loss: 3.5002 - val_accuracy: 0.1571\n",
            "Epoch 25/100\n",
            "396/396 [==============================] - 73s 184ms/step - loss: 3.1230 - accuracy: 0.2443 - val_loss: 3.4139 - val_accuracy: 0.1845\n",
            "Epoch 26/100\n",
            "396/396 [==============================] - 72s 183ms/step - loss: 3.0980 - accuracy: 0.2414 - val_loss: 3.4573 - val_accuracy: 0.1714\n",
            "Epoch 27/100\n",
            "396/396 [==============================] - 74s 187ms/step - loss: 3.0625 - accuracy: 0.2591 - val_loss: 3.3671 - val_accuracy: 0.1869\n",
            "Epoch 28/100\n",
            "396/396 [==============================] - 72s 183ms/step - loss: 3.0384 - accuracy: 0.2544 - val_loss: 3.4192 - val_accuracy: 0.1702\n",
            "Epoch 29/100\n",
            "396/396 [==============================] - 70s 176ms/step - loss: 3.0179 - accuracy: 0.2650 - val_loss: 3.3847 - val_accuracy: 0.1714\n",
            "Epoch 30/100\n",
            "396/396 [==============================] - 71s 179ms/step - loss: 2.9781 - accuracy: 0.2650 - val_loss: 3.3872 - val_accuracy: 0.1821\n",
            "Epoch 31/100\n",
            "396/396 [==============================] - 75s 190ms/step - loss: 2.9743 - accuracy: 0.2605 - val_loss: 3.3485 - val_accuracy: 0.1750\n",
            "Epoch 32/100\n",
            "396/396 [==============================] - 72s 182ms/step - loss: 2.9460 - accuracy: 0.2725 - val_loss: 3.3233 - val_accuracy: 0.2036\n",
            "Epoch 33/100\n",
            "396/396 [==============================] - 60s 153ms/step - loss: 2.9074 - accuracy: 0.2719 - val_loss: 3.3626 - val_accuracy: 0.2000\n",
            "Epoch 34/100\n",
            "396/396 [==============================] - 75s 190ms/step - loss: 2.8885 - accuracy: 0.2858 - val_loss: 3.3489 - val_accuracy: 0.2048\n",
            "Epoch 35/100\n",
            "396/396 [==============================] - 75s 188ms/step - loss: 2.8721 - accuracy: 0.2877 - val_loss: 3.3279 - val_accuracy: 0.1869\n",
            "Epoch 36/100\n",
            "396/396 [==============================] - 67s 169ms/step - loss: 2.8511 - accuracy: 0.2974 - val_loss: 3.3362 - val_accuracy: 0.2024\n",
            "Epoch 37/100\n",
            "396/396 [==============================] - 67s 168ms/step - loss: 2.8326 - accuracy: 0.2965 - val_loss: 3.2897 - val_accuracy: 0.2167\n",
            "Epoch 38/100\n",
            "396/396 [==============================] - 64s 162ms/step - loss: 2.8223 - accuracy: 0.2965 - val_loss: 3.3240 - val_accuracy: 0.1976\n",
            "Epoch 39/100\n",
            "396/396 [==============================] - 75s 188ms/step - loss: 2.8025 - accuracy: 0.3012 - val_loss: 3.3251 - val_accuracy: 0.1893\n",
            "Epoch 40/100\n",
            "396/396 [==============================] - 72s 183ms/step - loss: 2.7773 - accuracy: 0.3003 - val_loss: 3.2931 - val_accuracy: 0.2119\n",
            "Epoch 41/100\n",
            "396/396 [==============================] - 74s 187ms/step - loss: 2.7445 - accuracy: 0.3117 - val_loss: 3.2558 - val_accuracy: 0.2000\n",
            "Epoch 42/100\n",
            "396/396 [==============================] - 70s 176ms/step - loss: 2.7453 - accuracy: 0.3107 - val_loss: 3.2512 - val_accuracy: 0.1964\n",
            "Epoch 43/100\n",
            "396/396 [==============================] - 63s 158ms/step - loss: 2.7185 - accuracy: 0.3250 - val_loss: 3.2326 - val_accuracy: 0.2190\n",
            "Epoch 44/100\n",
            "396/396 [==============================] - 70s 178ms/step - loss: 2.6881 - accuracy: 0.3214 - val_loss: 3.2218 - val_accuracy: 0.2226\n",
            "Epoch 45/100\n",
            "396/396 [==============================] - 60s 151ms/step - loss: 2.6548 - accuracy: 0.3283 - val_loss: 3.2814 - val_accuracy: 0.2321\n",
            "Epoch 46/100\n",
            "396/396 [==============================] - 62s 157ms/step - loss: 2.6580 - accuracy: 0.3277 - val_loss: 3.2621 - val_accuracy: 0.2071\n",
            "Epoch 47/100\n",
            "396/396 [==============================] - 73s 185ms/step - loss: 2.6484 - accuracy: 0.3317 - val_loss: 3.2387 - val_accuracy: 0.2083\n",
            "Epoch 48/100\n",
            "396/396 [==============================] - 74s 186ms/step - loss: 2.6250 - accuracy: 0.3338 - val_loss: 3.2449 - val_accuracy: 0.2143\n",
            "Epoch 49/100\n",
            "396/396 [==============================] - 73s 183ms/step - loss: 2.6021 - accuracy: 0.3450 - val_loss: 3.2032 - val_accuracy: 0.2048\n",
            "Epoch 50/100\n",
            "396/396 [==============================] - 73s 185ms/step - loss: 2.5963 - accuracy: 0.3463 - val_loss: 3.2785 - val_accuracy: 0.2024\n",
            "Epoch 51/100\n",
            "396/396 [==============================] - 74s 186ms/step - loss: 2.5829 - accuracy: 0.3439 - val_loss: 3.2145 - val_accuracy: 0.2071\n",
            "Epoch 52/100\n",
            "396/396 [==============================] - 74s 188ms/step - loss: 2.5618 - accuracy: 0.3509 - val_loss: 3.2205 - val_accuracy: 0.2262\n",
            "Epoch 53/100\n",
            "396/396 [==============================] - 72s 181ms/step - loss: 2.5473 - accuracy: 0.3561 - val_loss: 3.2645 - val_accuracy: 0.2143\n",
            "Epoch 54/100\n",
            "396/396 [==============================] - 67s 168ms/step - loss: 2.5423 - accuracy: 0.3580 - val_loss: 3.2407 - val_accuracy: 0.2250\n",
            "Epoch 55/100\n",
            "396/396 [==============================] - 67s 170ms/step - loss: 2.5331 - accuracy: 0.3530 - val_loss: 3.2490 - val_accuracy: 0.2179\n",
            "Epoch 56/100\n",
            "396/396 [==============================] - 70s 177ms/step - loss: 2.5044 - accuracy: 0.3589 - val_loss: 3.2562 - val_accuracy: 0.2143\n"
          ]
        },
        {
          "name": "stdout",
          "output_type": "stream",
          "text": [
            "Epoch 57/100\n",
            "396/396 [==============================] - 74s 187ms/step - loss: 2.5092 - accuracy: 0.3589 - val_loss: 3.2084 - val_accuracy: 0.2131\n",
            "Epoch 58/100\n",
            "396/396 [==============================] - 73s 185ms/step - loss: 2.4912 - accuracy: 0.3629 - val_loss: 3.2927 - val_accuracy: 0.2119\n",
            "Epoch 59/100\n",
            "396/396 [==============================] - 73s 184ms/step - loss: 2.4581 - accuracy: 0.3709 - val_loss: 3.1700 - val_accuracy: 0.2179\n",
            "Epoch 60/100\n",
            "396/396 [==============================] - 67s 170ms/step - loss: 2.4364 - accuracy: 0.3730 - val_loss: 3.2567 - val_accuracy: 0.2060\n",
            "Epoch 61/100\n",
            "396/396 [==============================] - 66s 166ms/step - loss: 2.4527 - accuracy: 0.3719 - val_loss: 3.1520 - val_accuracy: 0.2214\n",
            "Epoch 62/100\n",
            "396/396 [==============================] - 74s 186ms/step - loss: 2.4226 - accuracy: 0.3797 - val_loss: 3.2140 - val_accuracy: 0.2143\n",
            "Epoch 63/100\n",
            "396/396 [==============================] - 72s 183ms/step - loss: 2.4083 - accuracy: 0.3896 - val_loss: 3.1939 - val_accuracy: 0.2190\n",
            "Epoch 64/100\n",
            "396/396 [==============================] - 66s 168ms/step - loss: 2.3801 - accuracy: 0.3945 - val_loss: 3.2266 - val_accuracy: 0.2048\n",
            "Epoch 65/100\n",
            "396/396 [==============================] - 66s 165ms/step - loss: 2.3818 - accuracy: 0.3873 - val_loss: 3.2056 - val_accuracy: 0.2036\n",
            "Epoch 66/100\n",
            "396/396 [==============================] - 74s 187ms/step - loss: 2.3612 - accuracy: 0.3976 - val_loss: 3.2572 - val_accuracy: 0.2083\n",
            "Epoch 67/100\n",
            "396/396 [==============================] - 72s 182ms/step - loss: 2.3580 - accuracy: 0.3873 - val_loss: 3.1813 - val_accuracy: 0.2190\n",
            "Epoch 68/100\n",
            "396/396 [==============================] - 73s 185ms/step - loss: 2.3428 - accuracy: 0.3964 - val_loss: 3.1577 - val_accuracy: 0.2131\n",
            "Epoch 69/100\n",
            "396/396 [==============================] - 73s 183ms/step - loss: 2.3197 - accuracy: 0.4019 - val_loss: 3.1909 - val_accuracy: 0.2369\n",
            "Epoch 70/100\n",
            "396/396 [==============================] - 62s 158ms/step - loss: 2.3256 - accuracy: 0.4008 - val_loss: 3.1709 - val_accuracy: 0.2345\n",
            "Epoch 71/100\n",
            "396/396 [==============================] - 68s 171ms/step - loss: 2.3049 - accuracy: 0.3995 - val_loss: 3.2108 - val_accuracy: 0.2321\n",
            "Epoch 72/100\n",
            "396/396 [==============================] - 60s 153ms/step - loss: 2.2793 - accuracy: 0.4099 - val_loss: 3.2103 - val_accuracy: 0.2286\n",
            "Epoch 73/100\n",
            "396/396 [==============================] - 61s 153ms/step - loss: 2.2645 - accuracy: 0.4128 - val_loss: 3.1990 - val_accuracy: 0.2321\n",
            "Epoch 74/100\n",
            "396/396 [==============================] - 71s 180ms/step - loss: 2.2603 - accuracy: 0.4153 - val_loss: 3.1929 - val_accuracy: 0.2286\n",
            "Epoch 75/100\n",
            "396/396 [==============================] - 66s 166ms/step - loss: 2.2562 - accuracy: 0.4109 - val_loss: 3.2216 - val_accuracy: 0.2167\n",
            "Epoch 76/100\n",
            "396/396 [==============================] - 74s 187ms/step - loss: 2.2412 - accuracy: 0.4155 - val_loss: 3.1900 - val_accuracy: 0.2202\n",
            "Epoch 77/100\n",
            "396/396 [==============================] - 72s 181ms/step - loss: 2.2366 - accuracy: 0.4149 - val_loss: 3.2030 - val_accuracy: 0.2238\n",
            "Epoch 78/100\n",
            "396/396 [==============================] - 74s 187ms/step - loss: 2.2108 - accuracy: 0.4278 - val_loss: 3.1528 - val_accuracy: 0.2262\n",
            "Epoch 79/100\n",
            "396/396 [==============================] - 73s 183ms/step - loss: 2.2144 - accuracy: 0.4290 - val_loss: 3.1740 - val_accuracy: 0.2333\n",
            "Epoch 80/100\n",
            "396/396 [==============================] - 74s 187ms/step - loss: 2.1993 - accuracy: 0.4290 - val_loss: 3.2180 - val_accuracy: 0.2440\n",
            "Epoch 81/100\n",
            "396/396 [==============================] - 72s 182ms/step - loss: 2.2000 - accuracy: 0.4271 - val_loss: 3.1690 - val_accuracy: 0.2286\n",
            "Epoch 82/100\n",
            "396/396 [==============================] - 72s 182ms/step - loss: 2.1537 - accuracy: 0.4412 - val_loss: 3.2422 - val_accuracy: 0.2357\n",
            "Epoch 83/100\n",
            "396/396 [==============================] - 71s 180ms/step - loss: 2.1630 - accuracy: 0.4396 - val_loss: 3.1857 - val_accuracy: 0.2226\n",
            "Epoch 84/100\n",
            "396/396 [==============================] - 60s 152ms/step - loss: 2.1678 - accuracy: 0.4345 - val_loss: 3.1850 - val_accuracy: 0.2393\n",
            "Epoch 85/100\n",
            "396/396 [==============================] - 68s 171ms/step - loss: 2.1598 - accuracy: 0.4290 - val_loss: 3.2323 - val_accuracy: 0.2167\n",
            "Epoch 86/100\n",
            "396/396 [==============================] - 73s 184ms/step - loss: 2.1256 - accuracy: 0.4465 - val_loss: 3.2170 - val_accuracy: 0.2369\n",
            "Epoch 87/100\n",
            "396/396 [==============================] - 72s 183ms/step - loss: 2.0929 - accuracy: 0.4575 - val_loss: 3.2361 - val_accuracy: 0.2310\n",
            "Epoch 88/100\n",
            "396/396 [==============================] - 75s 189ms/step - loss: 2.1301 - accuracy: 0.4383 - val_loss: 3.2398 - val_accuracy: 0.2298\n",
            "Epoch 89/100\n",
            "396/396 [==============================] - 74s 187ms/step - loss: 2.0905 - accuracy: 0.4520 - val_loss: 3.2107 - val_accuracy: 0.2405\n",
            "Epoch 90/100\n",
            "396/396 [==============================] - 72s 182ms/step - loss: 2.0804 - accuracy: 0.4598 - val_loss: 3.1594 - val_accuracy: 0.2250\n",
            "Epoch 91/100\n",
            "396/396 [==============================] - 63s 159ms/step - loss: 2.0892 - accuracy: 0.4505 - val_loss: 3.2180 - val_accuracy: 0.2333\n",
            "Epoch 92/100\n",
            "396/396 [==============================] - 62s 156ms/step - loss: 2.0510 - accuracy: 0.4600 - val_loss: 3.2318 - val_accuracy: 0.2250\n",
            "Epoch 93/100\n",
            "396/396 [==============================] - 74s 187ms/step - loss: 2.0473 - accuracy: 0.4640 - val_loss: 3.2402 - val_accuracy: 0.2250\n",
            "Epoch 94/100\n",
            "396/396 [==============================] - 67s 169ms/step - loss: 2.0241 - accuracy: 0.4733 - val_loss: 3.2235 - val_accuracy: 0.2381\n",
            "Epoch 95/100\n",
            "396/396 [==============================] - 67s 169ms/step - loss: 2.0258 - accuracy: 0.4661 - val_loss: 3.2342 - val_accuracy: 0.2417\n",
            "Epoch 96/100\n",
            "396/396 [==============================] - 67s 169ms/step - loss: 2.0093 - accuracy: 0.4711 - val_loss: 3.2018 - val_accuracy: 0.2393\n",
            "Epoch 97/100\n",
            "396/396 [==============================] - 74s 188ms/step - loss: 2.0014 - accuracy: 0.4775 - val_loss: 3.2268 - val_accuracy: 0.2262\n",
            "Epoch 98/100\n",
            "396/396 [==============================] - 71s 180ms/step - loss: 1.9920 - accuracy: 0.4718 - val_loss: 3.2782 - val_accuracy: 0.2202\n",
            "Epoch 99/100\n",
            "396/396 [==============================] - 73s 185ms/step - loss: 1.9743 - accuracy: 0.4781 - val_loss: 3.2593 - val_accuracy: 0.2298\n",
            "Epoch 100/100\n",
            "396/396 [==============================] - 73s 184ms/step - loss: 1.9955 - accuracy: 0.4741 - val_loss: 3.2806 - val_accuracy: 0.2274\n"
          ]
        }
      ],
      "source": [
        "# Train the model\n",
        "batch_size = BATCH_SIZE\n",
        "train_steps_per_epoch = x_train.shape[0] // batch_size\n",
        "val_steps_per_epoch = x_val.shape[0] // batch_size\n",
        "\n",
        "history = model.fit_generator(train_generator,\n",
        "                              steps_per_epoch=train_steps_per_epoch,\n",
        "                              validation_data=val_generator,\n",
        "                              validation_steps=val_steps_per_epoch,\n",
        "                              epochs=100,\n",
        "                              verbose=1)"
      ]
    },
    {
      "cell_type": "code",
      "execution_count": null,
      "id": "ed82e021",
      "metadata": {
        "id": "ed82e021"
      },
      "outputs": [],
      "source": [
        "model.save('dog_breed_vgg16.hdf5')"
      ]
    },
    {
      "cell_type": "code",
      "execution_count": null,
      "id": "6febe275",
      "metadata": {
        "id": "6febe275",
        "outputId": "d314ae57-a499-46d2-9e49-fda48ac1edc0"
      },
      "outputs": [
        {
          "data": {
            "image/png": "[encoded data removed]",
            "text/plain": [
              "<Figure size 7200x360 with 2 Axes>"
            ]
          },
          "metadata": {
            "needs_background": "light"
          },
          "output_type": "display_data"
        }
      ],
      "source": [
        "f, (ax1, ax2) = plt.subplots(1, 2, figsize=(100, 5))\n",
        "t = f.suptitle('Deep Neural Net Performance', fontsize=12)\n",
        "f.subplots_adjust(top=0.85, wspace=0.7)\n",
        "\n",
        "epochs = list(range(1,101))\n",
        "ax1.plot(epochs, history.history['accuracy'], label='Train Accuracy')\n",
        "ax1.plot(epochs, history.history['val_accuracy'], label='Validation Accuracy')\n",
        "ax1.set_xticks(epochs)\n",
        "ax1.set_ylabel('Accuracy Value')\n",
        "ax1.set_xlabel('Epoch')\n",
        "ax1.set_title('Accuracy')\n",
        "l1 = ax1.legend(loc=\"best\")\n",
        "\n",
        "ax2.plot(epochs, history.history['loss'], label='Train Loss')\n",
        "ax2.plot(epochs, history.history['val_loss'], label='Validation Loss')\n",
        "ax2.set_xticks(epochs)\n",
        "ax2.set_ylabel('Loss Value')\n",
        "ax2.set_xlabel('Epoch')\n",
        "ax2.set_title('Loss')\n",
        "l2 = ax2.legend(loc=\"best\")"
      ]
    },
    {
      "cell_type": "code",
      "execution_count": null,
      "id": "6fe2e20a",
      "metadata": {
        "id": "6fe2e20a"
      },
      "outputs": [],
      "source": [
        "# scaling test features\n",
        "x_test /= 255."
      ]
    },
    {
      "cell_type": "code",
      "execution_count": null,
      "id": "8206c6d6",
      "metadata": {
        "id": "8206c6d6",
        "outputId": "5f68e0a4-4bf3-47cf-a3c7-0c9daa985944"
      },
      "outputs": [
        {
          "data": {
            "text/plain": [
              "array([[2.9691329e-08, 1.3625466e-06, 4.8062710e-11, ..., 8.0338559e-06,\n",
              "        3.2951564e-05, 7.7023733e-06],\n",
              "       [1.1030387e-03, 3.1811669e-05, 1.2982225e-03, ..., 1.9609257e-04,\n",
              "        4.4987244e-03, 2.2704108e-03],\n",
              "       [3.6927654e-06, 1.2125850e-05, 5.5630954e-07, ..., 6.4632630e-05,\n",
              "        8.4085632e-06, 6.2755845e-07],\n",
              "       ...,\n",
              "       [1.5924714e-05, 7.9641563e-07, 3.8135116e-07, ..., 5.1637919e-04,\n",
              "        3.1283309e-04, 2.8686582e-05],\n",
              "       [4.4828258e-04, 5.0586870e-05, 7.8194548e-04, ..., 3.2465401e-04,\n",
              "        2.5636451e-02, 4.3725865e-03],\n",
              "       [1.0518615e-02, 3.0662485e-03, 2.4131659e-04, ..., 1.1029525e-02,\n",
              "        3.8735941e-03, 3.3310044e-04]], dtype=float32)"
            ]
          },
          "execution_count": 32,
          "metadata": {},
          "output_type": "execute_result"
        }
      ],
      "source": [
        "test_predictions = model.predict(x_test)\n",
        "test_predictions"
      ]
    },
    {
      "cell_type": "code",
      "execution_count": null,
      "id": "4bc3a673",
      "metadata": {
        "id": "4bc3a673",
        "outputId": "ddbacc37-eee6-4fbe-8acd-53fa996f96fb"
      },
      "outputs": [
        {
          "data": {
            "text/html": [
              "<div>\n",
              "<style scoped>\n",
              "    .dataframe tbody tr th:only-of-type {\n",
              "        vertical-align: middle;\n",
              "    }\n",
              "\n",
              "    .dataframe tbody tr th {\n",
              "        vertical-align: top;\n",
              "    }\n",
              "\n",
              "    .dataframe thead th {\n",
              "        text-align: right;\n",
              "    }\n",
              "</style>\n",
              "<table border=\"1\" class=\"dataframe\">\n",
              "  <thead>\n",
              "    <tr style=\"text-align: right;\">\n",
              "      <th></th>\n",
              "      <th>affenpinscher</th>\n",
              "      <th>afghan_hound</th>\n",
              "      <th>african_hunting_dog</th>\n",
              "      <th>airedale</th>\n",
              "      <th>american_staffordshire_terrier</th>\n",
              "      <th>appenzeller</th>\n",
              "      <th>australian_terrier</th>\n",
              "      <th>basenji</th>\n",
              "      <th>basset</th>\n",
              "      <th>beagle</th>\n",
              "      <th>...</th>\n",
              "      <th>toy_poodle</th>\n",
              "      <th>toy_terrier</th>\n",
              "      <th>vizsla</th>\n",
              "      <th>walker_hound</th>\n",
              "      <th>weimaraner</th>\n",
              "      <th>welsh_springer_spaniel</th>\n",
              "      <th>west_highland_white_terrier</th>\n",
              "      <th>whippet</th>\n",
              "      <th>wire-haired_fox_terrier</th>\n",
              "      <th>yorkshire_terrier</th>\n",
              "    </tr>\n",
              "  </thead>\n",
              "  <tbody>\n",
              "    <tr>\n",
              "      <th>0</th>\n",
              "      <td>2.969133e-08</td>\n",
              "      <td>1.362547e-06</td>\n",
              "      <td>4.806271e-11</td>\n",
              "      <td>1.267863e-07</td>\n",
              "      <td>7.690574e-07</td>\n",
              "      <td>7.737855e-13</td>\n",
              "      <td>2.808119e-07</td>\n",
              "      <td>2.700036e-11</td>\n",
              "      <td>5.508195e-07</td>\n",
              "      <td>6.643033e-10</td>\n",
              "      <td>...</td>\n",
              "      <td>1.009301e-03</td>\n",
              "      <td>9.120470e-12</td>\n",
              "      <td>7.597460e-09</td>\n",
              "      <td>5.758158e-08</td>\n",
              "      <td>0.000003</td>\n",
              "      <td>7.997503e-07</td>\n",
              "      <td>2.398198e-03</td>\n",
              "      <td>0.000008</td>\n",
              "      <td>0.000033</td>\n",
              "      <td>7.702373e-06</td>\n",
              "    </tr>\n",
              "    <tr>\n",
              "      <th>1</th>\n",
              "      <td>1.103039e-03</td>\n",
              "      <td>3.181167e-05</td>\n",
              "      <td>1.298222e-03</td>\n",
              "      <td>2.654927e-03</td>\n",
              "      <td>3.257902e-04</td>\n",
              "      <td>1.575598e-02</td>\n",
              "      <td>7.133652e-04</td>\n",
              "      <td>7.114642e-05</td>\n",
              "      <td>5.493257e-03</td>\n",
              "      <td>1.020464e-03</td>\n",
              "      <td>...</td>\n",
              "      <td>2.996683e-03</td>\n",
              "      <td>1.267502e-04</td>\n",
              "      <td>2.529905e-06</td>\n",
              "      <td>1.828391e-04</td>\n",
              "      <td>0.000028</td>\n",
              "      <td>3.348508e-02</td>\n",
              "      <td>3.046998e-04</td>\n",
              "      <td>0.000196</td>\n",
              "      <td>0.004499</td>\n",
              "      <td>2.270411e-03</td>\n",
              "    </tr>\n",
              "    <tr>\n",
              "      <th>2</th>\n",
              "      <td>3.692765e-06</td>\n",
              "      <td>1.212585e-05</td>\n",
              "      <td>5.563095e-07</td>\n",
              "      <td>2.005124e-03</td>\n",
              "      <td>1.281976e-02</td>\n",
              "      <td>5.756500e-05</td>\n",
              "      <td>7.581482e-07</td>\n",
              "      <td>5.326119e-04</td>\n",
              "      <td>1.022184e-03</td>\n",
              "      <td>6.429831e-05</td>\n",
              "      <td>...</td>\n",
              "      <td>4.986998e-05</td>\n",
              "      <td>6.626423e-05</td>\n",
              "      <td>8.359418e-02</td>\n",
              "      <td>4.244638e-05</td>\n",
              "      <td>0.000537</td>\n",
              "      <td>1.204811e-05</td>\n",
              "      <td>5.242180e-08</td>\n",
              "      <td>0.000065</td>\n",
              "      <td>0.000008</td>\n",
              "      <td>6.275584e-07</td>\n",
              "    </tr>\n",
              "    <tr>\n",
              "      <th>3</th>\n",
              "      <td>1.831375e-07</td>\n",
              "      <td>4.104099e-07</td>\n",
              "      <td>8.748649e-09</td>\n",
              "      <td>9.972679e-07</td>\n",
              "      <td>6.806584e-05</td>\n",
              "      <td>2.602654e-06</td>\n",
              "      <td>4.514319e-07</td>\n",
              "      <td>3.597978e-02</td>\n",
              "      <td>1.042610e-03</td>\n",
              "      <td>2.552948e-04</td>\n",
              "      <td>...</td>\n",
              "      <td>2.897812e-07</td>\n",
              "      <td>6.087481e-01</td>\n",
              "      <td>2.956929e-05</td>\n",
              "      <td>1.148748e-03</td>\n",
              "      <td>0.000119</td>\n",
              "      <td>1.510238e-05</td>\n",
              "      <td>4.825148e-06</td>\n",
              "      <td>0.002491</td>\n",
              "      <td>0.000088</td>\n",
              "      <td>1.415070e-06</td>\n",
              "    </tr>\n",
              "    <tr>\n",
              "      <th>4</th>\n",
              "      <td>1.037501e-02</td>\n",
              "      <td>2.621921e-03</td>\n",
              "      <td>2.177298e-03</td>\n",
              "      <td>1.632619e-03</td>\n",
              "      <td>1.479872e-03</td>\n",
              "      <td>7.259999e-05</td>\n",
              "      <td>3.707866e-03</td>\n",
              "      <td>2.711415e-03</td>\n",
              "      <td>6.728501e-04</td>\n",
              "      <td>9.926083e-05</td>\n",
              "      <td>...</td>\n",
              "      <td>3.032070e-04</td>\n",
              "      <td>6.991434e-05</td>\n",
              "      <td>7.337664e-04</td>\n",
              "      <td>2.891291e-06</td>\n",
              "      <td>0.002995</td>\n",
              "      <td>1.533476e-03</td>\n",
              "      <td>1.160695e-03</td>\n",
              "      <td>0.004766</td>\n",
              "      <td>0.000273</td>\n",
              "      <td>3.604832e-02</td>\n",
              "    </tr>\n",
              "  </tbody>\n",
              "</table>\n",
              "<p>5 rows × 120 columns</p>\n",
              "</div>"
            ],
            "text/plain": [
              "   affenpinscher  afghan_hound  african_hunting_dog      airedale  \\\n",
              "0   2.969133e-08  1.362547e-06         4.806271e-11  1.267863e-07   \n",
              "1   1.103039e-03  3.181167e-05         1.298222e-03  2.654927e-03   \n",
              "2   3.692765e-06  1.212585e-05         5.563095e-07  2.005124e-03   \n",
              "3   1.831375e-07  4.104099e-07         8.748649e-09  9.972679e-07   \n",
              "4   1.037501e-02  2.621921e-03         2.177298e-03  1.632619e-03   \n",
              "\n",
              "   american_staffordshire_terrier   appenzeller  australian_terrier  \\\n",
              "0                    7.690574e-07  7.737855e-13        2.808119e-07   \n",
              "1                    3.257902e-04  1.575598e-02        7.133652e-04   \n",
              "2                    1.281976e-02  5.756500e-05        7.581482e-07   \n",
              "3                    6.806584e-05  2.602654e-06        4.514319e-07   \n",
              "4                    1.479872e-03  7.259999e-05        3.707866e-03   \n",
              "\n",
              "        basenji        basset        beagle  ...    toy_poodle   toy_terrier  \\\n",
              "0  2.700036e-11  5.508195e-07  6.643033e-10  ...  1.009301e-03  9.120470e-12   \n",
              "1  7.114642e-05  5.493257e-03  1.020464e-03  ...  2.996683e-03  1.267502e-04   \n",
              "2  5.326119e-04  1.022184e-03  6.429831e-05  ...  4.986998e-05  6.626423e-05   \n",
              "3  3.597978e-02  1.042610e-03  2.552948e-04  ...  2.897812e-07  6.087481e-01   \n",
              "4  2.711415e-03  6.728501e-04  9.926083e-05  ...  3.032070e-04  6.991434e-05   \n",
              "\n",
              "         vizsla  walker_hound  weimaraner  welsh_springer_spaniel  \\\n",
              "0  7.597460e-09  5.758158e-08    0.000003            7.997503e-07   \n",
              "1  2.529905e-06  1.828391e-04    0.000028            3.348508e-02   \n",
              "2  8.359418e-02  4.244638e-05    0.000537            1.204811e-05   \n",
              "3  2.956929e-05  1.148748e-03    0.000119            1.510238e-05   \n",
              "4  7.337664e-04  2.891291e-06    0.002995            1.533476e-03   \n",
              "\n",
              "   west_highland_white_terrier   whippet  wire-haired_fox_terrier  \\\n",
              "0                 2.398198e-03  0.000008                 0.000033   \n",
              "1                 3.046998e-04  0.000196                 0.004499   \n",
              "2                 5.242180e-08  0.000065                 0.000008   \n",
              "3                 4.825148e-06  0.002491                 0.000088   \n",
              "4                 1.160695e-03  0.004766                 0.000273   \n",
              "\n",
              "   yorkshire_terrier  \n",
              "0       7.702373e-06  \n",
              "1       2.270411e-03  \n",
              "2       6.275584e-07  \n",
              "3       1.415070e-06  \n",
              "4       3.604832e-02  \n",
              "\n",
              "[5 rows x 120 columns]"
            ]
          },
          "execution_count": 33,
          "metadata": {},
          "output_type": "execute_result"
        }
      ],
      "source": [
        "predictions = pd.DataFrame(test_predictions, columns=labels_ohe_names.columns)\n",
        "predictions.head()"
      ]
    },
    {
      "cell_type": "code",
      "execution_count": null,
      "id": "90ca9226",
      "metadata": {
        "id": "90ca9226",
        "outputId": "433bd9aa-119d-4cfb-c7ec-57b890cf9c18"
      },
      "outputs": [
        {
          "data": {
            "text/plain": [
              "['maltese_dog',\n",
              " 'miniature_schnauzer',\n",
              " 'black-and-tan_coonhound',\n",
              " 'toy_terrier',\n",
              " 'cairn',\n",
              " 'soft-coated_wheaten_terrier',\n",
              " 'maltese_dog',\n",
              " 'otterhound',\n",
              " 'mexican_hairless',\n",
              " 'great_pyrenees']"
            ]
          },
          "execution_count": 34,
          "metadata": {},
          "output_type": "execute_result"
        }
      ],
      "source": [
        "test_labels = list(y_test)\n",
        "predictions = list(predictions.idxmax(axis=1))\n",
        "predictions[:10]"
      ]
    },
    {
      "cell_type": "code",
      "execution_count": null,
      "id": "c0d41d9b",
      "metadata": {
        "id": "c0d41d9b"
      },
      "outputs": [],
      "source": [
        "#Making prediction\n",
        "y_pred=model.predict(x_test)\n",
        "y_true=np.argmax(y_test_ohe,axis=1)"
      ]
    },
    {
      "cell_type": "code",
      "execution_count": null,
      "id": "aabcf50d",
      "metadata": {
        "id": "aabcf50d"
      },
      "outputs": [],
      "source": [
        "loss, accuracy = model.evaluate(x_test, y_test_ohe, verbose=0)"
      ]
    },
    {
      "cell_type": "code",
      "execution_count": null,
      "id": "b9b451c5",
      "metadata": {
        "id": "b9b451c5",
        "outputId": "b2e9a3b4-6a14-4f3c-fe72-3385afdd6c79"
      },
      "outputs": [
        {
          "name": "stdout",
          "output_type": "stream",
          "text": [
            "3.1049318313598633\n",
            "0.2633333206176758\n"
          ]
        }
      ],
      "source": [
        "print(loss)\n",
        "print(accuracy)"
      ]
    },
    {
      "cell_type": "code",
      "execution_count": null,
      "id": "4ae16c9f",
      "metadata": {
        "id": "4ae16c9f",
        "outputId": "bdea32c7-b0c7-4bdf-8401-9a15a3ce1d82"
      },
      "outputs": [
        {
          "name": "stdout",
          "output_type": "stream",
          "text": [
            "38/38 [==============================] - 4s 104ms/step\n",
            "              precision    recall  f1-score   support\n",
            "\n",
            "           0       0.29      0.32      0.30        19\n",
            "           1       0.53      0.32      0.40        28\n",
            "           2       0.62      0.68      0.65        19\n",
            "           3       0.19      0.12      0.15        25\n",
            "           4       0.20      0.31      0.24        16\n",
            "           5       0.27      0.21      0.24        19\n",
            "           6       0.23      0.12      0.15        26\n",
            "           7       0.12      0.25      0.16        24\n",
            "           8       0.08      0.28      0.12        18\n",
            "           9       0.25      0.17      0.20        24\n",
            "          10       0.28      0.50      0.35        22\n",
            "          11       0.45      0.19      0.27        26\n",
            "          12       0.12      0.11      0.12        18\n",
            "          13       0.48      0.46      0.47        24\n",
            "          14       0.29      0.29      0.29        21\n",
            "          15       0.60      0.33      0.43        18\n",
            "          16       0.29      0.42      0.34        19\n",
            "          17       0.40      0.08      0.14        24\n",
            "          18       0.30      0.19      0.23        16\n",
            "          19       0.24      0.20      0.22        20\n",
            "          20       0.21      0.40      0.27        20\n",
            "          21       0.22      0.11      0.15        18\n",
            "          22       0.45      0.33      0.38        15\n",
            "          23       0.00      0.00      0.00        14\n",
            "          24       0.13      0.12      0.13        16\n",
            "          25       0.36      0.29      0.32        17\n",
            "          26       0.13      0.16      0.14        25\n",
            "          27       0.11      0.12      0.11        17\n",
            "          28       0.07      0.15      0.10        20\n",
            "          29       0.08      0.06      0.07        17\n",
            "          30       0.27      0.26      0.27        23\n",
            "          31       0.22      0.45      0.30        20\n",
            "          32       0.44      0.22      0.30        18\n",
            "          33       0.00      0.00      0.00        20\n",
            "          34       0.29      0.35      0.32        17\n",
            "          35       0.30      0.55      0.39        20\n",
            "          36       0.24      0.58      0.34        19\n",
            "          37       0.29      0.39      0.33        18\n",
            "          38       0.08      0.05      0.06        19\n",
            "          39       0.29      0.50      0.37        20\n",
            "          40       0.08      0.05      0.06        19\n",
            "          41       0.00      0.00      0.00        16\n",
            "          42       0.41      0.26      0.32        27\n",
            "          43       0.10      0.07      0.08        14\n",
            "          44       0.21      0.27      0.24        15\n",
            "          45       0.23      0.31      0.26        16\n",
            "          46       0.00      0.00      0.00        16\n",
            "          47       0.08      0.12      0.10        16\n",
            "          48       0.00      0.00      0.00        17\n",
            "          49       0.50      0.19      0.27        16\n",
            "          50       0.22      0.11      0.14        19\n",
            "          51       0.40      0.12      0.19        16\n",
            "          52       0.13      0.12      0.12        25\n",
            "          53       0.14      0.05      0.07        20\n",
            "          54       0.35      0.40      0.37        20\n",
            "          55       0.35      0.38      0.36        21\n",
            "          56       0.27      0.35      0.30        20\n",
            "          57       0.25      0.11      0.15        19\n",
            "          58       0.13      0.11      0.12        19\n",
            "          59       0.16      0.12      0.13        26\n",
            "          60       0.21      0.14      0.17        22\n",
            "          61       0.43      0.64      0.52        25\n",
            "          62       0.64      0.41      0.50        17\n",
            "          63       0.00      0.00      0.00        20\n",
            "          64       0.38      0.58      0.46        19\n",
            "          65       0.19      0.31      0.24        16\n",
            "          66       0.33      0.25      0.29        16\n",
            "          67       0.50      0.32      0.39        19\n",
            "          68       0.24      0.20      0.22        25\n",
            "          69       0.27      0.35      0.30        23\n",
            "          70       0.20      0.10      0.13        21\n",
            "          71       0.27      0.14      0.19        21\n",
            "          72       0.27      0.32      0.29        19\n",
            "          73       0.26      0.36      0.30        28\n",
            "          74       0.32      0.58      0.42        19\n",
            "          75       0.16      0.22      0.19        23\n",
            "          76       0.43      0.15      0.22        20\n",
            "          77       0.29      0.11      0.15        19\n",
            "          78       0.28      0.24      0.26        21\n",
            "          79       0.22      0.10      0.13        21\n",
            "          80       0.35      0.25      0.29        24\n",
            "          81       0.35      0.32      0.33        19\n",
            "          82       0.21      0.17      0.19        23\n",
            "          83       0.33      0.50      0.40        14\n",
            "          84       0.47      0.30      0.37        23\n",
            "          85       0.50      0.21      0.30        19\n",
            "          86       0.35      0.30      0.33        23\n",
            "          87       0.71      0.41      0.52        29\n",
            "          88       0.19      0.23      0.21        22\n",
            "          89       0.00      0.00      0.00        18\n",
            "          90       0.20      0.29      0.24        21\n",
            "          91       0.29      0.47      0.36        15\n",
            "          92       0.31      0.26      0.29        19\n",
            "          93       0.38      0.21      0.27        24\n",
            "          94       0.35      0.36      0.35        25\n",
            "          95       0.30      0.47      0.37        19\n",
            "          96       0.41      0.61      0.49        18\n",
            "          97       0.41      0.40      0.41        30\n",
            "          98       0.25      0.30      0.27        20\n",
            "          99       0.33      0.12      0.17        17\n",
            "         100       0.18      0.23      0.20        26\n",
            "         101       0.31      0.35      0.33        23\n",
            "         102       0.28      0.33      0.30        21\n",
            "         103       0.15      0.13      0.14        15\n",
            "         104       0.12      0.16      0.14        19\n",
            "         105       0.06      0.05      0.06        19\n",
            "         106       0.33      0.06      0.10        17\n",
            "         107       0.50      0.53      0.51        19\n",
            "         108       0.50      0.27      0.35        15\n",
            "         109       0.14      0.27      0.18        26\n",
            "         110       0.43      0.16      0.23        19\n",
            "         111       0.36      0.28      0.31        18\n",
            "         112       0.00      0.00      0.00        14\n",
            "         113       0.38      0.20      0.26        15\n",
            "         114       0.34      0.55      0.42        20\n",
            "         115       0.20      0.10      0.13        20\n",
            "         116       0.43      0.67      0.52        18\n",
            "         117       0.38      0.45      0.42        22\n",
            "         118       0.26      0.48      0.33        21\n",
            "         119       0.23      0.43      0.30        21\n",
            "\n",
            "    accuracy                           0.26      2400\n",
            "   macro avg       0.27      0.26      0.25      2400\n",
            "weighted avg       0.28      0.26      0.25      2400\n",
            "\n"
          ]
        }
      ],
      "source": [
        "from sklearn.metrics import classification_report\n",
        "\n",
        "y_pred = model.predict(x_test, batch_size=64, verbose=1)\n",
        "y_pred_bool = np.argmax(y_pred, axis=1)\n",
        "#target_names=['class 0', 'class 1', 'class 2','class 3','class 4']\n",
        "#print(classification_report(y_true, y_pred_bool, target_names=target_names))\n",
        "print(classification_report(y_true, y_pred_bool))"
      ]
    },
    {
      "cell_type": "code",
      "execution_count": null,
      "id": "35a4ed1b",
      "metadata": {
        "id": "35a4ed1b"
      },
      "outputs": [],
      "source": [
        "#Defining function for confusion matrix plot\n",
        "def plot_confusion_matrix(y_true, y_pred, classes,\n",
        "                          normalize=False,\n",
        "                          title=None,\n",
        "                          cmap=plt.cm.Blues):\n",
        "\n",
        "    if not title:\n",
        "        if normalize:\n",
        "            title = 'Normalized confusion matrix'\n",
        "        else:\n",
        "            title = 'Confusion matrix, without normalization'\n",
        "\n",
        "    #Compute confusion matrix\n",
        "    cm = confusion_matrix(y_true, y_pred)\n",
        "    if normalize:\n",
        "        cm = cm.astype('float') / cm.sum(axis=1)[:, np.newaxis]\n",
        "        print(\"Normalized confusion matrix\")\n",
        "    else:\n",
        "        print('Confusion matrix, without normalization')\n",
        "\n",
        "#print(cm)\n",
        "\n",
        "    fig, ax = plt.subplots(figsize=(7,7))\n",
        "    im = ax.imshow(cm, interpolation='nearest', cmap=cmap)\n",
        "    ax.figure.colorbar(im, ax=ax)\n",
        "    # We want to show all ticks...\n",
        "    ax.set(xticks=np.arange(cm.shape[1]),\n",
        "           yticks=np.arange(cm.shape[0]),\n",
        "           # ... and label them with the respective list entries\n",
        "           xticklabels=classes, yticklabels=classes,\n",
        "           title=title,\n",
        "           ylabel='True label',\n",
        "           xlabel='Predicted label')\n",
        "\n",
        "\n",
        "    #Rotate the tick labels and set their alignment.\n",
        "    plt.setp(ax.get_xticklabels(), rotation=45, ha=\"right\",\n",
        "             rotation_mode=\"anchor\")\n",
        "    # Loop over data dimensions and create text annotations.\n",
        "    fmt = '.2f' if normalize else 'd'\n",
        "    thresh = cm.max() / 2.\n",
        "    for i in range(cm.shape[0]):\n",
        "        for j in range(cm.shape[1]):\n",
        "            ax.text(j, i, format(cm[i, j], fmt),\n",
        "                    ha=\"center\", va=\"center\",\n",
        "                    color=\"white\" if cm[i, j] > thresh else \"black\")\n",
        "    fig.tight_layout()\n",
        "    return ax\n",
        "\n",
        "np.set_printoptions(precision=2)"
      ]
    },
    {
      "cell_type": "code",
      "execution_count": null,
      "id": "994fc258",
      "metadata": {
        "id": "994fc258"
      },
      "outputs": [],
      "source": [
        "#Plotting the confusion matrix\n",
        "from sklearn.metrics import confusion_matrix\n",
        "confusion_mtx = confusion_matrix(y_true, y_pred_bool)"
      ]
    },
    {
      "cell_type": "code",
      "execution_count": null,
      "id": "456309f8",
      "metadata": {
        "id": "456309f8",
        "outputId": "8c15b94e-cec4-4124-b004-41bdd2c7b8d9"
      },
      "outputs": [
        {
          "ename": "TypeError",
          "evalue": "plot_confusion_matrix() missing 1 required positional argument: 'classes'",
          "output_type": "error",
          "traceback": [
            "\u001b[0;31m---------------------------------------------------------------------------\u001b[0m",
            "\u001b[0;31mTypeError\u001b[0m                                 Traceback (most recent call last)",
            "\u001b[0;32m<ipython-input-51-c90cb9eebd15>\u001b[0m in \u001b[0;36m<module>\u001b[0;34m\u001b[0m\n\u001b[1;32m      3\u001b[0m \u001b[0;34m\u001b[0m\u001b[0m\n\u001b[1;32m      4\u001b[0m \u001b[0;31m# Plotting non-normalized confusion matrix\u001b[0m\u001b[0;34m\u001b[0m\u001b[0;34m\u001b[0m\u001b[0;34m\u001b[0m\u001b[0m\n\u001b[0;32m----> 5\u001b[0;31m \u001b[0mplot_confusion_matrix\u001b[0m\u001b[0;34m(\u001b[0m\u001b[0my_true\u001b[0m\u001b[0;34m,\u001b[0m \u001b[0my_pred_bool\u001b[0m\u001b[0;34m)\u001b[0m\u001b[0;31m#, classes = class_names, title='Confusion matrix, without normalization')\u001b[0m\u001b[0;34m\u001b[0m\u001b[0;34m\u001b[0m\u001b[0m\n\u001b[0m",
            "\u001b[0;31mTypeError\u001b[0m: plot_confusion_matrix() missing 1 required positional argument: 'classes'"
          ]
        }
      ],
      "source": [
        "#Defining the class labels\n",
        "class_names=[1,2,3,4,5,6,7,8,9,10,11,12,13,14,15,16,17,18,19,20,21,22,23,24,25,26,27,28,29,30,31,32,34,35,36,37,38,39,40,41,42,43,44,45,]\n",
        "\n",
        "# Plotting non-normalized confusion matrix\n",
        "plot_confusion_matrix(y_true, y_pred_bool, classes = class_names, title='Confusion matrix, without normalization')\n"
      ]
    },
    {
      "cell_type": "code",
      "execution_count": null,
      "id": "8f1c69b5",
      "metadata": {
        "id": "8f1c69b5"
      },
      "outputs": [],
      "source": [
        ""
      ]
    }
  ],
  "metadata": {
    "kernelspec": {
      "display_name": "Python 3",
      "language": "python",
      "name": "python3"
    },
    "language_info": {
      "codemirror_mode": {
        "name": "ipython",
        "version": 3
      },
      "file_extension": ".py",
      "mimetype": "text/x-python",
      "name": "python",
      "nbconvert_exporter": "python",
      "pygments_lexer": "ipython3",
      "version": "3.6.8"
    },
    "colab": {
      "name": "dog_breed_vgg16.ipynb",
      "provenance": []
    }
  },
  "nbformat": 4,
  "nbformat_minor": 5
}