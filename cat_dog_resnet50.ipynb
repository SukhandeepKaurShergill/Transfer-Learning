{
 "cells": [
  {
   "cell_type": "code",
   "execution_count": 1,
   "id": "b2586ec5",
   "metadata": {},
   "outputs": [],
   "source": [
    "import zipfile\n",
    "with zipfile.ZipFile('train.zip', 'r') as zip_ref:\n",
    "    zip_ref.extractall('train')\n"
   ]
  },
  {
   "cell_type": "code",
   "execution_count": 3,
   "id": "12f33c1f",
   "metadata": {},
   "outputs": [],
   "source": [
    "# Pandas and Numpy for data structures and util fucntions\n",
    "import numpy as np\n",
    "#pip install pandas\n",
    "import pandas as pd\n",
    "from numpy.random import rand"
   ]
  },
  {
   "cell_type": "code",
   "execution_count": 1,
   "id": "1b44685e",
   "metadata": {},
   "outputs": [],
   "source": [
    "\n",
    "train_folder = 'cat_dog/cat_dog/'\n",
    "#test_folder = '/content/test/'"
   ]
  },
  {
   "cell_type": "code",
   "execution_count": 4,
   "id": "2a05e6ad",
   "metadata": {},
   "outputs": [
    {
     "data": {
      "text/html": [
       "<div>\n",
       "<style scoped>\n",
       "    .dataframe tbody tr th:only-of-type {\n",
       "        vertical-align: middle;\n",
       "    }\n",
       "\n",
       "    .dataframe tbody tr th {\n",
       "        vertical-align: top;\n",
       "    }\n",
       "\n",
       "    .dataframe thead th {\n",
       "        text-align: right;\n",
       "    }\n",
       "</style>\n",
       "<table border=\"1\" class=\"dataframe\">\n",
       "  <thead>\n",
       "    <tr style=\"text-align: right;\">\n",
       "      <th></th>\n",
       "      <th>image</th>\n",
       "      <th>labels</th>\n",
       "    </tr>\n",
       "  </thead>\n",
       "  <tbody>\n",
       "    <tr>\n",
       "      <th>0</th>\n",
       "      <td>dog.11289.jpg</td>\n",
       "      <td>1</td>\n",
       "    </tr>\n",
       "    <tr>\n",
       "      <th>1</th>\n",
       "      <td>cat.10836.jpg</td>\n",
       "      <td>0</td>\n",
       "    </tr>\n",
       "    <tr>\n",
       "      <th>2</th>\n",
       "      <td>cat.7970.jpg</td>\n",
       "      <td>0</td>\n",
       "    </tr>\n",
       "    <tr>\n",
       "      <th>3</th>\n",
       "      <td>cat.2212.jpg</td>\n",
       "      <td>0</td>\n",
       "    </tr>\n",
       "    <tr>\n",
       "      <th>4</th>\n",
       "      <td>dog.2653.jpg</td>\n",
       "      <td>1</td>\n",
       "    </tr>\n",
       "  </tbody>\n",
       "</table>\n",
       "</div>"
      ],
      "text/plain": [
       "           image  labels\n",
       "0  dog.11289.jpg       1\n",
       "1  cat.10836.jpg       0\n",
       "2   cat.7970.jpg       0\n",
       "3   cat.2212.jpg       0\n",
       "4   dog.2653.jpg       1"
      ]
     },
     "execution_count": 4,
     "metadata": {},
     "output_type": "execute_result"
    }
   ],
   "source": [
    "data_labels = pd.read_csv('cat_dog/cat_dog.csv')\n",
    "data_labels.head()"
   ]
  },
  {
   "cell_type": "code",
   "execution_count": 5,
   "id": "65040371",
   "metadata": {},
   "outputs": [],
   "source": [
    "data_labels=data_labels[:8000]"
   ]
  },
  {
   "cell_type": "code",
   "execution_count": 7,
   "id": "5b845e23",
   "metadata": {},
   "outputs": [
    {
     "data": {
      "text/plain": [
       "2"
      ]
     },
     "execution_count": 7,
     "metadata": {},
     "output_type": "execute_result"
    }
   ],
   "source": [
    "target_labels = data_labels['labels']\n",
    "len(set(target_labels))"
   ]
  },
  {
   "cell_type": "code",
   "execution_count": 8,
   "id": "d61f2e1c",
   "metadata": {},
   "outputs": [],
   "source": [
    "from keras import regularizers\n",
    "from keras.models import Model\n",
    "from tensorflow.keras.optimizers import Adam, RMSprop\n",
    "from keras.layers import Dropout\n",
    "from keras.layers import Flatten\n",
    "from keras.layers import GlobalAveragePooling2D\n",
    "from keras.layers import BatchNormalization\n",
    "from keras.layers import Activation,Dense\n",
    "from keras.models import Sequential,load_model\n",
    "from keras.preprocessing.image import ImageDataGenerator, img_to_array, load_img\n",
    "from tensorflow.keras.applications import ResNet50"
   ]
  },
  {
   "cell_type": "code",
   "execution_count": 9,
   "id": "e6cf3edc",
   "metadata": {},
   "outputs": [],
   "source": [
    "# Pandas and Numpy for data structures and util fucntions\n",
    "import numpy as np\n",
    "#pip install pandas\n",
    "import pandas as pd\n",
    "from numpy.random import rand\n",
    "\n",
    "pd.options.display.max_colwidth = 600\n",
    "\n",
    "# Scikit Imports\n",
    "from sklearn.model_selection import train_test_split\n",
    "# Matplot Imports\n",
    "import matplotlib.pyplot as plt\n",
    "params = {'legend.fontsize': 'x-large',\n",
    "          'figure.figsize': (15, 5),\n",
    "          'axes.labelsize': 'x-large',\n",
    "          'axes.titlesize':'x-large',\n",
    "          'xtick.labelsize':'x-large',\n",
    "          'ytick.labelsize':'x-large'}\n",
    "\n",
    "plt.rcParams.update(params)\n",
    "%matplotlib inline"
   ]
  },
  {
   "cell_type": "code",
   "execution_count": 10,
   "id": "30a85b71",
   "metadata": {},
   "outputs": [],
   "source": [
    "# pandas display data frames as tables\n",
    "from IPython.display import display, HTML\n",
    "\n",
    "import warnings\n",
    "warnings.filterwarnings('ignore')"
   ]
  },
  {
   "cell_type": "code",
   "execution_count": 11,
   "id": "ab6a3e57",
   "metadata": {},
   "outputs": [
    {
     "name": "stdout",
     "output_type": "stream",
     "text": [
      "(8000, 2)\n",
      "[[0 1]\n",
      " [1 0]]\n"
     ]
    }
   ],
   "source": [
    "labels_ohe_names = pd.get_dummies(target_labels, sparse=True)\n",
    "labels_ohe = np.asarray(labels_ohe_names)\n",
    "print(labels_ohe.shape)\n",
    "print(labels_ohe[:2])"
   ]
  },
  {
   "cell_type": "code",
   "execution_count": 13,
   "id": "00e91101",
   "metadata": {},
   "outputs": [
    {
     "data": {
      "text/html": [
       "<div>\n",
       "<style scoped>\n",
       "    .dataframe tbody tr th:only-of-type {\n",
       "        vertical-align: middle;\n",
       "    }\n",
       "\n",
       "    .dataframe tbody tr th {\n",
       "        vertical-align: top;\n",
       "    }\n",
       "\n",
       "    .dataframe thead th {\n",
       "        text-align: right;\n",
       "    }\n",
       "</style>\n",
       "<table border=\"1\" class=\"dataframe\">\n",
       "  <thead>\n",
       "    <tr style=\"text-align: right;\">\n",
       "      <th></th>\n",
       "      <th>image</th>\n",
       "      <th>labels</th>\n",
       "      <th>image_path</th>\n",
       "    </tr>\n",
       "  </thead>\n",
       "  <tbody>\n",
       "    <tr>\n",
       "      <th>0</th>\n",
       "      <td>dog.11289.jpg</td>\n",
       "      <td>1</td>\n",
       "      <td>cat_dog/cat_dog/dog.11289.jpg</td>\n",
       "    </tr>\n",
       "    <tr>\n",
       "      <th>1</th>\n",
       "      <td>cat.10836.jpg</td>\n",
       "      <td>0</td>\n",
       "      <td>cat_dog/cat_dog/cat.10836.jpg</td>\n",
       "    </tr>\n",
       "    <tr>\n",
       "      <th>2</th>\n",
       "      <td>cat.7970.jpg</td>\n",
       "      <td>0</td>\n",
       "      <td>cat_dog/cat_dog/cat.7970.jpg</td>\n",
       "    </tr>\n",
       "    <tr>\n",
       "      <th>3</th>\n",
       "      <td>cat.2212.jpg</td>\n",
       "      <td>0</td>\n",
       "      <td>cat_dog/cat_dog/cat.2212.jpg</td>\n",
       "    </tr>\n",
       "    <tr>\n",
       "      <th>4</th>\n",
       "      <td>dog.2653.jpg</td>\n",
       "      <td>1</td>\n",
       "      <td>cat_dog/cat_dog/dog.2653.jpg</td>\n",
       "    </tr>\n",
       "  </tbody>\n",
       "</table>\n",
       "</div>"
      ],
      "text/plain": [
       "           image  labels                     image_path\n",
       "0  dog.11289.jpg       1  cat_dog/cat_dog/dog.11289.jpg\n",
       "1  cat.10836.jpg       0  cat_dog/cat_dog/cat.10836.jpg\n",
       "2   cat.7970.jpg       0   cat_dog/cat_dog/cat.7970.jpg\n",
       "3   cat.2212.jpg       0   cat_dog/cat_dog/cat.2212.jpg\n",
       "4   dog.2653.jpg       1   cat_dog/cat_dog/dog.2653.jpg"
      ]
     },
     "execution_count": 13,
     "metadata": {},
     "output_type": "execute_result"
    }
   ],
   "source": [
    "data_labels['image_path'] = data_labels.apply( lambda row: (train_folder + row[\"image\"] ), axis=1)\n",
    "data_labels.head()"
   ]
  },
  {
   "cell_type": "code",
   "execution_count": 14,
   "id": "2044ab16",
   "metadata": {},
   "outputs": [],
   "source": [
    "train_data = np.array([img_to_array(\n",
    "                            load_img(img, \n",
    "                                     target_size=(224, 224))\n",
    "                       ) for img \n",
    "                           in data_labels['image_path'].values.tolist()\n",
    "                      ]).astype('float32')"
   ]
  },
  {
   "cell_type": "code",
   "execution_count": 15,
   "id": "e4d65404",
   "metadata": {},
   "outputs": [
    {
     "data": {
      "text/plain": [
       "(8000, 224, 224, 3)"
      ]
     },
     "execution_count": 15,
     "metadata": {},
     "output_type": "execute_result"
    }
   ],
   "source": [
    "train_data.shape"
   ]
  },
  {
   "cell_type": "code",
   "execution_count": 16,
   "id": "0b0218c4",
   "metadata": {},
   "outputs": [],
   "source": [
    "x_train, x_test, y_train, y_test = train_test_split(train_data, \n",
    "                                                    target_labels, \n",
    "                                                    test_size=0.2, \n",
    "                                                    stratify=np.array(target_labels), \n",
    "                                                    random_state=42)"
   ]
  },
  {
   "cell_type": "code",
   "execution_count": 17,
   "id": "2c22f989",
   "metadata": {},
   "outputs": [
    {
     "data": {
      "text/plain": [
       "((6400, 224, 224, 3), (1600, 224, 224, 3))"
      ]
     },
     "execution_count": 17,
     "metadata": {},
     "output_type": "execute_result"
    }
   ],
   "source": [
    "x_train.shape, x_test.shape"
   ]
  },
  {
   "cell_type": "code",
   "execution_count": 18,
   "id": "48ffc3e8",
   "metadata": {},
   "outputs": [],
   "source": [
    "x_train, x_val, y_train, y_val = train_test_split(x_train, \n",
    "                                                    y_train, \n",
    "                                                    test_size=0.15, \n",
    "                                                    stratify=np.array(y_train), \n",
    "                                                    random_state=42)"
   ]
  },
  {
   "cell_type": "code",
   "execution_count": 19,
   "id": "c6fef873",
   "metadata": {},
   "outputs": [
    {
     "data": {
      "text/plain": [
       "((5440, 224, 224, 3), (960, 224, 224, 3))"
      ]
     },
     "execution_count": 19,
     "metadata": {},
     "output_type": "execute_result"
    }
   ],
   "source": [
    "x_train.shape, x_val.shape"
   ]
  },
  {
   "cell_type": "code",
   "execution_count": 20,
   "id": "da03c60b",
   "metadata": {},
   "outputs": [
    {
     "data": {
      "text/plain": [
       "((5440, 2), (1600, 2), (960, 2))"
      ]
     },
     "execution_count": 20,
     "metadata": {},
     "output_type": "execute_result"
    }
   ],
   "source": [
    "y_train_ohe = pd.get_dummies(y_train, sparse=True)\n",
    "y_train_ohe = np.asarray(y_train_ohe)\n",
    "\n",
    "y_test_ohe = pd.get_dummies(y_test, sparse=True)\n",
    "y_test_ohe = np.asarray(y_test_ohe)\n",
    "\n",
    "y_val_ohe = pd.get_dummies(y_val, sparse=True)\n",
    "y_val_ohe = np.asarray(y_val_ohe)\n",
    "\n",
    "y_train_ohe.shape, y_test_ohe.shape, y_val_ohe.shape"
   ]
  },
  {
   "cell_type": "code",
   "execution_count": 21,
   "id": "af9152d3",
   "metadata": {},
   "outputs": [],
   "source": [
    "BATCH_SIZE = 32"
   ]
  },
  {
   "cell_type": "code",
   "execution_count": 22,
   "id": "f7d57990",
   "metadata": {},
   "outputs": [],
   "source": [
    "# Create train generator.\n",
    "train_datagen = ImageDataGenerator(rescale=1./255, \n",
    "                                   rotation_range=30, \n",
    "                                   width_shift_range=0.2,\n",
    "                                   height_shift_range=0.2, \n",
    "                                   horizontal_flip = 'true')\n",
    "train_generator = train_datagen.flow(x_train, y_train_ohe, shuffle=False, batch_size=BATCH_SIZE, seed=1)"
   ]
  },
  {
   "cell_type": "code",
   "execution_count": 23,
   "id": "e279a7a9",
   "metadata": {},
   "outputs": [],
   "source": [
    "# Create validation generator\n",
    "val_datagen = ImageDataGenerator(rescale = 1./255)\n",
    "val_generator = train_datagen.flow(x_val, y_val_ohe, shuffle=False, batch_size=BATCH_SIZE, seed=1)"
   ]
  },
  {
   "cell_type": "code",
   "execution_count": 24,
   "id": "98a47a79",
   "metadata": {},
   "outputs": [],
   "source": [
    "# Get the InceptionV3 model so we can do transfer learning\n",
    "base_resnet = ResNet50(weights='imagenet', include_top = False, input_shape=(224, 224, 3))"
   ]
  },
  {
   "cell_type": "code",
   "execution_count": 26,
   "id": "54f74331",
   "metadata": {},
   "outputs": [],
   "source": [
    "\n",
    "\n",
    "model = Sequential()\n",
    "model.add(base_resnet)\n",
    "model.add(Flatten())\n",
    "model.add(BatchNormalization())\n",
    "model.add(Dense(256, activation='relu'))\n",
    "model.add(Dropout(0.5))\n",
    "model.add(BatchNormalization())\n",
    "model.add(Dense(128, activation='relu'))\n",
    "model.add(Dropout(0.5))\n",
    "model.add(BatchNormalization())\n",
    "model.add(Dense(2, activation='softmax'))\n"
   ]
  },
  {
   "cell_type": "code",
   "execution_count": 27,
   "id": "fa7e13b2",
   "metadata": {},
   "outputs": [],
   "source": [
    "for layer in base_resnet.layers[:143]:\n",
    "        layer.trainable = False"
   ]
  },
  {
   "cell_type": "code",
   "execution_count": 28,
   "id": "9aae4836",
   "metadata": {},
   "outputs": [
    {
     "name": "stdout",
     "output_type": "stream",
     "text": [
      "Epoch 1/15\n",
      "170/170 [==============================] - 76s 406ms/step - loss: 0.9632 - accuracy: 0.5651 - val_loss: 1.6319 - val_accuracy: 0.5000\n",
      "Epoch 2/15\n",
      "170/170 [==============================] - 82s 480ms/step - loss: 0.8568 - accuracy: 0.5906 - val_loss: 1.2007 - val_accuracy: 0.5437\n",
      "Epoch 3/15\n",
      "170/170 [==============================] - 82s 484ms/step - loss: 0.8615 - accuracy: 0.5831 - val_loss: 0.7107 - val_accuracy: 0.6323\n",
      "Epoch 4/15\n",
      "170/170 [==============================] - 76s 450ms/step - loss: 0.8429 - accuracy: 0.5952 - val_loss: 0.6670 - val_accuracy: 0.6250\n",
      "Epoch 5/15\n",
      "170/170 [==============================] - 76s 448ms/step - loss: 0.7917 - accuracy: 0.6061 - val_loss: 0.7071 - val_accuracy: 0.5583\n",
      "Epoch 6/15\n",
      "170/170 [==============================] - 70s 414ms/step - loss: 0.7827 - accuracy: 0.6119 - val_loss: 0.9251 - val_accuracy: 0.5594\n",
      "Epoch 7/15\n",
      "170/170 [==============================] - 71s 418ms/step - loss: 0.7515 - accuracy: 0.6230 - val_loss: 0.6702 - val_accuracy: 0.6521\n",
      "Epoch 8/15\n",
      "170/170 [==============================] - 76s 445ms/step - loss: 0.7292 - accuracy: 0.6272 - val_loss: 0.7404 - val_accuracy: 0.6583\n",
      "Epoch 9/15\n",
      "170/170 [==============================] - 67s 395ms/step - loss: 0.7112 - accuracy: 0.6281 - val_loss: 0.6316 - val_accuracy: 0.6573\n",
      "Epoch 10/15\n",
      "170/170 [==============================] - 68s 401ms/step - loss: 0.7096 - accuracy: 0.6335 - val_loss: 0.7436 - val_accuracy: 0.6198\n",
      "Epoch 11/15\n",
      "170/170 [==============================] - 77s 452ms/step - loss: 0.6830 - accuracy: 0.6445 - val_loss: 0.6461 - val_accuracy: 0.6667\n",
      "Epoch 12/15\n",
      "170/170 [==============================] - 69s 406ms/step - loss: 0.6669 - accuracy: 0.6566 - val_loss: 0.7499 - val_accuracy: 0.5865\n",
      "Epoch 13/15\n",
      "170/170 [==============================] - 80s 471ms/step - loss: 0.6646 - accuracy: 0.6548 - val_loss: 1.0643 - val_accuracy: 0.5354\n",
      "Epoch 14/15\n",
      "170/170 [==============================] - 70s 411ms/step - loss: 0.6573 - accuracy: 0.6551 - val_loss: 0.7605 - val_accuracy: 0.5698\n",
      "Epoch 15/15\n",
      "170/170 [==============================] - 84s 493ms/step - loss: 0.6451 - accuracy: 0.6588 - val_loss: 0.6658 - val_accuracy: 0.6365\n"
     ]
    }
   ],
   "source": [
    "model.compile(loss='categorical_crossentropy',\n",
    "                  optimizer=Adam(lr=.0001),\n",
    "                  metrics=['accuracy'])\n",
    "# Train the model\n",
    "batch_size = BATCH_SIZE\n",
    "train_steps_per_epoch = x_train.shape[0] // batch_size\n",
    "val_steps_per_epoch = x_val.shape[0] // batch_size\n",
    "\n",
    "history = model.fit_generator(train_generator,\n",
    "                              steps_per_epoch=train_steps_per_epoch,\n",
    "                              validation_data=val_generator,\n",
    "                              validation_steps=val_steps_per_epoch,\n",
    "                              epochs=15,\n",
    "                              verbose=1)"
   ]
  },
  {
   "cell_type": "code",
   "execution_count": 29,
   "id": "1407f5f8",
   "metadata": {},
   "outputs": [],
   "source": [
    "model.save('cat_dog_resnet50.hdf5')"
   ]
  },
  {
   "cell_type": "code",
   "execution_count": 30,
   "id": "04d42c95",
   "metadata": {},
   "outputs": [
    {
     "data": {
      "image/png": "[encoded data removed]",
      "text/plain": [
       "<Figure size 1080x360 with 2 Axes>"
      ]
     },
     "metadata": {
      "needs_background": "light"
     },
     "output_type": "display_data"
    }
   ],
   "source": [
    "f, (ax1, ax2) = plt.subplots(1, 2, figsize=(15, 5))\n",
    "t = f.suptitle('Deep Neural Net Performance', fontsize=12)\n",
    "f.subplots_adjust(top=0.85, wspace=0.3)\n",
    "\n",
    "epochs = list(range(1,16))\n",
    "ax1.plot(epochs, history.history['accuracy'], label='Train Accuracy')\n",
    "ax1.plot(epochs, history.history['val_accuracy'], label='Validation Accuracy')\n",
    "ax1.set_xticks(epochs)\n",
    "ax1.set_ylabel('Accuracy Value')\n",
    "ax1.set_xlabel('Epoch')\n",
    "ax1.set_title('Accuracy')\n",
    "l1 = ax1.legend(loc=\"best\")\n",
    "\n",
    "ax2.plot(epochs, history.history['loss'], label='Train Loss')\n",
    "ax2.plot(epochs, history.history['val_loss'], label='Validation Loss')\n",
    "ax2.set_xticks(epochs)\n",
    "ax2.set_ylabel('Loss Value')\n",
    "ax2.set_xlabel('Epoch')\n",
    "ax2.set_title('Loss')\n",
    "l2 = ax2.legend(loc=\"best\")"
   ]
  },
  {
   "cell_type": "code",
   "execution_count": 31,
   "id": "4f2cd6c4",
   "metadata": {},
   "outputs": [],
   "source": [
    "# scaling test features\n",
    "x_test /= 255."
   ]
  },
  {
   "cell_type": "code",
   "execution_count": 32,
   "id": "17b8742f",
   "metadata": {},
   "outputs": [
    {
     "data": {
      "text/plain": [
       "array([[0.52605516, 0.4739448 ],\n",
       "       [0.20933309, 0.79066694],\n",
       "       [0.28277287, 0.7172271 ],\n",
       "       ...,\n",
       "       [0.01193218, 0.98806787],\n",
       "       [0.8296931 , 0.17030688],\n",
       "       [0.48810357, 0.51189643]], dtype=float32)"
      ]
     },
     "execution_count": 32,
     "metadata": {},
     "output_type": "execute_result"
    }
   ],
   "source": [
    "test_predictions = model.predict(x_test)\n",
    "test_predictions"
   ]
  },
  {
   "cell_type": "code",
   "execution_count": 33,
   "id": "aecee650",
   "metadata": {},
   "outputs": [
    {
     "data": {
      "text/html": [
       "<div>\n",
       "<style scoped>\n",
       "    .dataframe tbody tr th:only-of-type {\n",
       "        vertical-align: middle;\n",
       "    }\n",
       "\n",
       "    .dataframe tbody tr th {\n",
       "        vertical-align: top;\n",
       "    }\n",
       "\n",
       "    .dataframe thead th {\n",
       "        text-align: right;\n",
       "    }\n",
       "</style>\n",
       "<table border=\"1\" class=\"dataframe\">\n",
       "  <thead>\n",
       "    <tr style=\"text-align: right;\">\n",
       "      <th></th>\n",
       "      <th>0</th>\n",
       "      <th>1</th>\n",
       "    </tr>\n",
       "  </thead>\n",
       "  <tbody>\n",
       "    <tr>\n",
       "      <th>0</th>\n",
       "      <td>0.526055</td>\n",
       "      <td>0.473945</td>\n",
       "    </tr>\n",
       "    <tr>\n",
       "      <th>1</th>\n",
       "      <td>0.209333</td>\n",
       "      <td>0.790667</td>\n",
       "    </tr>\n",
       "    <tr>\n",
       "      <th>2</th>\n",
       "      <td>0.282773</td>\n",
       "      <td>0.717227</td>\n",
       "    </tr>\n",
       "    <tr>\n",
       "      <th>3</th>\n",
       "      <td>0.614119</td>\n",
       "      <td>0.385881</td>\n",
       "    </tr>\n",
       "    <tr>\n",
       "      <th>4</th>\n",
       "      <td>0.499319</td>\n",
       "      <td>0.500681</td>\n",
       "    </tr>\n",
       "  </tbody>\n",
       "</table>\n",
       "</div>"
      ],
      "text/plain": [
       "          0         1\n",
       "0  0.526055  0.473945\n",
       "1  0.209333  0.790667\n",
       "2  0.282773  0.717227\n",
       "3  0.614119  0.385881\n",
       "4  0.499319  0.500681"
      ]
     },
     "execution_count": 33,
     "metadata": {},
     "output_type": "execute_result"
    }
   ],
   "source": [
    "predictions = pd.DataFrame(test_predictions, columns=labels_ohe_names.columns)\n",
    "predictions.head()\n"
   ]
  },
  {
   "cell_type": "code",
   "execution_count": 34,
   "id": "5c296da3",
   "metadata": {},
   "outputs": [
    {
     "data": {
      "text/plain": [
       "[0, 1, 1, 0, 1, 0, 1, 1, 1, 1]"
      ]
     },
     "execution_count": 34,
     "metadata": {},
     "output_type": "execute_result"
    }
   ],
   "source": [
    "test_labels = list(y_test)\n",
    "predictions = list(predictions.idxmax(axis=1))\n",
    "predictions[:10]"
   ]
  },
  {
   "cell_type": "code",
   "execution_count": 35,
   "id": "2e1cd647",
   "metadata": {},
   "outputs": [],
   "source": [
    "#Making prediction\n",
    "y_pred=model.predict(x_test)\n",
    "y_true=np.argmax(y_test_ohe,axis=1)"
   ]
  },
  {
   "cell_type": "code",
   "execution_count": 36,
   "id": "f15777dd",
   "metadata": {},
   "outputs": [],
   "source": [
    "loss, accuracy = model.evaluate(x_test, y_test_ohe, verbose=0)"
   ]
  },
  {
   "cell_type": "code",
   "execution_count": 37,
   "id": "f526bf59",
   "metadata": {},
   "outputs": [
    {
     "name": "stdout",
     "output_type": "stream",
     "text": [
      "0.585492730140686\n",
      "0.6887500286102295\n"
     ]
    }
   ],
   "source": [
    "print(loss)\n",
    "print(accuracy)"
   ]
  },
  {
   "cell_type": "code",
   "execution_count": 38,
   "id": "5edc3866",
   "metadata": {},
   "outputs": [
    {
     "name": "stdout",
     "output_type": "stream",
     "text": [
      "25/25 [==============================] - 4s 87ms/step\n",
      "              precision    recall  f1-score   support\n",
      "\n",
      "     class 0       0.87      0.44      0.59       798\n",
      "     class 1       0.63      0.93      0.75       802\n",
      "\n",
      "    accuracy                           0.69      1600\n",
      "   macro avg       0.75      0.69      0.67      1600\n",
      "weighted avg       0.75      0.69      0.67      1600\n",
      "\n"
     ]
    }
   ],
   "source": [
    "from sklearn.metrics import classification_report\n",
    "\n",
    "y_pred = model.predict(x_test, batch_size=64, verbose=1)\n",
    "y_pred_bool = np.argmax(y_pred, axis=1)\n",
    "target_names=['class 0', 'class 1']\n",
    "print(classification_report(y_true, y_pred_bool, target_names=target_names))\n",
    "#print(classification_report(y_true, y_pred_bool))"
   ]
  },
  {
   "cell_type": "code",
   "execution_count": 39,
   "id": "b255d01d",
   "metadata": {},
   "outputs": [],
   "source": [
    "#Defining function for confusion matrix plot\n",
    "def plot_confusion_matrix(y_true, y_pred, classes,\n",
    "                          normalize=False,\n",
    "                          title=None,\n",
    "                          cmap=plt.cm.Blues):\n",
    "\n",
    "    if not title:\n",
    "        if normalize:\n",
    "            title = 'Normalized confusion matrix'\n",
    "        else:\n",
    "            title = 'Confusion matrix, without normalization'\n",
    "\n",
    "    #Compute confusion matrix\n",
    "    cm = confusion_matrix(y_true, y_pred)\n",
    "    if normalize:\n",
    "        cm = cm.astype('float') / cm.sum(axis=1)[:, np.newaxis]\n",
    "        print(\"Normalized confusion matrix\")\n",
    "    else:\n",
    "        print('Confusion matrix, without normalization')\n",
    "\n",
    "#print(cm)\n",
    "\n",
    "    fig, ax = plt.subplots(figsize=(7,7))\n",
    "    im = ax.imshow(cm, interpolation='nearest', cmap=cmap)\n",
    "    ax.figure.colorbar(im, ax=ax)\n",
    "    # We want to show all ticks...\n",
    "    ax.set(xticks=np.arange(cm.shape[1]),\n",
    "           yticks=np.arange(cm.shape[0]),\n",
    "           # ... and label them with the respective list entries\n",
    "           xticklabels=classes, yticklabels=classes,\n",
    "           title=title,\n",
    "           ylabel='True label',\n",
    "           xlabel='Predicted label')\n",
    "\n",
    "\n",
    "    #Rotate the tick labels and set their alignment.\n",
    "    plt.setp(ax.get_xticklabels(), rotation=45, ha=\"right\",\n",
    "             rotation_mode=\"anchor\")\n",
    "    # Loop over data dimensions and create text annotations.\n",
    "    fmt = '.2f' if normalize else 'd'\n",
    "    thresh = cm.max() / 2.\n",
    "    for i in range(cm.shape[0]):\n",
    "        for j in range(cm.shape[1]):\n",
    "            ax.text(j, i, format(cm[i, j], fmt),\n",
    "                    ha=\"center\", va=\"center\",\n",
    "                    color=\"white\" if cm[i, j] > thresh else \"black\")\n",
    "    fig.tight_layout()\n",
    "    return ax\n",
    "\n",
    "np.set_printoptions(precision=2)"
   ]
  },
  {
   "cell_type": "code",
   "execution_count": 40,
   "id": "ab4a46b8",
   "metadata": {},
   "outputs": [],
   "source": [
    "#Plotting the confusion matrix\n",
    "from sklearn.metrics import confusion_matrix\n",
    "confusion_mtx = confusion_matrix(y_true, y_pred_bool)"
   ]
  },
  {
   "cell_type": "code",
   "execution_count": 41,
   "id": "4e120f31",
   "metadata": {},
   "outputs": [
    {
     "name": "stdout",
     "output_type": "stream",
     "text": [
      "Confusion matrix, without normalization\n"
     ]
    },
    {
     "data": {
      "text/plain": [
       "<AxesSubplot:title={'center':'Confusion matrix, without normalization'}, xlabel='Predicted label', ylabel='True label'>"
      ]
     },
     "execution_count": 41,
     "metadata": {},
     "output_type": "execute_result"
    },
    {
     "data": {
      "image/png": "[encoded data removed]",
      "text/plain": [
       "<Figure size 504x504 with 2 Axes>"
      ]
     },
     "metadata": {
      "needs_background": "light"
     },
     "output_type": "display_data"
    }
   ],
   "source": [
    "#Defining the class labels\n",
    "class_names=[1,2]\n",
    "\n",
    "# Plotting non-normalized confusion matrix\n",
    "plot_confusion_matrix(y_true, y_pred_bool, classes = class_names, title='Confusion matrix, without normalization')\n"
   ]
  },
  {
   "cell_type": "code",
   "execution_count": null,
   "id": "d36d3f13",
   "metadata": {},
   "outputs": [],
   "source": []
  }
 ],
 "metadata": {
  "kernelspec": {
   "display_name": "Python 3",
   "language": "python",
   "name": "python3"
  },
  "language_info": {
   "codemirror_mode": {
    "name": "ipython",
    "version": 3
   },
   "file_extension": ".py",
   "mimetype": "text/x-python",
   "name": "python",
   "nbconvert_exporter": "python",
   "pygments_lexer": "ipython3",
   "version": "3.6.8"
  }
 },
 "nbformat": 4,
 "nbformat_minor": 5
}
