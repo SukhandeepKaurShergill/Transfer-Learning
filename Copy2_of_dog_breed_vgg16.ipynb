{
  "cells": [
    {
      "cell_type": "markdown",
      "metadata": {
        "id": "view-in-github",
        "colab_type": "text"
      },
      "source": [
        "<a href=\"https://colab.research.google.com/github/SukhandeepKaurShergill/Transfer-Learning/blob/main/Copy2_of_dog_breed_vgg16.ipynb\" target=\"_parent\"><img src=\"https://colab.research.google.com/assets/colab-badge.svg\" alt=\"Open In Colab\"/></a>"
      ]
    },
    {
      "cell_type": "markdown",
      "metadata": {
        "id": "lLoSnJoivwLv"
      },
      "source": [
        "#1. Connecting google drive with google colab"
      ],
      "id": "lLoSnJoivwLv"
    },
    {
      "cell_type": "code",
      "execution_count": 1,
      "metadata": {
        "colab": {
          "base_uri": "https://localhost:8080/"
        },
        "id": "TkK1cguOsUjU",
        "outputId": "2c4d16a4-ff75-4909-a789-b5c086373cb6"
      },
      "outputs": [
        {
          "output_type": "stream",
          "name": "stdout",
          "text": [
            "Drive already mounted at /content/drive; to attempt to forcibly remount, call drive.mount(\"/content/drive\", force_remount=True).\n"
          ]
        }
      ],
      "source": [
        "from google.colab import drive\n",
        "drive.mount('/content/drive')"
      ],
      "id": "TkK1cguOsUjU"
    },
    {
      "cell_type": "markdown",
      "metadata": {
        "id": "SefAqeGfspXx"
      },
      "source": [
        "# 2. if you have zipped file, \n",
        "Extract zip file"
      ],
      "id": "SefAqeGfspXx"
    },
    {
      "cell_type": "code",
      "execution_count": null,
      "metadata": {
        "id": "325f9949"
      },
      "outputs": [],
      "source": [
        "import zipfile\n",
        "with zipfile.ZipFile('dog-breed-identification.zip', 'r') as zip_ref:\n",
        "    zip_ref.extractall('dog_breed')\n"
      ],
      "id": "325f9949"
    },
    {
      "cell_type": "markdown",
      "metadata": {
        "id": "zf9bYVEJstLv"
      },
      "source": [
        "#3. import all required libraries for deep learning and vgg16"
      ],
      "id": "zf9bYVEJstLv"
    },
    {
      "cell_type": "code",
      "execution_count": 2,
      "metadata": {
        "id": "2cc898c0"
      },
      "outputs": [],
      "source": [
        "from keras import regularizers\n",
        "from keras.models import Model\n",
        "from tensorflow.keras.optimizers import Adam\n",
        "from keras.layers import Dropout\n",
        "from keras.layers import GlobalAveragePooling2D\n",
        "from keras.layers import BatchNormalization\n",
        "from keras.layers import Activation,Dense\n",
        "from keras.models import Sequential,load_model\n",
        "from keras.preprocessing.image import ImageDataGenerator, img_to_array, load_img\n",
        "from keras.applications.vgg16 import VGG16"
      ],
      "id": "2cc898c0"
    },
    {
      "cell_type": "markdown",
      "metadata": {
        "id": "0SdJLq9as5Qh"
      },
      "source": [
        "# 4. Pandas and Numpy for data structures and util fucntions"
      ],
      "id": "0SdJLq9as5Qh"
    },
    {
      "cell_type": "code",
      "execution_count": 3,
      "metadata": {
        "id": "PzM-mXVxxxkp"
      },
      "outputs": [],
      "source": [
        "import numpy as np\n",
        "#pip install pandas\n",
        "import pandas as pd\n",
        "from numpy.random import rand"
      ],
      "id": "PzM-mXVxxxkp"
    },
    {
      "cell_type": "markdown",
      "metadata": {
        "id": "y6Fs8t5Dx503"
      },
      "source": [
        "# 5. Scikit Imports "
      ],
      "id": "y6Fs8t5Dx503"
    },
    {
      "cell_type": "code",
      "execution_count": 4,
      "metadata": {
        "id": "q0l-_Carx4_h"
      },
      "outputs": [],
      "source": [
        "pd.options.display.max_colwidth = 600\n",
        "from sklearn.model_selection import train_test_split"
      ],
      "id": "q0l-_Carx4_h"
    },
    {
      "cell_type": "markdown",
      "metadata": {
        "id": "pFZKZ38OyI6N"
      },
      "source": [
        "# 6. Matplot Imports"
      ],
      "id": "pFZKZ38OyI6N"
    },
    {
      "cell_type": "code",
      "execution_count": 5,
      "metadata": {
        "id": "e05a325b"
      },
      "outputs": [],
      "source": [
        "import matplotlib.pyplot as plt\n",
        "params = {'legend.fontsize': 'x-large',\n",
        "          'figure.figsize': (15, 5),\n",
        "          'axes.labelsize': 'x-large',\n",
        "          'axes.titlesize':'x-large',\n",
        "          'xtick.labelsize':'x-large',\n",
        "          'ytick.labelsize':'x-large'}\n",
        "\n",
        "plt.rcParams.update(params)\n",
        "%matplotlib inline"
      ],
      "id": "e05a325b"
    },
    {
      "cell_type": "markdown",
      "metadata": {
        "id": "HEjCLXAeyS9y"
      },
      "source": [
        "# 7. Display functions"
      ],
      "id": "HEjCLXAeyS9y"
    },
    {
      "cell_type": "code",
      "execution_count": 6,
      "metadata": {
        "id": "4b4e88c6"
      },
      "outputs": [],
      "source": [
        "\n",
        "from IPython.display import display, HTML\n",
        "\n",
        "import warnings\n",
        "warnings.filterwarnings('ignore')"
      ],
      "id": "4b4e88c6"
    },
    {
      "cell_type": "markdown",
      "metadata": {
        "id": "riqq35tx0Yh6"
      },
      "source": [
        "# 8. Go to train folder"
      ],
      "id": "riqq35tx0Yh6"
    },
    {
      "cell_type": "code",
      "execution_count": 7,
      "metadata": {
        "id": "44cb1b7a"
      },
      "outputs": [],
      "source": [
        "\n",
        "train_folder = '/content/drive/MyDrive/Thapar_summer_school/vgg16/train/'\n",
        "#test_folder = '/content/test/'"
      ],
      "id": "44cb1b7a"
    },
    {
      "cell_type": "markdown",
      "metadata": {
        "id": "NGhww7q90U7-"
      },
      "source": [
        "#9. pandas display data frames as tables"
      ],
      "id": "NGhww7q90U7-"
    },
    {
      "cell_type": "code",
      "execution_count": 8,
      "metadata": {
        "id": "adde28e6"
      },
      "outputs": [],
      "source": [
        "data_labels = pd.read_csv('/content/drive/MyDrive/Thapar_summer_school/vgg16/labels.csv')\n"
      ],
      "id": "adde28e6"
    },
    {
      "cell_type": "markdown",
      "metadata": {
        "id": "Jd2KX9w6yuys"
      },
      "source": [
        "#10. display the columns"
      ],
      "id": "Jd2KX9w6yuys"
    },
    {
      "cell_type": "code",
      "execution_count": 9,
      "metadata": {
        "colab": {
          "base_uri": "https://localhost:8080/",
          "height": 0
        },
        "id": "PHez-rthytt-",
        "outputId": "95c5877a-0984-4839-a9ce-cdf2e1faac37"
      },
      "outputs": [
        {
          "output_type": "execute_result",
          "data": {
            "text/plain": [
              "                                 id             breed\n",
              "0  000bec180eb18c7604dcecc8fe0dba07       boston_bull\n",
              "1  001513dfcb2ffafc82cccf4d8bbaba97             dingo\n",
              "2  001cdf01b096e06d78e9e5112d419397          pekinese\n",
              "3  00214f311d5d2247d5dfe4fe24b2303d          bluetick\n",
              "4  0021f9ceb3235effd7fcde7f7538ed62  golden_retriever"
            ],
            "text/html": [
              "\n",
              "  <div id=\"df-afa375dd-67d7-490a-9321-631b72e28df5\">\n",
              "    <div class=\"colab-df-container\">\n",
              "      <div>\n",
              "<style scoped>\n",
              "    .dataframe tbody tr th:only-of-type {\n",
              "        vertical-align: middle;\n",
              "    }\n",
              "\n",
              "    .dataframe tbody tr th {\n",
              "        vertical-align: top;\n",
              "    }\n",
              "\n",
              "    .dataframe thead th {\n",
              "        text-align: right;\n",
              "    }\n",
              "</style>\n",
              "<table border=\"1\" class=\"dataframe\">\n",
              "  <thead>\n",
              "    <tr style=\"text-align: right;\">\n",
              "      <th></th>\n",
              "      <th>id</th>\n",
              "      <th>breed</th>\n",
              "    </tr>\n",
              "  </thead>\n",
              "  <tbody>\n",
              "    <tr>\n",
              "      <th>0</th>\n",
              "      <td>000bec180eb18c7604dcecc8fe0dba07</td>\n",
              "      <td>boston_bull</td>\n",
              "    </tr>\n",
              "    <tr>\n",
              "      <th>1</th>\n",
              "      <td>001513dfcb2ffafc82cccf4d8bbaba97</td>\n",
              "      <td>dingo</td>\n",
              "    </tr>\n",
              "    <tr>\n",
              "      <th>2</th>\n",
              "      <td>001cdf01b096e06d78e9e5112d419397</td>\n",
              "      <td>pekinese</td>\n",
              "    </tr>\n",
              "    <tr>\n",
              "      <th>3</th>\n",
              "      <td>00214f311d5d2247d5dfe4fe24b2303d</td>\n",
              "      <td>bluetick</td>\n",
              "    </tr>\n",
              "    <tr>\n",
              "      <th>4</th>\n",
              "      <td>0021f9ceb3235effd7fcde7f7538ed62</td>\n",
              "      <td>golden_retriever</td>\n",
              "    </tr>\n",
              "  </tbody>\n",
              "</table>\n",
              "</div>\n",
              "      <button class=\"colab-df-convert\" onclick=\"convertToInteractive('df-afa375dd-67d7-490a-9321-631b72e28df5')\"\n",
              "              title=\"Convert this dataframe to an interactive table.\"\n",
              "              style=\"display:none;\">\n",
              "        \n",
              "  <svg xmlns=\"http://www.w3.org/2000/svg\" height=\"24px\"viewBox=\"0 0 24 24\"\n",
              "       width=\"24px\">\n",
              "    <path d=\"M0 0h24v24H0V0z\" fill=\"none\"/>\n",
              "    <path d=\"M18.56 5.44l.94 2.06.94-2.06 2.06-.94-2.06-.94-.94-2.06-.94 2.06-2.06.94zm-11 1L8.5 8.5l.94-2.06 2.06-.94-2.06-.94L8.5 2.5l-.94 2.06-2.06.94zm10 10l.94 2.06.94-2.06 2.06-.94-2.06-.94-.94-2.06-.94 2.06-2.06.94z\"/><path d=\"M17.41 7.96l-1.37-1.37c-.4-.4-.92-.59-1.43-.59-.52 0-1.04.2-1.43.59L10.3 9.45l-7.72 7.72c-.78.78-.78 2.05 0 2.83L4 21.41c.39.39.9.59 1.41.59.51 0 1.02-.2 1.41-.59l7.78-7.78 2.81-2.81c.8-.78.8-2.07 0-2.86zM5.41 20L4 18.59l7.72-7.72 1.47 1.35L5.41 20z\"/>\n",
              "  </svg>\n",
              "      </button>\n",
              "      \n",
              "  <style>\n",
              "    .colab-df-container {\n",
              "      display:flex;\n",
              "      flex-wrap:wrap;\n",
              "      gap: 12px;\n",
              "    }\n",
              "\n",
              "    .colab-df-convert {\n",
              "      background-color: #E8F0FE;\n",
              "      border: none;\n",
              "      border-radius: 50%;\n",
              "      cursor: pointer;\n",
              "      display: none;\n",
              "      fill: #1967D2;\n",
              "      height: 32px;\n",
              "      padding: 0 0 0 0;\n",
              "      width: 32px;\n",
              "    }\n",
              "\n",
              "    .colab-df-convert:hover {\n",
              "      background-color: #E2EBFA;\n",
              "      box-shadow: 0px 1px 2px rgba(60, 64, 67, 0.3), 0px 1px 3px 1px rgba(60, 64, 67, 0.15);\n",
              "      fill: #174EA6;\n",
              "    }\n",
              "\n",
              "    [theme=dark] .colab-df-convert {\n",
              "      background-color: #3B4455;\n",
              "      fill: #D2E3FC;\n",
              "    }\n",
              "\n",
              "    [theme=dark] .colab-df-convert:hover {\n",
              "      background-color: #434B5C;\n",
              "      box-shadow: 0px 1px 3px 1px rgba(0, 0, 0, 0.15);\n",
              "      filter: drop-shadow(0px 1px 2px rgba(0, 0, 0, 0.3));\n",
              "      fill: #FFFFFF;\n",
              "    }\n",
              "  </style>\n",
              "\n",
              "      <script>\n",
              "        const buttonEl =\n",
              "          document.querySelector('#df-afa375dd-67d7-490a-9321-631b72e28df5 button.colab-df-convert');\n",
              "        buttonEl.style.display =\n",
              "          google.colab.kernel.accessAllowed ? 'block' : 'none';\n",
              "\n",
              "        async function convertToInteractive(key) {\n",
              "          const element = document.querySelector('#df-afa375dd-67d7-490a-9321-631b72e28df5');\n",
              "          const dataTable =\n",
              "            await google.colab.kernel.invokeFunction('convertToInteractive',\n",
              "                                                     [key], {});\n",
              "          if (!dataTable) return;\n",
              "\n",
              "          const docLinkHtml = 'Like what you see? Visit the ' +\n",
              "            '<a target=\"_blank\" href=https://colab.research.google.com/notebooks/data_table.ipynb>data table notebook</a>'\n",
              "            + ' to learn more about interactive tables.';\n",
              "          element.innerHTML = '';\n",
              "          dataTable['output_type'] = 'display_data';\n",
              "          await google.colab.output.renderOutput(dataTable, element);\n",
              "          const docLink = document.createElement('div');\n",
              "          docLink.innerHTML = docLinkHtml;\n",
              "          element.appendChild(docLink);\n",
              "        }\n",
              "      </script>\n",
              "    </div>\n",
              "  </div>\n",
              "  "
            ]
          },
          "metadata": {},
          "execution_count": 9
        }
      ],
      "source": [
        "data_labels.head()"
      ],
      "id": "PHez-rthytt-"
    },
    {
      "cell_type": "markdown",
      "metadata": {
        "id": "HAI4UwgD0fX0"
      },
      "source": [
        "#11. Extract some intial values of dataset"
      ],
      "id": "HAI4UwgD0fX0"
    },
    {
      "cell_type": "code",
      "execution_count": 10,
      "metadata": {
        "id": "f96a9cff"
      },
      "outputs": [],
      "source": [
        "data_labels=data_labels[:3000]"
      ],
      "id": "f96a9cff"
    },
    {
      "cell_type": "markdown",
      "metadata": {
        "id": "GiDzxAPS0wLk"
      },
      "source": [
        "# 12. Access labels "
      ],
      "id": "GiDzxAPS0wLk"
    },
    {
      "cell_type": "code",
      "execution_count": 11,
      "metadata": {
        "id": "27f66f89"
      },
      "outputs": [],
      "source": [
        "target_labels = data_labels['breed']\n"
      ],
      "id": "27f66f89"
    },
    {
      "cell_type": "markdown",
      "metadata": {
        "id": "bl5zm1vzzG6f"
      },
      "source": [
        "#13. check the number of classes"
      ],
      "id": "bl5zm1vzzG6f"
    },
    {
      "cell_type": "code",
      "execution_count": 12,
      "metadata": {
        "colab": {
          "base_uri": "https://localhost:8080/"
        },
        "id": "cyvxY-6rzBsc",
        "outputId": "54c6b93f-7476-4261-bec8-e2d19ebe8f01"
      },
      "outputs": [
        {
          "output_type": "execute_result",
          "data": {
            "text/plain": [
              "120"
            ]
          },
          "metadata": {},
          "execution_count": 12
        }
      ],
      "source": [
        "len(set(target_labels))"
      ],
      "id": "cyvxY-6rzBsc"
    },
    {
      "cell_type": "markdown",
      "metadata": {
        "id": "8pGnODd80zEH"
      },
      "source": [
        "# 14. Prepare Labels\n",
        "Deep Learning models work with one hot encoded outputs or target variables. We utilize pandas to prepare one hot encoding for the labels."
      ],
      "id": "8pGnODd80zEH"
    },
    {
      "cell_type": "code",
      "execution_count": 13,
      "metadata": {
        "id": "4a408a76"
      },
      "outputs": [],
      "source": [
        "labels_ohe_names = pd.get_dummies(target_labels, sparse=True)\n",
        "labels_ohe = np.asarray(labels_ohe_names)\n"
      ],
      "id": "4a408a76"
    },
    {
      "cell_type": "markdown",
      "metadata": {
        "id": "8wgEfujMzXD6"
      },
      "source": [
        "#15. Print the encoded labels"
      ],
      "id": "8wgEfujMzXD6"
    },
    {
      "cell_type": "code",
      "execution_count": 14,
      "metadata": {
        "colab": {
          "base_uri": "https://localhost:8080/"
        },
        "id": "kFc1tcp4zWgi",
        "outputId": "c36acc55-a6e5-4ed7-a6b9-2354d0fa187b"
      },
      "outputs": [
        {
          "output_type": "stream",
          "name": "stdout",
          "text": [
            "(3000, 120)\n",
            "[[0 0 0 0 0 0 0 0 0 0 0 0 0 0 0 0 0 0 0 1 0 0 0 0 0 0 0 0 0 0 0 0 0 0 0 0\n",
            "  0 0 0 0 0 0 0 0 0 0 0 0 0 0 0 0 0 0 0 0 0 0 0 0 0 0 0 0 0 0 0 0 0 0 0 0\n",
            "  0 0 0 0 0 0 0 0 0 0 0 0 0 0 0 0 0 0 0 0 0 0 0 0 0 0 0 0 0 0 0 0 0 0 0 0\n",
            "  0 0 0 0 0 0 0 0 0 0 0 0]\n",
            " [0 0 0 0 0 0 0 0 0 0 0 0 0 0 0 0 0 0 0 0 0 0 0 0 0 0 0 0 0 0 0 0 0 0 0 0\n",
            "  0 1 0 0 0 0 0 0 0 0 0 0 0 0 0 0 0 0 0 0 0 0 0 0 0 0 0 0 0 0 0 0 0 0 0 0\n",
            "  0 0 0 0 0 0 0 0 0 0 0 0 0 0 0 0 0 0 0 0 0 0 0 0 0 0 0 0 0 0 0 0 0 0 0 0\n",
            "  0 0 0 0 0 0 0 0 0 0 0 0]]\n"
          ]
        }
      ],
      "source": [
        "print(labels_ohe.shape)\n",
        "print(labels_ohe[:2])"
      ],
      "id": "kFc1tcp4zWgi"
    },
    {
      "cell_type": "markdown",
      "metadata": {
        "id": "Vm6mnOhl0_iv"
      },
      "source": [
        "# 16. Create another colomn of named image_path to acces the images from dataset"
      ],
      "id": "Vm6mnOhl0_iv"
    },
    {
      "cell_type": "code",
      "execution_count": 15,
      "metadata": {
        "colab": {
          "base_uri": "https://localhost:8080/",
          "height": 270
        },
        "id": "2514a1c1",
        "outputId": "78e990c3-f4e8-487e-c984-c6845d94895c"
      },
      "outputs": [
        {
          "output_type": "execute_result",
          "data": {
            "text/plain": [
              "                                 id             breed  \\\n",
              "0  000bec180eb18c7604dcecc8fe0dba07       boston_bull   \n",
              "1  001513dfcb2ffafc82cccf4d8bbaba97             dingo   \n",
              "2  001cdf01b096e06d78e9e5112d419397          pekinese   \n",
              "3  00214f311d5d2247d5dfe4fe24b2303d          bluetick   \n",
              "4  0021f9ceb3235effd7fcde7f7538ed62  golden_retriever   \n",
              "\n",
              "                                                                                     image_path  \n",
              "0  /content/drive/MyDrive/Thapar_summer_school/vgg16/train/000bec180eb18c7604dcecc8fe0dba07.jpg  \n",
              "1  /content/drive/MyDrive/Thapar_summer_school/vgg16/train/001513dfcb2ffafc82cccf4d8bbaba97.jpg  \n",
              "2  /content/drive/MyDrive/Thapar_summer_school/vgg16/train/001cdf01b096e06d78e9e5112d419397.jpg  \n",
              "3  /content/drive/MyDrive/Thapar_summer_school/vgg16/train/00214f311d5d2247d5dfe4fe24b2303d.jpg  \n",
              "4  /content/drive/MyDrive/Thapar_summer_school/vgg16/train/0021f9ceb3235effd7fcde7f7538ed62.jpg  "
            ],
            "text/html": [
              "\n",
              "  <div id=\"df-fff7b31f-a624-455e-9ad1-8d05b432bf2f\">\n",
              "    <div class=\"colab-df-container\">\n",
              "      <div>\n",
              "<style scoped>\n",
              "    .dataframe tbody tr th:only-of-type {\n",
              "        vertical-align: middle;\n",
              "    }\n",
              "\n",
              "    .dataframe tbody tr th {\n",
              "        vertical-align: top;\n",
              "    }\n",
              "\n",
              "    .dataframe thead th {\n",
              "        text-align: right;\n",
              "    }\n",
              "</style>\n",
              "<table border=\"1\" class=\"dataframe\">\n",
              "  <thead>\n",
              "    <tr style=\"text-align: right;\">\n",
              "      <th></th>\n",
              "      <th>id</th>\n",
              "      <th>breed</th>\n",
              "      <th>image_path</th>\n",
              "    </tr>\n",
              "  </thead>\n",
              "  <tbody>\n",
              "    <tr>\n",
              "      <th>0</th>\n",
              "      <td>000bec180eb18c7604dcecc8fe0dba07</td>\n",
              "      <td>boston_bull</td>\n",
              "      <td>/content/drive/MyDrive/Thapar_summer_school/vgg16/train/000bec180eb18c7604dcecc8fe0dba07.jpg</td>\n",
              "    </tr>\n",
              "    <tr>\n",
              "      <th>1</th>\n",
              "      <td>001513dfcb2ffafc82cccf4d8bbaba97</td>\n",
              "      <td>dingo</td>\n",
              "      <td>/content/drive/MyDrive/Thapar_summer_school/vgg16/train/001513dfcb2ffafc82cccf4d8bbaba97.jpg</td>\n",
              "    </tr>\n",
              "    <tr>\n",
              "      <th>2</th>\n",
              "      <td>001cdf01b096e06d78e9e5112d419397</td>\n",
              "      <td>pekinese</td>\n",
              "      <td>/content/drive/MyDrive/Thapar_summer_school/vgg16/train/001cdf01b096e06d78e9e5112d419397.jpg</td>\n",
              "    </tr>\n",
              "    <tr>\n",
              "      <th>3</th>\n",
              "      <td>00214f311d5d2247d5dfe4fe24b2303d</td>\n",
              "      <td>bluetick</td>\n",
              "      <td>/content/drive/MyDrive/Thapar_summer_school/vgg16/train/00214f311d5d2247d5dfe4fe24b2303d.jpg</td>\n",
              "    </tr>\n",
              "    <tr>\n",
              "      <th>4</th>\n",
              "      <td>0021f9ceb3235effd7fcde7f7538ed62</td>\n",
              "      <td>golden_retriever</td>\n",
              "      <td>/content/drive/MyDrive/Thapar_summer_school/vgg16/train/0021f9ceb3235effd7fcde7f7538ed62.jpg</td>\n",
              "    </tr>\n",
              "  </tbody>\n",
              "</table>\n",
              "</div>\n",
              "      <button class=\"colab-df-convert\" onclick=\"convertToInteractive('df-fff7b31f-a624-455e-9ad1-8d05b432bf2f')\"\n",
              "              title=\"Convert this dataframe to an interactive table.\"\n",
              "              style=\"display:none;\">\n",
              "        \n",
              "  <svg xmlns=\"http://www.w3.org/2000/svg\" height=\"24px\"viewBox=\"0 0 24 24\"\n",
              "       width=\"24px\">\n",
              "    <path d=\"M0 0h24v24H0V0z\" fill=\"none\"/>\n",
              "    <path d=\"M18.56 5.44l.94 2.06.94-2.06 2.06-.94-2.06-.94-.94-2.06-.94 2.06-2.06.94zm-11 1L8.5 8.5l.94-2.06 2.06-.94-2.06-.94L8.5 2.5l-.94 2.06-2.06.94zm10 10l.94 2.06.94-2.06 2.06-.94-2.06-.94-.94-2.06-.94 2.06-2.06.94z\"/><path d=\"M17.41 7.96l-1.37-1.37c-.4-.4-.92-.59-1.43-.59-.52 0-1.04.2-1.43.59L10.3 9.45l-7.72 7.72c-.78.78-.78 2.05 0 2.83L4 21.41c.39.39.9.59 1.41.59.51 0 1.02-.2 1.41-.59l7.78-7.78 2.81-2.81c.8-.78.8-2.07 0-2.86zM5.41 20L4 18.59l7.72-7.72 1.47 1.35L5.41 20z\"/>\n",
              "  </svg>\n",
              "      </button>\n",
              "      \n",
              "  <style>\n",
              "    .colab-df-container {\n",
              "      display:flex;\n",
              "      flex-wrap:wrap;\n",
              "      gap: 12px;\n",
              "    }\n",
              "\n",
              "    .colab-df-convert {\n",
              "      background-color: #E8F0FE;\n",
              "      border: none;\n",
              "      border-radius: 50%;\n",
              "      cursor: pointer;\n",
              "      display: none;\n",
              "      fill: #1967D2;\n",
              "      height: 32px;\n",
              "      padding: 0 0 0 0;\n",
              "      width: 32px;\n",
              "    }\n",
              "\n",
              "    .colab-df-convert:hover {\n",
              "      background-color: #E2EBFA;\n",
              "      box-shadow: 0px 1px 2px rgba(60, 64, 67, 0.3), 0px 1px 3px 1px rgba(60, 64, 67, 0.15);\n",
              "      fill: #174EA6;\n",
              "    }\n",
              "\n",
              "    [theme=dark] .colab-df-convert {\n",
              "      background-color: #3B4455;\n",
              "      fill: #D2E3FC;\n",
              "    }\n",
              "\n",
              "    [theme=dark] .colab-df-convert:hover {\n",
              "      background-color: #434B5C;\n",
              "      box-shadow: 0px 1px 3px 1px rgba(0, 0, 0, 0.15);\n",
              "      filter: drop-shadow(0px 1px 2px rgba(0, 0, 0, 0.3));\n",
              "      fill: #FFFFFF;\n",
              "    }\n",
              "  </style>\n",
              "\n",
              "      <script>\n",
              "        const buttonEl =\n",
              "          document.querySelector('#df-fff7b31f-a624-455e-9ad1-8d05b432bf2f button.colab-df-convert');\n",
              "        buttonEl.style.display =\n",
              "          google.colab.kernel.accessAllowed ? 'block' : 'none';\n",
              "\n",
              "        async function convertToInteractive(key) {\n",
              "          const element = document.querySelector('#df-fff7b31f-a624-455e-9ad1-8d05b432bf2f');\n",
              "          const dataTable =\n",
              "            await google.colab.kernel.invokeFunction('convertToInteractive',\n",
              "                                                     [key], {});\n",
              "          if (!dataTable) return;\n",
              "\n",
              "          const docLinkHtml = 'Like what you see? Visit the ' +\n",
              "            '<a target=\"_blank\" href=https://colab.research.google.com/notebooks/data_table.ipynb>data table notebook</a>'\n",
              "            + ' to learn more about interactive tables.';\n",
              "          element.innerHTML = '';\n",
              "          dataTable['output_type'] = 'display_data';\n",
              "          await google.colab.output.renderOutput(dataTable, element);\n",
              "          const docLink = document.createElement('div');\n",
              "          docLink.innerHTML = docLinkHtml;\n",
              "          element.appendChild(docLink);\n",
              "        }\n",
              "      </script>\n",
              "    </div>\n",
              "  </div>\n",
              "  "
            ]
          },
          "metadata": {},
          "execution_count": 15
        }
      ],
      "source": [
        "data_labels['image_path'] = data_labels.apply( lambda row: (train_folder + row[\"id\"] + \".jpg\" ), axis=1)\n",
        "data_labels.head()"
      ],
      "id": "2514a1c1"
    },
    {
      "cell_type": "markdown",
      "metadata": {
        "id": "WlNCLj171P6q"
      },
      "source": [
        "# 17. Prepare Train-Test Datasets\n",
        " We use a 70-30 split to prepare the two dataset.\n",
        " convert images data into numpy arrays"
      ],
      "id": "WlNCLj171P6q"
    },
    {
      "cell_type": "code",
      "execution_count": 16,
      "metadata": {
        "id": "f3e85818"
      },
      "outputs": [],
      "source": [
        "train_data = np.array([img_to_array(\n",
        "                            load_img(img, \n",
        "                                     target_size=(224, 224))\n",
        "                       ) for img \n",
        "                           in data_labels['image_path'].values.tolist()\n",
        "                      ]).astype('float32')"
      ],
      "id": "f3e85818"
    },
    {
      "cell_type": "markdown",
      "metadata": {
        "id": "4W3ny-0_1Tds"
      },
      "source": [
        "#18. check the shape of data"
      ],
      "id": "4W3ny-0_1Tds"
    },
    {
      "cell_type": "code",
      "execution_count": 17,
      "metadata": {
        "colab": {
          "base_uri": "https://localhost:8080/"
        },
        "id": "cfa1a4a0",
        "outputId": "6aecd75f-e340-4074-b004-a84418367c4f"
      },
      "outputs": [
        {
          "output_type": "execute_result",
          "data": {
            "text/plain": [
              "(3000, 224, 224, 3)"
            ]
          },
          "metadata": {},
          "execution_count": 17
        }
      ],
      "source": [
        "train_data.shape"
      ],
      "id": "cfa1a4a0"
    },
    {
      "cell_type": "markdown",
      "metadata": {
        "id": "4ExBTes_1aMW"
      },
      "source": [
        "#19. divide the data into training and testing"
      ],
      "id": "4ExBTes_1aMW"
    },
    {
      "cell_type": "code",
      "execution_count": 18,
      "metadata": {
        "id": "33fb51b5"
      },
      "outputs": [],
      "source": [
        "x_train, x_test, y_train, y_test = train_test_split(train_data, \n",
        "                                                    target_labels, \n",
        "                                                    test_size=0.3, \n",
        "                                                    stratify=np.array(target_labels), \n",
        "                                                    random_state=42)"
      ],
      "id": "33fb51b5"
    },
    {
      "cell_type": "markdown",
      "metadata": {
        "id": "MwjMqq7Q1ktY"
      },
      "source": [
        "# 20. check shape of training and testing data"
      ],
      "id": "MwjMqq7Q1ktY"
    },
    {
      "cell_type": "code",
      "execution_count": 19,
      "metadata": {
        "colab": {
          "base_uri": "https://localhost:8080/"
        },
        "id": "dff39c4a",
        "outputId": "3eb6f897-f73c-488a-81ce-b3c8daa0dad0"
      },
      "outputs": [
        {
          "output_type": "execute_result",
          "data": {
            "text/plain": [
              "((2100, 224, 224, 3), (900, 224, 224, 3))"
            ]
          },
          "metadata": {},
          "execution_count": 19
        }
      ],
      "source": [
        "x_train.shape, x_test.shape"
      ],
      "id": "dff39c4a"
    },
    {
      "cell_type": "markdown",
      "metadata": {
        "id": "R0gNFu0K1nmW"
      },
      "source": [
        "#21.  Prepare training and validation data from training data"
      ],
      "id": "R0gNFu0K1nmW"
    },
    {
      "cell_type": "code",
      "execution_count": 20,
      "metadata": {
        "id": "72cd16ac"
      },
      "outputs": [],
      "source": [
        "x_train, x_val, y_train, y_val = train_test_split(x_train, \n",
        "                                                    y_train, \n",
        "                                                    test_size=0.15, \n",
        "                                                    stratify=np.array(y_train), \n",
        "                                                    random_state=42)\n"
      ],
      "id": "72cd16ac"
    },
    {
      "cell_type": "markdown",
      "metadata": {
        "id": "hKs3I2Lz3RTh"
      },
      "source": [
        "#22. check shape of training and validation data"
      ],
      "id": "hKs3I2Lz3RTh"
    },
    {
      "cell_type": "code",
      "execution_count": 21,
      "metadata": {
        "id": "HRPwusV93QkK",
        "colab": {
          "base_uri": "https://localhost:8080/"
        },
        "outputId": "ff0ccd69-a94a-497d-9947-e8b95c4b8279"
      },
      "outputs": [
        {
          "output_type": "execute_result",
          "data": {
            "text/plain": [
              "((1785, 224, 224, 3), (315, 224, 224, 3))"
            ]
          },
          "metadata": {},
          "execution_count": 21
        }
      ],
      "source": [
        "x_train.shape, x_val.shape"
      ],
      "id": "HRPwusV93QkK"
    },
    {
      "cell_type": "markdown",
      "metadata": {
        "id": "JVR-kuS91zOw"
      },
      "source": [
        "#23. Prepare target variables for train, test and validation datasets\n",
        "\n",
        "for Training labels"
      ],
      "id": "JVR-kuS91zOw"
    },
    {
      "cell_type": "code",
      "execution_count": 22,
      "metadata": {
        "id": "AecHXPms3hTf"
      },
      "outputs": [],
      "source": [
        "y_train_ohe = pd.get_dummies(y_train, sparse=True)\n",
        "y_train_ohe = np.asarray(y_train_ohe)"
      ],
      "id": "AecHXPms3hTf"
    },
    {
      "cell_type": "markdown",
      "metadata": {
        "id": "qqRtZfHY3iMN"
      },
      "source": [
        "# 24. for testing labels"
      ],
      "id": "qqRtZfHY3iMN"
    },
    {
      "cell_type": "code",
      "execution_count": 23,
      "metadata": {
        "id": "au5QvX-Y3mne"
      },
      "outputs": [],
      "source": [
        "y_test_ohe = pd.get_dummies(y_test, sparse=True)\n",
        "y_test_ohe = np.asarray(y_test_ohe)"
      ],
      "id": "au5QvX-Y3mne"
    },
    {
      "cell_type": "markdown",
      "metadata": {
        "id": "JfJ4Ytzp3oZy"
      },
      "source": [
        "#25. For validation labels"
      ],
      "id": "JfJ4Ytzp3oZy"
    },
    {
      "cell_type": "code",
      "execution_count": 24,
      "metadata": {
        "id": "1311d562"
      },
      "outputs": [],
      "source": [
        "y_val_ohe = pd.get_dummies(y_val, sparse=True)\n",
        "y_val_ohe = np.asarray(y_val_ohe)\n",
        "\n"
      ],
      "id": "1311d562"
    },
    {
      "cell_type": "markdown",
      "metadata": {
        "id": "pMn1yYE23v0J"
      },
      "source": [
        "#26. check shape of all labels"
      ],
      "id": "pMn1yYE23v0J"
    },
    {
      "cell_type": "code",
      "execution_count": 25,
      "metadata": {
        "id": "juIFzs9E30EK",
        "colab": {
          "base_uri": "https://localhost:8080/"
        },
        "outputId": "fdc2c43f-2e08-4de0-9097-fa35453b90e0"
      },
      "outputs": [
        {
          "output_type": "execute_result",
          "data": {
            "text/plain": [
              "((1785, 120), (900, 120), (315, 120))"
            ]
          },
          "metadata": {},
          "execution_count": 25
        }
      ],
      "source": [
        "y_train_ohe.shape, y_test_ohe.shape, y_val_ohe.shape"
      ],
      "id": "juIFzs9E30EK"
    },
    {
      "cell_type": "markdown",
      "metadata": {
        "id": "YdDaNJkb4Amr"
      },
      "source": [
        "#27. define batch size "
      ],
      "id": "YdDaNJkb4Amr"
    },
    {
      "cell_type": "code",
      "execution_count": 26,
      "metadata": {
        "id": "15bbbf01"
      },
      "outputs": [],
      "source": [
        "BATCH_SIZE = 12"
      ],
      "id": "15bbbf01"
    },
    {
      "cell_type": "markdown",
      "metadata": {
        "id": "gtu1mYPC16eH"
      },
      "source": [
        "# Data Augmentation\n",
        "Since number of samples per class are not very high, we utilize data augmentation to prepare different variations of different samples available. We do this using the ImageDataGenerator utility from keras"
      ],
      "id": "gtu1mYPC16eH"
    },
    {
      "cell_type": "markdown",
      "metadata": {
        "id": "fBEu3OpT4G5O"
      },
      "source": [
        "# 28. Create train generator."
      ],
      "id": "fBEu3OpT4G5O"
    },
    {
      "cell_type": "code",
      "execution_count": 27,
      "metadata": {
        "id": "dee50b0f"
      },
      "outputs": [],
      "source": [
        "\n",
        "train_datagen = ImageDataGenerator(rescale=1./255, \n",
        "                                   rotation_range=30, \n",
        "                                   width_shift_range=0.2,\n",
        "                                   height_shift_range=0.2, \n",
        "                                   horizontal_flip = 'true')\n",
        "train_generator = train_datagen.flow(x_train, y_train_ohe, shuffle=False, batch_size=BATCH_SIZE, seed=1)"
      ],
      "id": "dee50b0f"
    },
    {
      "cell_type": "markdown",
      "metadata": {
        "id": "Vl823qPN4M_L"
      },
      "source": [
        "# 29. Create validation generator"
      ],
      "id": "Vl823qPN4M_L"
    },
    {
      "cell_type": "code",
      "execution_count": 28,
      "metadata": {
        "id": "dac99f44"
      },
      "outputs": [],
      "source": [
        "\n",
        "val_datagen = ImageDataGenerator(rescale = 1./255)\n",
        "val_generator = train_datagen.flow(x_val, y_val_ohe, shuffle=False, batch_size=BATCH_SIZE, seed=1)"
      ],
      "id": "dac99f44"
    },
    {
      "cell_type": "markdown",
      "metadata": {
        "id": "qUlafOTE3B7B"
      },
      "source": [
        "#30. Get the vgg16 model so we can do transfer learning"
      ],
      "id": "qUlafOTE3B7B"
    },
    {
      "cell_type": "code",
      "execution_count": 29,
      "metadata": {
        "id": "d1e9c2e0"
      },
      "outputs": [],
      "source": [
        "\n",
        "base_vgg = VGG16(weights='imagenet', include_top = False, input_shape=(224, 224, 3))"
      ],
      "id": "d1e9c2e0"
    },
    {
      "cell_type": "markdown",
      "metadata": {
        "id": "Mh3tZYII3ZPY"
      },
      "source": [
        "# Using Readymade model without any fine tuning only change last layer i.e. classification layer"
      ],
      "id": "Mh3tZYII3ZPY"
    },
    {
      "cell_type": "markdown",
      "metadata": {
        "id": "G-IzfQFV4f6o"
      },
      "source": [
        "#31. Add a global spatial average pooling layer"
      ],
      "id": "G-IzfQFV4f6o"
    },
    {
      "cell_type": "code",
      "execution_count": 30,
      "metadata": {
        "id": "43656785"
      },
      "outputs": [],
      "source": [
        "\n",
        "out = base_vgg.output\n",
        "out = GlobalAveragePooling2D()(out)\n",
        "out = Dense(512, activation='relu')(out)\n",
        "out = Dense(512, activation='relu')(out)\n",
        "total_classes = y_train_ohe.shape[1]\n",
        "predictions = Dense(total_classes, activation='softmax')(out)"
      ],
      "id": "43656785"
    },
    {
      "cell_type": "markdown",
      "metadata": {
        "id": "5M69eI9h3Lga"
      },
      "source": [
        "#32. define model"
      ],
      "id": "5M69eI9h3Lga"
    },
    {
      "cell_type": "code",
      "execution_count": 31,
      "metadata": {
        "id": "a730546a"
      },
      "outputs": [],
      "source": [
        "model = Model(inputs=base_vgg.input, outputs=predictions)"
      ],
      "id": "a730546a"
    },
    {
      "cell_type": "markdown",
      "metadata": {
        "id": "XyICC___4uDh"
      },
      "source": [
        "#33. only if we want to freeze layers"
      ],
      "id": "XyICC___4uDh"
    },
    {
      "cell_type": "code",
      "execution_count": 32,
      "metadata": {
        "id": "0abd8b5a"
      },
      "outputs": [],
      "source": [
        "\n",
        "for layer in base_vgg.layers:\n",
        "    layer.trainable = False"
      ],
      "id": "0abd8b5a"
    },
    {
      "cell_type": "markdown",
      "metadata": {
        "id": "NTnU5Kc242kv"
      },
      "source": [
        "# 34. Compile the model"
      ],
      "id": "NTnU5Kc242kv"
    },
    {
      "cell_type": "code",
      "execution_count": 33,
      "metadata": {
        "id": "006a4086"
      },
      "outputs": [],
      "source": [
        " \n",
        "model.compile(Adam(lr=.0001), loss='categorical_crossentropy', metrics=['accuracy']) \n",
        "\n"
      ],
      "id": "006a4086"
    },
    {
      "cell_type": "markdown",
      "metadata": {
        "id": "K5u6Gxvi4-kN"
      },
      "source": [
        "#35. check model summary"
      ],
      "id": "K5u6Gxvi4-kN"
    },
    {
      "cell_type": "code",
      "execution_count": 34,
      "metadata": {
        "id": "QcCjWO29496i",
        "colab": {
          "base_uri": "https://localhost:8080/"
        },
        "outputId": "68eae482-db10-4fc1-aafe-8263833c0ca5"
      },
      "outputs": [
        {
          "output_type": "stream",
          "name": "stdout",
          "text": [
            "Model: \"model\"\n",
            "_________________________________________________________________\n",
            " Layer (type)                Output Shape              Param #   \n",
            "=================================================================\n",
            " input_1 (InputLayer)        [(None, 224, 224, 3)]     0         \n",
            "                                                                 \n",
            " block1_conv1 (Conv2D)       (None, 224, 224, 64)      1792      \n",
            "                                                                 \n",
            " block1_conv2 (Conv2D)       (None, 224, 224, 64)      36928     \n",
            "                                                                 \n",
            " block1_pool (MaxPooling2D)  (None, 112, 112, 64)      0         \n",
            "                                                                 \n",
            " block2_conv1 (Conv2D)       (None, 112, 112, 128)     73856     \n",
            "                                                                 \n",
            " block2_conv2 (Conv2D)       (None, 112, 112, 128)     147584    \n",
            "                                                                 \n",
            " block2_pool (MaxPooling2D)  (None, 56, 56, 128)       0         \n",
            "                                                                 \n",
            " block3_conv1 (Conv2D)       (None, 56, 56, 256)       295168    \n",
            "                                                                 \n",
            " block3_conv2 (Conv2D)       (None, 56, 56, 256)       590080    \n",
            "                                                                 \n",
            " block3_conv3 (Conv2D)       (None, 56, 56, 256)       590080    \n",
            "                                                                 \n",
            " block3_pool (MaxPooling2D)  (None, 28, 28, 256)       0         \n",
            "                                                                 \n",
            " block4_conv1 (Conv2D)       (None, 28, 28, 512)       1180160   \n",
            "                                                                 \n",
            " block4_conv2 (Conv2D)       (None, 28, 28, 512)       2359808   \n",
            "                                                                 \n",
            " block4_conv3 (Conv2D)       (None, 28, 28, 512)       2359808   \n",
            "                                                                 \n",
            " block4_pool (MaxPooling2D)  (None, 14, 14, 512)       0         \n",
            "                                                                 \n",
            " block5_conv1 (Conv2D)       (None, 14, 14, 512)       2359808   \n",
            "                                                                 \n",
            " block5_conv2 (Conv2D)       (None, 14, 14, 512)       2359808   \n",
            "                                                                 \n",
            " block5_conv3 (Conv2D)       (None, 14, 14, 512)       2359808   \n",
            "                                                                 \n",
            " block5_pool (MaxPooling2D)  (None, 7, 7, 512)         0         \n",
            "                                                                 \n",
            " global_average_pooling2d (G  (None, 512)              0         \n",
            " lobalAveragePooling2D)                                          \n",
            "                                                                 \n",
            " dense (Dense)               (None, 512)               262656    \n",
            "                                                                 \n",
            " dense_1 (Dense)             (None, 512)               262656    \n",
            "                                                                 \n",
            " dense_2 (Dense)             (None, 120)               61560     \n",
            "                                                                 \n",
            "=================================================================\n",
            "Total params: 15,301,560\n",
            "Trainable params: 586,872\n",
            "Non-trainable params: 14,714,688\n",
            "_________________________________________________________________\n"
          ]
        }
      ],
      "source": [
        "model.summary()"
      ],
      "id": "QcCjWO29496i"
    },
    {
      "cell_type": "markdown",
      "metadata": {
        "id": "ApK_LCSr5GzH"
      },
      "source": [
        "#36. Train the model"
      ],
      "id": "ApK_LCSr5GzH"
    },
    {
      "cell_type": "code",
      "execution_count": 36,
      "metadata": {
        "id": "3ef7b625",
        "outputId": "d930ffbe-9a55-4549-8d72-9eac329ab3d5",
        "colab": {
          "base_uri": "https://localhost:8080/",
          "height": 397
        }
      },
      "outputs": [
        {
          "output_type": "stream",
          "name": "stdout",
          "text": [
            "Epoch 1/100\n",
            " 87/148 [================>.............] - ETA: 6:56 - loss: 4.8203 - accuracy: 0.0106"
          ]
        },
        {
          "output_type": "error",
          "ename": "KeyboardInterrupt",
          "evalue": "ignored",
          "traceback": [
            "\u001b[0;31m---------------------------------------------------------------------------\u001b[0m",
            "\u001b[0;31mKeyboardInterrupt\u001b[0m                         Traceback (most recent call last)",
            "\u001b[0;32m<ipython-input-36-ae98f77a98b8>\u001b[0m in \u001b[0;36m<module>\u001b[0;34m()\u001b[0m\n\u001b[1;32m      9\u001b[0m                               \u001b[0mvalidation_steps\u001b[0m\u001b[0;34m=\u001b[0m\u001b[0mval_steps_per_epoch\u001b[0m\u001b[0;34m,\u001b[0m\u001b[0;34m\u001b[0m\u001b[0;34m\u001b[0m\u001b[0m\n\u001b[1;32m     10\u001b[0m                               \u001b[0mepochs\u001b[0m\u001b[0;34m=\u001b[0m\u001b[0;36m100\u001b[0m\u001b[0;34m,\u001b[0m\u001b[0;34m\u001b[0m\u001b[0;34m\u001b[0m\u001b[0m\n\u001b[0;32m---> 11\u001b[0;31m                               verbose=1)\n\u001b[0m",
            "\u001b[0;32m/usr/local/lib/python3.7/dist-packages/keras/engine/training.py\u001b[0m in \u001b[0;36mfit_generator\u001b[0;34m(self, generator, steps_per_epoch, epochs, verbose, callbacks, validation_data, validation_steps, validation_freq, class_weight, max_queue_size, workers, use_multiprocessing, shuffle, initial_epoch)\u001b[0m\n\u001b[1;32m   2221\u001b[0m         \u001b[0muse_multiprocessing\u001b[0m\u001b[0;34m=\u001b[0m\u001b[0muse_multiprocessing\u001b[0m\u001b[0;34m,\u001b[0m\u001b[0;34m\u001b[0m\u001b[0;34m\u001b[0m\u001b[0m\n\u001b[1;32m   2222\u001b[0m         \u001b[0mshuffle\u001b[0m\u001b[0;34m=\u001b[0m\u001b[0mshuffle\u001b[0m\u001b[0;34m,\u001b[0m\u001b[0;34m\u001b[0m\u001b[0;34m\u001b[0m\u001b[0m\n\u001b[0;32m-> 2223\u001b[0;31m         initial_epoch=initial_epoch)\n\u001b[0m\u001b[1;32m   2224\u001b[0m \u001b[0;34m\u001b[0m\u001b[0m\n\u001b[1;32m   2225\u001b[0m   \u001b[0;34m@\u001b[0m\u001b[0mdoc_controls\u001b[0m\u001b[0;34m.\u001b[0m\u001b[0mdo_not_generate_docs\u001b[0m\u001b[0;34m\u001b[0m\u001b[0;34m\u001b[0m\u001b[0m\n",
            "\u001b[0;32m/usr/local/lib/python3.7/dist-packages/keras/utils/traceback_utils.py\u001b[0m in \u001b[0;36merror_handler\u001b[0;34m(*args, **kwargs)\u001b[0m\n\u001b[1;32m     62\u001b[0m     \u001b[0mfiltered_tb\u001b[0m \u001b[0;34m=\u001b[0m \u001b[0;32mNone\u001b[0m\u001b[0;34m\u001b[0m\u001b[0;34m\u001b[0m\u001b[0m\n\u001b[1;32m     63\u001b[0m     \u001b[0;32mtry\u001b[0m\u001b[0;34m:\u001b[0m\u001b[0;34m\u001b[0m\u001b[0;34m\u001b[0m\u001b[0m\n\u001b[0;32m---> 64\u001b[0;31m       \u001b[0;32mreturn\u001b[0m \u001b[0mfn\u001b[0m\u001b[0;34m(\u001b[0m\u001b[0;34m*\u001b[0m\u001b[0margs\u001b[0m\u001b[0;34m,\u001b[0m \u001b[0;34m**\u001b[0m\u001b[0mkwargs\u001b[0m\u001b[0;34m)\u001b[0m\u001b[0;34m\u001b[0m\u001b[0;34m\u001b[0m\u001b[0m\n\u001b[0m\u001b[1;32m     65\u001b[0m     \u001b[0;32mexcept\u001b[0m \u001b[0mException\u001b[0m \u001b[0;32mas\u001b[0m \u001b[0me\u001b[0m\u001b[0;34m:\u001b[0m  \u001b[0;31m# pylint: disable=broad-except\u001b[0m\u001b[0;34m\u001b[0m\u001b[0;34m\u001b[0m\u001b[0m\n\u001b[1;32m     66\u001b[0m       \u001b[0mfiltered_tb\u001b[0m \u001b[0;34m=\u001b[0m \u001b[0m_process_traceback_frames\u001b[0m\u001b[0;34m(\u001b[0m\u001b[0me\u001b[0m\u001b[0;34m.\u001b[0m\u001b[0m__traceback__\u001b[0m\u001b[0;34m)\u001b[0m\u001b[0;34m\u001b[0m\u001b[0;34m\u001b[0m\u001b[0m\n",
            "\u001b[0;32m/usr/local/lib/python3.7/dist-packages/keras/engine/training.py\u001b[0m in \u001b[0;36mfit\u001b[0;34m(self, x, y, batch_size, epochs, verbose, callbacks, validation_split, validation_data, shuffle, class_weight, sample_weight, initial_epoch, steps_per_epoch, validation_steps, validation_batch_size, validation_freq, max_queue_size, workers, use_multiprocessing)\u001b[0m\n\u001b[1;32m   1382\u001b[0m                 _r=1):\n\u001b[1;32m   1383\u001b[0m               \u001b[0mcallbacks\u001b[0m\u001b[0;34m.\u001b[0m\u001b[0mon_train_batch_begin\u001b[0m\u001b[0;34m(\u001b[0m\u001b[0mstep\u001b[0m\u001b[0;34m)\u001b[0m\u001b[0;34m\u001b[0m\u001b[0;34m\u001b[0m\u001b[0m\n\u001b[0;32m-> 1384\u001b[0;31m               \u001b[0mtmp_logs\u001b[0m \u001b[0;34m=\u001b[0m \u001b[0mself\u001b[0m\u001b[0;34m.\u001b[0m\u001b[0mtrain_function\u001b[0m\u001b[0;34m(\u001b[0m\u001b[0miterator\u001b[0m\u001b[0;34m)\u001b[0m\u001b[0;34m\u001b[0m\u001b[0;34m\u001b[0m\u001b[0m\n\u001b[0m\u001b[1;32m   1385\u001b[0m               \u001b[0;32mif\u001b[0m \u001b[0mdata_handler\u001b[0m\u001b[0;34m.\u001b[0m\u001b[0mshould_sync\u001b[0m\u001b[0;34m:\u001b[0m\u001b[0;34m\u001b[0m\u001b[0;34m\u001b[0m\u001b[0m\n\u001b[1;32m   1386\u001b[0m                 \u001b[0mcontext\u001b[0m\u001b[0;34m.\u001b[0m\u001b[0masync_wait\u001b[0m\u001b[0;34m(\u001b[0m\u001b[0;34m)\u001b[0m\u001b[0;34m\u001b[0m\u001b[0;34m\u001b[0m\u001b[0m\n",
            "\u001b[0;32m/usr/local/lib/python3.7/dist-packages/tensorflow/python/util/traceback_utils.py\u001b[0m in \u001b[0;36merror_handler\u001b[0;34m(*args, **kwargs)\u001b[0m\n\u001b[1;32m    148\u001b[0m     \u001b[0mfiltered_tb\u001b[0m \u001b[0;34m=\u001b[0m \u001b[0;32mNone\u001b[0m\u001b[0;34m\u001b[0m\u001b[0;34m\u001b[0m\u001b[0m\n\u001b[1;32m    149\u001b[0m     \u001b[0;32mtry\u001b[0m\u001b[0;34m:\u001b[0m\u001b[0;34m\u001b[0m\u001b[0;34m\u001b[0m\u001b[0m\n\u001b[0;32m--> 150\u001b[0;31m       \u001b[0;32mreturn\u001b[0m \u001b[0mfn\u001b[0m\u001b[0;34m(\u001b[0m\u001b[0;34m*\u001b[0m\u001b[0margs\u001b[0m\u001b[0;34m,\u001b[0m \u001b[0;34m**\u001b[0m\u001b[0mkwargs\u001b[0m\u001b[0;34m)\u001b[0m\u001b[0;34m\u001b[0m\u001b[0;34m\u001b[0m\u001b[0m\n\u001b[0m\u001b[1;32m    151\u001b[0m     \u001b[0;32mexcept\u001b[0m \u001b[0mException\u001b[0m \u001b[0;32mas\u001b[0m \u001b[0me\u001b[0m\u001b[0;34m:\u001b[0m\u001b[0;34m\u001b[0m\u001b[0;34m\u001b[0m\u001b[0m\n\u001b[1;32m    152\u001b[0m       \u001b[0mfiltered_tb\u001b[0m \u001b[0;34m=\u001b[0m \u001b[0m_process_traceback_frames\u001b[0m\u001b[0;34m(\u001b[0m\u001b[0me\u001b[0m\u001b[0;34m.\u001b[0m\u001b[0m__traceback__\u001b[0m\u001b[0;34m)\u001b[0m\u001b[0;34m\u001b[0m\u001b[0;34m\u001b[0m\u001b[0m\n",
            "\u001b[0;32m/usr/local/lib/python3.7/dist-packages/tensorflow/python/eager/def_function.py\u001b[0m in \u001b[0;36m__call__\u001b[0;34m(self, *args, **kwds)\u001b[0m\n\u001b[1;32m    913\u001b[0m \u001b[0;34m\u001b[0m\u001b[0m\n\u001b[1;32m    914\u001b[0m       \u001b[0;32mwith\u001b[0m \u001b[0mOptionalXlaContext\u001b[0m\u001b[0;34m(\u001b[0m\u001b[0mself\u001b[0m\u001b[0;34m.\u001b[0m\u001b[0m_jit_compile\u001b[0m\u001b[0;34m)\u001b[0m\u001b[0;34m:\u001b[0m\u001b[0;34m\u001b[0m\u001b[0;34m\u001b[0m\u001b[0m\n\u001b[0;32m--> 915\u001b[0;31m         \u001b[0mresult\u001b[0m \u001b[0;34m=\u001b[0m \u001b[0mself\u001b[0m\u001b[0;34m.\u001b[0m\u001b[0m_call\u001b[0m\u001b[0;34m(\u001b[0m\u001b[0;34m*\u001b[0m\u001b[0margs\u001b[0m\u001b[0;34m,\u001b[0m \u001b[0;34m**\u001b[0m\u001b[0mkwds\u001b[0m\u001b[0;34m)\u001b[0m\u001b[0;34m\u001b[0m\u001b[0;34m\u001b[0m\u001b[0m\n\u001b[0m\u001b[1;32m    916\u001b[0m \u001b[0;34m\u001b[0m\u001b[0m\n\u001b[1;32m    917\u001b[0m       \u001b[0mnew_tracing_count\u001b[0m \u001b[0;34m=\u001b[0m \u001b[0mself\u001b[0m\u001b[0;34m.\u001b[0m\u001b[0mexperimental_get_tracing_count\u001b[0m\u001b[0;34m(\u001b[0m\u001b[0;34m)\u001b[0m\u001b[0;34m\u001b[0m\u001b[0;34m\u001b[0m\u001b[0m\n",
            "\u001b[0;32m/usr/local/lib/python3.7/dist-packages/tensorflow/python/eager/def_function.py\u001b[0m in \u001b[0;36m_call\u001b[0;34m(self, *args, **kwds)\u001b[0m\n\u001b[1;32m    945\u001b[0m       \u001b[0;31m# In this case we have created variables on the first call, so we run the\u001b[0m\u001b[0;34m\u001b[0m\u001b[0;34m\u001b[0m\u001b[0;34m\u001b[0m\u001b[0m\n\u001b[1;32m    946\u001b[0m       \u001b[0;31m# defunned version which is guaranteed to never create variables.\u001b[0m\u001b[0;34m\u001b[0m\u001b[0;34m\u001b[0m\u001b[0;34m\u001b[0m\u001b[0m\n\u001b[0;32m--> 947\u001b[0;31m       \u001b[0;32mreturn\u001b[0m \u001b[0mself\u001b[0m\u001b[0;34m.\u001b[0m\u001b[0m_stateless_fn\u001b[0m\u001b[0;34m(\u001b[0m\u001b[0;34m*\u001b[0m\u001b[0margs\u001b[0m\u001b[0;34m,\u001b[0m \u001b[0;34m**\u001b[0m\u001b[0mkwds\u001b[0m\u001b[0;34m)\u001b[0m  \u001b[0;31m# pylint: disable=not-callable\u001b[0m\u001b[0;34m\u001b[0m\u001b[0;34m\u001b[0m\u001b[0m\n\u001b[0m\u001b[1;32m    948\u001b[0m     \u001b[0;32melif\u001b[0m \u001b[0mself\u001b[0m\u001b[0;34m.\u001b[0m\u001b[0m_stateful_fn\u001b[0m \u001b[0;32mis\u001b[0m \u001b[0;32mnot\u001b[0m \u001b[0;32mNone\u001b[0m\u001b[0;34m:\u001b[0m\u001b[0;34m\u001b[0m\u001b[0;34m\u001b[0m\u001b[0m\n\u001b[1;32m    949\u001b[0m       \u001b[0;31m# Release the lock early so that multiple threads can perform the call\u001b[0m\u001b[0;34m\u001b[0m\u001b[0;34m\u001b[0m\u001b[0;34m\u001b[0m\u001b[0m\n",
            "\u001b[0;32m/usr/local/lib/python3.7/dist-packages/tensorflow/python/eager/function.py\u001b[0m in \u001b[0;36m__call__\u001b[0;34m(self, *args, **kwargs)\u001b[0m\n\u001b[1;32m   2955\u001b[0m        filtered_flat_args) = self._maybe_define_function(args, kwargs)\n\u001b[1;32m   2956\u001b[0m     return graph_function._call_flat(\n\u001b[0;32m-> 2957\u001b[0;31m         filtered_flat_args, captured_inputs=graph_function.captured_inputs)  # pylint: disable=protected-access\n\u001b[0m\u001b[1;32m   2958\u001b[0m \u001b[0;34m\u001b[0m\u001b[0m\n\u001b[1;32m   2959\u001b[0m   \u001b[0;34m@\u001b[0m\u001b[0mproperty\u001b[0m\u001b[0;34m\u001b[0m\u001b[0;34m\u001b[0m\u001b[0m\n",
            "\u001b[0;32m/usr/local/lib/python3.7/dist-packages/tensorflow/python/eager/function.py\u001b[0m in \u001b[0;36m_call_flat\u001b[0;34m(self, args, captured_inputs, cancellation_manager)\u001b[0m\n\u001b[1;32m   1852\u001b[0m       \u001b[0;31m# No tape is watching; skip to running the function.\u001b[0m\u001b[0;34m\u001b[0m\u001b[0;34m\u001b[0m\u001b[0;34m\u001b[0m\u001b[0m\n\u001b[1;32m   1853\u001b[0m       return self._build_call_outputs(self._inference_function.call(\n\u001b[0;32m-> 1854\u001b[0;31m           ctx, args, cancellation_manager=cancellation_manager))\n\u001b[0m\u001b[1;32m   1855\u001b[0m     forward_backward = self._select_forward_and_backward_functions(\n\u001b[1;32m   1856\u001b[0m         \u001b[0margs\u001b[0m\u001b[0;34m,\u001b[0m\u001b[0;34m\u001b[0m\u001b[0;34m\u001b[0m\u001b[0m\n",
            "\u001b[0;32m/usr/local/lib/python3.7/dist-packages/tensorflow/python/eager/function.py\u001b[0m in \u001b[0;36mcall\u001b[0;34m(self, ctx, args, cancellation_manager)\u001b[0m\n\u001b[1;32m    502\u001b[0m               \u001b[0minputs\u001b[0m\u001b[0;34m=\u001b[0m\u001b[0margs\u001b[0m\u001b[0;34m,\u001b[0m\u001b[0;34m\u001b[0m\u001b[0;34m\u001b[0m\u001b[0m\n\u001b[1;32m    503\u001b[0m               \u001b[0mattrs\u001b[0m\u001b[0;34m=\u001b[0m\u001b[0mattrs\u001b[0m\u001b[0;34m,\u001b[0m\u001b[0;34m\u001b[0m\u001b[0;34m\u001b[0m\u001b[0m\n\u001b[0;32m--> 504\u001b[0;31m               ctx=ctx)\n\u001b[0m\u001b[1;32m    505\u001b[0m         \u001b[0;32melse\u001b[0m\u001b[0;34m:\u001b[0m\u001b[0;34m\u001b[0m\u001b[0;34m\u001b[0m\u001b[0m\n\u001b[1;32m    506\u001b[0m           outputs = execute.execute_with_cancellation(\n",
            "\u001b[0;32m/usr/local/lib/python3.7/dist-packages/tensorflow/python/eager/execute.py\u001b[0m in \u001b[0;36mquick_execute\u001b[0;34m(op_name, num_outputs, inputs, attrs, ctx, name)\u001b[0m\n\u001b[1;32m     53\u001b[0m     \u001b[0mctx\u001b[0m\u001b[0;34m.\u001b[0m\u001b[0mensure_initialized\u001b[0m\u001b[0;34m(\u001b[0m\u001b[0;34m)\u001b[0m\u001b[0;34m\u001b[0m\u001b[0;34m\u001b[0m\u001b[0m\n\u001b[1;32m     54\u001b[0m     tensors = pywrap_tfe.TFE_Py_Execute(ctx._handle, device_name, op_name,\n\u001b[0;32m---> 55\u001b[0;31m                                         inputs, attrs, num_outputs)\n\u001b[0m\u001b[1;32m     56\u001b[0m   \u001b[0;32mexcept\u001b[0m \u001b[0mcore\u001b[0m\u001b[0;34m.\u001b[0m\u001b[0m_NotOkStatusException\u001b[0m \u001b[0;32mas\u001b[0m \u001b[0me\u001b[0m\u001b[0;34m:\u001b[0m\u001b[0;34m\u001b[0m\u001b[0;34m\u001b[0m\u001b[0m\n\u001b[1;32m     57\u001b[0m     \u001b[0;32mif\u001b[0m \u001b[0mname\u001b[0m \u001b[0;32mis\u001b[0m \u001b[0;32mnot\u001b[0m \u001b[0;32mNone\u001b[0m\u001b[0;34m:\u001b[0m\u001b[0;34m\u001b[0m\u001b[0;34m\u001b[0m\u001b[0m\n",
            "\u001b[0;31mKeyboardInterrupt\u001b[0m: "
          ]
        }
      ],
      "source": [
        "\n",
        "batch_size = BATCH_SIZE\n",
        "train_steps_per_epoch = x_train.shape[0] // batch_size\n",
        "val_steps_per_epoch = x_val.shape[0] // batch_size\n",
        "\n",
        "history = model.fit_generator(train_generator,\n",
        "                              steps_per_epoch=train_steps_per_epoch,\n",
        "                              validation_data=val_generator,\n",
        "                              validation_steps=val_steps_per_epoch,\n",
        "                              epochs=100,\n",
        "                              verbose=1)"
      ],
      "id": "3ef7b625"
    },
    {
      "cell_type": "markdown",
      "metadata": {
        "id": "HcYVSZ5S5N9K"
      },
      "source": [
        "#37. save the model"
      ],
      "id": "HcYVSZ5S5N9K"
    },
    {
      "cell_type": "code",
      "execution_count": null,
      "metadata": {
        "id": "ed82e021"
      },
      "outputs": [],
      "source": [
        "model.save('dog_breed_vgg16.hdf5')"
      ],
      "id": "ed82e021"
    },
    {
      "cell_type": "markdown",
      "source": [
        "# Load the trained model"
      ],
      "metadata": {
        "id": "nKcO4Mah23TR"
      },
      "id": "nKcO4Mah23TR"
    },
    {
      "cell_type": "code",
      "source": [
        "import keras\n",
        "model=keras.models.load_model('/content/drive/MyDrive/Thapar_summer_school/vgg16/dog_breed_vgg16.hdf5')"
      ],
      "metadata": {
        "id": "PbfCy2eT229S"
      },
      "id": "PbfCy2eT229S",
      "execution_count": 37,
      "outputs": []
    },
    {
      "cell_type": "markdown",
      "metadata": {
        "id": "ue2lWynA5WT3"
      },
      "source": [
        "#38. Plot the results"
      ],
      "id": "ue2lWynA5WT3"
    },
    {
      "cell_type": "code",
      "execution_count": 38,
      "metadata": {
        "id": "6febe275",
        "outputId": "4fa83e1f-bcb4-4fa6-c87a-b36e3b106a8a",
        "colab": {
          "base_uri": "https://localhost:8080/",
          "height": 292
        }
      },
      "outputs": [
        {
          "output_type": "error",
          "ename": "NameError",
          "evalue": "ignored",
          "traceback": [
            "\u001b[0;31m---------------------------------------------------------------------------\u001b[0m",
            "\u001b[0;31mNameError\u001b[0m                                 Traceback (most recent call last)",
            "\u001b[0;32m<ipython-input-38-c47d02db888f>\u001b[0m in \u001b[0;36m<module>\u001b[0;34m()\u001b[0m\n\u001b[1;32m      4\u001b[0m \u001b[0;34m\u001b[0m\u001b[0m\n\u001b[1;32m      5\u001b[0m \u001b[0mepochs\u001b[0m \u001b[0;34m=\u001b[0m \u001b[0mlist\u001b[0m\u001b[0;34m(\u001b[0m\u001b[0mrange\u001b[0m\u001b[0;34m(\u001b[0m\u001b[0;36m1\u001b[0m\u001b[0;34m,\u001b[0m\u001b[0;36m101\u001b[0m\u001b[0;34m)\u001b[0m\u001b[0;34m)\u001b[0m\u001b[0;34m\u001b[0m\u001b[0;34m\u001b[0m\u001b[0m\n\u001b[0;32m----> 6\u001b[0;31m \u001b[0max1\u001b[0m\u001b[0;34m.\u001b[0m\u001b[0mplot\u001b[0m\u001b[0;34m(\u001b[0m\u001b[0mepochs\u001b[0m\u001b[0;34m,\u001b[0m \u001b[0mhistory\u001b[0m\u001b[0;34m.\u001b[0m\u001b[0mhistory\u001b[0m\u001b[0;34m[\u001b[0m\u001b[0;34m'accuracy'\u001b[0m\u001b[0;34m]\u001b[0m\u001b[0;34m,\u001b[0m \u001b[0mlabel\u001b[0m\u001b[0;34m=\u001b[0m\u001b[0;34m'Train Accuracy'\u001b[0m\u001b[0;34m)\u001b[0m\u001b[0;34m\u001b[0m\u001b[0;34m\u001b[0m\u001b[0m\n\u001b[0m\u001b[1;32m      7\u001b[0m \u001b[0max1\u001b[0m\u001b[0;34m.\u001b[0m\u001b[0mplot\u001b[0m\u001b[0;34m(\u001b[0m\u001b[0mepochs\u001b[0m\u001b[0;34m,\u001b[0m \u001b[0mhistory\u001b[0m\u001b[0;34m.\u001b[0m\u001b[0mhistory\u001b[0m\u001b[0;34m[\u001b[0m\u001b[0;34m'val_accuracy'\u001b[0m\u001b[0;34m]\u001b[0m\u001b[0;34m,\u001b[0m \u001b[0mlabel\u001b[0m\u001b[0;34m=\u001b[0m\u001b[0;34m'Validation Accuracy'\u001b[0m\u001b[0;34m)\u001b[0m\u001b[0;34m\u001b[0m\u001b[0;34m\u001b[0m\u001b[0m\n\u001b[1;32m      8\u001b[0m \u001b[0max1\u001b[0m\u001b[0;34m.\u001b[0m\u001b[0mset_xticks\u001b[0m\u001b[0;34m(\u001b[0m\u001b[0mepochs\u001b[0m\u001b[0;34m)\u001b[0m\u001b[0;34m\u001b[0m\u001b[0;34m\u001b[0m\u001b[0m\n",
            "\u001b[0;31mNameError\u001b[0m: name 'history' is not defined"
          ]
        },
        {
          "output_type": "display_data",
          "data": {
            "text/plain": [
              "<Figure size 7200x360 with 2 Axes>"
            ],
            "image/png": "[encoded data removed]"
          },
          "metadata": {
            "needs_background": "light"
          }
        }
      ],
      "source": [
        "f, (ax1, ax2) = plt.subplots(1, 2, figsize=(100, 5))\n",
        "t = f.suptitle('Deep Neural Net Performance', fontsize=12)\n",
        "f.subplots_adjust(top=0.85, wspace=0.7)\n",
        "\n",
        "epochs = list(range(1,101))\n",
        "ax1.plot(epochs, history.history['accuracy'], label='Train Accuracy')\n",
        "ax1.plot(epochs, history.history['val_accuracy'], label='Validation Accuracy')\n",
        "ax1.set_xticks(epochs)\n",
        "ax1.set_ylabel('Accuracy Value')\n",
        "ax1.set_xlabel('Epoch')\n",
        "ax1.set_title('Accuracy')\n",
        "l1 = ax1.legend(loc=\"best\")\n",
        "\n",
        "ax2.plot(epochs, history.history['loss'], label='Train Loss')\n",
        "ax2.plot(epochs, history.history['val_loss'], label='Validation Loss')\n",
        "ax2.set_xticks(epochs)\n",
        "ax2.set_ylabel('Loss Value')\n",
        "ax2.set_xlabel('Epoch')\n",
        "ax2.set_title('Loss')\n",
        "l2 = ax2.legend(loc=\"best\")"
      ],
      "id": "6febe275"
    },
    {
      "cell_type": "markdown",
      "metadata": {
        "id": "dZ1EtI4E5d0W"
      },
      "source": [
        "# 39. scaling test features for testing"
      ],
      "id": "dZ1EtI4E5d0W"
    },
    {
      "cell_type": "code",
      "execution_count": 39,
      "metadata": {
        "id": "6fe2e20a"
      },
      "outputs": [],
      "source": [
        "\n",
        "x_test /= 255."
      ],
      "id": "6fe2e20a"
    },
    {
      "cell_type": "markdown",
      "metadata": {
        "id": "Bw6PIm6i58uo"
      },
      "source": [
        "#40. call model for predictions"
      ],
      "id": "Bw6PIm6i58uo"
    },
    {
      "cell_type": "code",
      "execution_count": 40,
      "metadata": {
        "id": "8206c6d6",
        "outputId": "846311f9-8df4-4ee3-8b66-defa580a0c46",
        "colab": {
          "base_uri": "https://localhost:8080/"
        }
      },
      "outputs": [
        {
          "output_type": "execute_result",
          "data": {
            "text/plain": [
              "array([[3.3189313e-05, 2.4618816e-03, 1.6864258e-05, ..., 1.9171132e-02,\n",
              "        1.6188623e-01, 4.5842156e-04],\n",
              "       [1.7469238e-06, 2.4805756e-04, 3.0023124e-05, ..., 4.7736824e-02,\n",
              "        2.5813884e-05, 2.4510389e-06],\n",
              "       [2.8432826e-06, 1.4104212e-04, 2.7385388e-06, ..., 2.1049043e-05,\n",
              "        4.7994312e-04, 1.7474184e-05],\n",
              "       ...,\n",
              "       [4.9801940e-08, 1.6892821e-08, 1.4990131e-05, ..., 1.7418640e-03,\n",
              "        1.9854529e-05, 2.1008772e-09],\n",
              "       [6.8486070e-06, 2.9612897e-04, 5.2169646e-04, ..., 1.7324165e-01,\n",
              "        1.0732670e-02, 1.1502679e-04],\n",
              "       [2.8847946e-06, 1.1860656e-06, 4.8439382e-03, ..., 2.3826016e-03,\n",
              "        2.5211034e-06, 4.7670028e-06]], dtype=float32)"
            ]
          },
          "metadata": {},
          "execution_count": 40
        }
      ],
      "source": [
        "test_predictions = model.predict(x_test)\n",
        "test_predictions"
      ],
      "id": "8206c6d6"
    },
    {
      "cell_type": "markdown",
      "metadata": {
        "id": "Nbo5Ch3O6EoG"
      },
      "source": [
        "#41. display prediction corresponding to class label "
      ],
      "id": "Nbo5Ch3O6EoG"
    },
    {
      "cell_type": "code",
      "execution_count": 41,
      "metadata": {
        "id": "4bc3a673",
        "outputId": "b8d55a18-3042-4afa-813a-03ba689b922b",
        "colab": {
          "base_uri": "https://localhost:8080/",
          "height": 404
        }
      },
      "outputs": [
        {
          "output_type": "execute_result",
          "data": {
            "text/plain": [
              "   affenpinscher  afghan_hound  african_hunting_dog      airedale  \\\n",
              "0       0.000033      0.002462             0.000017  1.428039e-01   \n",
              "1       0.000002      0.000248             0.000030  1.415264e-05   \n",
              "2       0.000003      0.000141             0.000003  7.364438e-07   \n",
              "3       0.005769      0.000050             0.000026  1.386232e-03   \n",
              "4       0.000621      0.000184             0.000027  1.001023e-03   \n",
              "\n",
              "   american_staffordshire_terrier   appenzeller  australian_terrier  \\\n",
              "0                    9.153614e-05  3.339837e-05        5.627767e-05   \n",
              "1                    6.044317e-03  2.651518e-05        2.608036e-05   \n",
              "2                    2.344973e-08  3.168456e-07        3.980613e-07   \n",
              "3                    1.843103e-03  6.139613e-05        1.599230e-05   \n",
              "4                    7.307397e-05  3.839084e-03        1.092677e-04   \n",
              "\n",
              "        basenji        basset        beagle  ...    toy_poodle   toy_terrier  \\\n",
              "0  3.133041e-04  1.016954e-05  2.186359e-05  ...  8.464764e-04  1.032040e-04   \n",
              "1  3.913946e-02  6.839918e-03  2.088521e-04  ...  9.942961e-07  4.749590e-03   \n",
              "2  1.741310e-09  6.723095e-07  1.436166e-07  ...  3.923922e-05  2.823775e-08   \n",
              "3  4.189389e-05  8.293787e-05  3.000639e-06  ...  2.472305e-03  4.608396e-03   \n",
              "4  1.040855e-05  8.371511e-03  1.915526e-04  ...  1.722281e-03  1.205289e-05   \n",
              "\n",
              "         vizsla  walker_hound    weimaraner  welsh_springer_spaniel  \\\n",
              "0  5.045370e-04  5.521233e-06  3.693197e-03                0.001255   \n",
              "1  1.549082e-02  5.582855e-04  1.137534e-02                0.000558   \n",
              "2  1.544325e-09  1.055861e-07  5.389397e-07                0.002029   \n",
              "3  2.429677e-06  3.010824e-04  2.642315e-05                0.000021   \n",
              "4  4.349005e-07  4.435585e-05  3.950631e-06                0.000890   \n",
              "\n",
              "   west_highland_white_terrier   whippet  wire-haired_fox_terrier  \\\n",
              "0                     0.000175  0.019171                 0.161886   \n",
              "1                     0.000004  0.047737                 0.000026   \n",
              "2                     0.001062  0.000021                 0.000480   \n",
              "3                     0.000438  0.000437                 0.007311   \n",
              "4                     0.000005  0.000005                 0.000175   \n",
              "\n",
              "   yorkshire_terrier  \n",
              "0           0.000458  \n",
              "1           0.000002  \n",
              "2           0.000017  \n",
              "3           0.000050  \n",
              "4           0.000017  \n",
              "\n",
              "[5 rows x 120 columns]"
            ],
            "text/html": [
              "\n",
              "  <div id=\"df-e8d1921a-de71-45b2-89c7-ce4fd3fb82ea\">\n",
              "    <div class=\"colab-df-container\">\n",
              "      <div>\n",
              "<style scoped>\n",
              "    .dataframe tbody tr th:only-of-type {\n",
              "        vertical-align: middle;\n",
              "    }\n",
              "\n",
              "    .dataframe tbody tr th {\n",
              "        vertical-align: top;\n",
              "    }\n",
              "\n",
              "    .dataframe thead th {\n",
              "        text-align: right;\n",
              "    }\n",
              "</style>\n",
              "<table border=\"1\" class=\"dataframe\">\n",
              "  <thead>\n",
              "    <tr style=\"text-align: right;\">\n",
              "      <th></th>\n",
              "      <th>affenpinscher</th>\n",
              "      <th>afghan_hound</th>\n",
              "      <th>african_hunting_dog</th>\n",
              "      <th>airedale</th>\n",
              "      <th>american_staffordshire_terrier</th>\n",
              "      <th>appenzeller</th>\n",
              "      <th>australian_terrier</th>\n",
              "      <th>basenji</th>\n",
              "      <th>basset</th>\n",
              "      <th>beagle</th>\n",
              "      <th>...</th>\n",
              "      <th>toy_poodle</th>\n",
              "      <th>toy_terrier</th>\n",
              "      <th>vizsla</th>\n",
              "      <th>walker_hound</th>\n",
              "      <th>weimaraner</th>\n",
              "      <th>welsh_springer_spaniel</th>\n",
              "      <th>west_highland_white_terrier</th>\n",
              "      <th>whippet</th>\n",
              "      <th>wire-haired_fox_terrier</th>\n",
              "      <th>yorkshire_terrier</th>\n",
              "    </tr>\n",
              "  </thead>\n",
              "  <tbody>\n",
              "    <tr>\n",
              "      <th>0</th>\n",
              "      <td>0.000033</td>\n",
              "      <td>0.002462</td>\n",
              "      <td>0.000017</td>\n",
              "      <td>1.428039e-01</td>\n",
              "      <td>9.153614e-05</td>\n",
              "      <td>3.339837e-05</td>\n",
              "      <td>5.627767e-05</td>\n",
              "      <td>3.133041e-04</td>\n",
              "      <td>1.016954e-05</td>\n",
              "      <td>2.186359e-05</td>\n",
              "      <td>...</td>\n",
              "      <td>8.464764e-04</td>\n",
              "      <td>1.032040e-04</td>\n",
              "      <td>5.045370e-04</td>\n",
              "      <td>5.521233e-06</td>\n",
              "      <td>3.693197e-03</td>\n",
              "      <td>0.001255</td>\n",
              "      <td>0.000175</td>\n",
              "      <td>0.019171</td>\n",
              "      <td>0.161886</td>\n",
              "      <td>0.000458</td>\n",
              "    </tr>\n",
              "    <tr>\n",
              "      <th>1</th>\n",
              "      <td>0.000002</td>\n",
              "      <td>0.000248</td>\n",
              "      <td>0.000030</td>\n",
              "      <td>1.415264e-05</td>\n",
              "      <td>6.044317e-03</td>\n",
              "      <td>2.651518e-05</td>\n",
              "      <td>2.608036e-05</td>\n",
              "      <td>3.913946e-02</td>\n",
              "      <td>6.839918e-03</td>\n",
              "      <td>2.088521e-04</td>\n",
              "      <td>...</td>\n",
              "      <td>9.942961e-07</td>\n",
              "      <td>4.749590e-03</td>\n",
              "      <td>1.549082e-02</td>\n",
              "      <td>5.582855e-04</td>\n",
              "      <td>1.137534e-02</td>\n",
              "      <td>0.000558</td>\n",
              "      <td>0.000004</td>\n",
              "      <td>0.047737</td>\n",
              "      <td>0.000026</td>\n",
              "      <td>0.000002</td>\n",
              "    </tr>\n",
              "    <tr>\n",
              "      <th>2</th>\n",
              "      <td>0.000003</td>\n",
              "      <td>0.000141</td>\n",
              "      <td>0.000003</td>\n",
              "      <td>7.364438e-07</td>\n",
              "      <td>2.344973e-08</td>\n",
              "      <td>3.168456e-07</td>\n",
              "      <td>3.980613e-07</td>\n",
              "      <td>1.741310e-09</td>\n",
              "      <td>6.723095e-07</td>\n",
              "      <td>1.436166e-07</td>\n",
              "      <td>...</td>\n",
              "      <td>3.923922e-05</td>\n",
              "      <td>2.823775e-08</td>\n",
              "      <td>1.544325e-09</td>\n",
              "      <td>1.055861e-07</td>\n",
              "      <td>5.389397e-07</td>\n",
              "      <td>0.002029</td>\n",
              "      <td>0.001062</td>\n",
              "      <td>0.000021</td>\n",
              "      <td>0.000480</td>\n",
              "      <td>0.000017</td>\n",
              "    </tr>\n",
              "    <tr>\n",
              "      <th>3</th>\n",
              "      <td>0.005769</td>\n",
              "      <td>0.000050</td>\n",
              "      <td>0.000026</td>\n",
              "      <td>1.386232e-03</td>\n",
              "      <td>1.843103e-03</td>\n",
              "      <td>6.139613e-05</td>\n",
              "      <td>1.599230e-05</td>\n",
              "      <td>4.189389e-05</td>\n",
              "      <td>8.293787e-05</td>\n",
              "      <td>3.000639e-06</td>\n",
              "      <td>...</td>\n",
              "      <td>2.472305e-03</td>\n",
              "      <td>4.608396e-03</td>\n",
              "      <td>2.429677e-06</td>\n",
              "      <td>3.010824e-04</td>\n",
              "      <td>2.642315e-05</td>\n",
              "      <td>0.000021</td>\n",
              "      <td>0.000438</td>\n",
              "      <td>0.000437</td>\n",
              "      <td>0.007311</td>\n",
              "      <td>0.000050</td>\n",
              "    </tr>\n",
              "    <tr>\n",
              "      <th>4</th>\n",
              "      <td>0.000621</td>\n",
              "      <td>0.000184</td>\n",
              "      <td>0.000027</td>\n",
              "      <td>1.001023e-03</td>\n",
              "      <td>7.307397e-05</td>\n",
              "      <td>3.839084e-03</td>\n",
              "      <td>1.092677e-04</td>\n",
              "      <td>1.040855e-05</td>\n",
              "      <td>8.371511e-03</td>\n",
              "      <td>1.915526e-04</td>\n",
              "      <td>...</td>\n",
              "      <td>1.722281e-03</td>\n",
              "      <td>1.205289e-05</td>\n",
              "      <td>4.349005e-07</td>\n",
              "      <td>4.435585e-05</td>\n",
              "      <td>3.950631e-06</td>\n",
              "      <td>0.000890</td>\n",
              "      <td>0.000005</td>\n",
              "      <td>0.000005</td>\n",
              "      <td>0.000175</td>\n",
              "      <td>0.000017</td>\n",
              "    </tr>\n",
              "  </tbody>\n",
              "</table>\n",
              "<p>5 rows × 120 columns</p>\n",
              "</div>\n",
              "      <button class=\"colab-df-convert\" onclick=\"convertToInteractive('df-e8d1921a-de71-45b2-89c7-ce4fd3fb82ea')\"\n",
              "              title=\"Convert this dataframe to an interactive table.\"\n",
              "              style=\"display:none;\">\n",
              "        \n",
              "  <svg xmlns=\"http://www.w3.org/2000/svg\" height=\"24px\"viewBox=\"0 0 24 24\"\n",
              "       width=\"24px\">\n",
              "    <path d=\"M0 0h24v24H0V0z\" fill=\"none\"/>\n",
              "    <path d=\"M18.56 5.44l.94 2.06.94-2.06 2.06-.94-2.06-.94-.94-2.06-.94 2.06-2.06.94zm-11 1L8.5 8.5l.94-2.06 2.06-.94-2.06-.94L8.5 2.5l-.94 2.06-2.06.94zm10 10l.94 2.06.94-2.06 2.06-.94-2.06-.94-.94-2.06-.94 2.06-2.06.94z\"/><path d=\"M17.41 7.96l-1.37-1.37c-.4-.4-.92-.59-1.43-.59-.52 0-1.04.2-1.43.59L10.3 9.45l-7.72 7.72c-.78.78-.78 2.05 0 2.83L4 21.41c.39.39.9.59 1.41.59.51 0 1.02-.2 1.41-.59l7.78-7.78 2.81-2.81c.8-.78.8-2.07 0-2.86zM5.41 20L4 18.59l7.72-7.72 1.47 1.35L5.41 20z\"/>\n",
              "  </svg>\n",
              "      </button>\n",
              "      \n",
              "  <style>\n",
              "    .colab-df-container {\n",
              "      display:flex;\n",
              "      flex-wrap:wrap;\n",
              "      gap: 12px;\n",
              "    }\n",
              "\n",
              "    .colab-df-convert {\n",
              "      background-color: #E8F0FE;\n",
              "      border: none;\n",
              "      border-radius: 50%;\n",
              "      cursor: pointer;\n",
              "      display: none;\n",
              "      fill: #1967D2;\n",
              "      height: 32px;\n",
              "      padding: 0 0 0 0;\n",
              "      width: 32px;\n",
              "    }\n",
              "\n",
              "    .colab-df-convert:hover {\n",
              "      background-color: #E2EBFA;\n",
              "      box-shadow: 0px 1px 2px rgba(60, 64, 67, 0.3), 0px 1px 3px 1px rgba(60, 64, 67, 0.15);\n",
              "      fill: #174EA6;\n",
              "    }\n",
              "\n",
              "    [theme=dark] .colab-df-convert {\n",
              "      background-color: #3B4455;\n",
              "      fill: #D2E3FC;\n",
              "    }\n",
              "\n",
              "    [theme=dark] .colab-df-convert:hover {\n",
              "      background-color: #434B5C;\n",
              "      box-shadow: 0px 1px 3px 1px rgba(0, 0, 0, 0.15);\n",
              "      filter: drop-shadow(0px 1px 2px rgba(0, 0, 0, 0.3));\n",
              "      fill: #FFFFFF;\n",
              "    }\n",
              "  </style>\n",
              "\n",
              "      <script>\n",
              "        const buttonEl =\n",
              "          document.querySelector('#df-e8d1921a-de71-45b2-89c7-ce4fd3fb82ea button.colab-df-convert');\n",
              "        buttonEl.style.display =\n",
              "          google.colab.kernel.accessAllowed ? 'block' : 'none';\n",
              "\n",
              "        async function convertToInteractive(key) {\n",
              "          const element = document.querySelector('#df-e8d1921a-de71-45b2-89c7-ce4fd3fb82ea');\n",
              "          const dataTable =\n",
              "            await google.colab.kernel.invokeFunction('convertToInteractive',\n",
              "                                                     [key], {});\n",
              "          if (!dataTable) return;\n",
              "\n",
              "          const docLinkHtml = 'Like what you see? Visit the ' +\n",
              "            '<a target=\"_blank\" href=https://colab.research.google.com/notebooks/data_table.ipynb>data table notebook</a>'\n",
              "            + ' to learn more about interactive tables.';\n",
              "          element.innerHTML = '';\n",
              "          dataTable['output_type'] = 'display_data';\n",
              "          await google.colab.output.renderOutput(dataTable, element);\n",
              "          const docLink = document.createElement('div');\n",
              "          docLink.innerHTML = docLinkHtml;\n",
              "          element.appendChild(docLink);\n",
              "        }\n",
              "      </script>\n",
              "    </div>\n",
              "  </div>\n",
              "  "
            ]
          },
          "metadata": {},
          "execution_count": 41
        }
      ],
      "source": [
        "predictions = pd.DataFrame(test_predictions, columns=labels_ohe_names.columns)\n",
        "predictions.head()"
      ],
      "id": "4bc3a673"
    },
    {
      "cell_type": "markdown",
      "metadata": {
        "id": "0tUaOVVd6U-X"
      },
      "source": [
        "#42. Display predictions for first 10 test values"
      ],
      "id": "0tUaOVVd6U-X"
    },
    {
      "cell_type": "code",
      "execution_count": 42,
      "metadata": {
        "id": "90ca9226",
        "outputId": "59ef95e1-7861-4b49-deac-407badb2ef9a",
        "colab": {
          "base_uri": "https://localhost:8080/"
        }
      },
      "outputs": [
        {
          "output_type": "execute_result",
          "data": {
            "text/plain": [
              "['wire-haired_fox_terrier',\n",
              " 'ibizan_hound',\n",
              " 'borzoi',\n",
              " 'bouvier_des_flandres',\n",
              " 'bernese_mountain_dog',\n",
              " 'papillon',\n",
              " 'irish_setter',\n",
              " 'cardigan',\n",
              " 'bouvier_des_flandres',\n",
              " 'old_english_sheepdog']"
            ]
          },
          "metadata": {},
          "execution_count": 42
        }
      ],
      "source": [
        "test_labels = list(y_test)\n",
        "predictions = list(predictions.idxmax(axis=1))\n",
        "predictions[:10]"
      ],
      "id": "90ca9226"
    },
    {
      "cell_type": "markdown",
      "metadata": {
        "id": "COzbja2Z6c0g"
      },
      "source": [
        "#43. calculate the accuracy of whole test data"
      ],
      "id": "COzbja2Z6c0g"
    },
    {
      "cell_type": "code",
      "execution_count": 43,
      "metadata": {
        "id": "c0d41d9b"
      },
      "outputs": [],
      "source": [
        "#Making prediction\n",
        "y_pred=model.predict(x_test)\n",
        "y_true=np.argmax(y_test_ohe,axis=1)"
      ],
      "id": "c0d41d9b"
    },
    {
      "cell_type": "markdown",
      "metadata": {
        "id": "gmbaZ5_56iXG"
      },
      "source": [
        "44. Evaluate the model"
      ],
      "id": "gmbaZ5_56iXG"
    },
    {
      "cell_type": "code",
      "execution_count": 44,
      "metadata": {
        "id": "aabcf50d"
      },
      "outputs": [],
      "source": [
        "loss, accuracy = model.evaluate(x_test, y_test_ohe, verbose=0)"
      ],
      "id": "aabcf50d"
    },
    {
      "cell_type": "markdown",
      "metadata": {
        "id": "lnGDybY06n7Y"
      },
      "source": [
        "#45. print the results"
      ],
      "id": "lnGDybY06n7Y"
    },
    {
      "cell_type": "code",
      "execution_count": 45,
      "metadata": {
        "id": "b9b451c5",
        "outputId": "08a8e98a-8b05-47ab-8139-19e0b2828587",
        "colab": {
          "base_uri": "https://localhost:8080/"
        }
      },
      "outputs": [
        {
          "output_type": "stream",
          "name": "stdout",
          "text": [
            "2.347381353378296\n",
            "0.4377777874469757\n"
          ]
        }
      ],
      "source": [
        "print(loss)\n",
        "print(accuracy)"
      ],
      "id": "b9b451c5"
    },
    {
      "cell_type": "markdown",
      "metadata": {
        "id": "vQzwc8FR6rdu"
      },
      "source": [
        "#46. print the classification report"
      ],
      "id": "vQzwc8FR6rdu"
    },
    {
      "cell_type": "code",
      "execution_count": 46,
      "metadata": {
        "id": "4ae16c9f",
        "outputId": "f0980fdf-6e67-4267-9d2d-8839036e9b6e",
        "colab": {
          "base_uri": "https://localhost:8080/"
        }
      },
      "outputs": [
        {
          "output_type": "stream",
          "name": "stdout",
          "text": [
            "15/15 [==============================] - 461s 30s/step\n",
            "              precision    recall  f1-score   support\n",
            "\n",
            "           0       0.60      0.43      0.50         7\n",
            "           1       0.83      0.56      0.67         9\n",
            "           2       0.20      0.17      0.18         6\n",
            "           3       0.75      0.30      0.43        10\n",
            "           4       0.38      0.50      0.43         6\n",
            "           5       0.67      0.29      0.40         7\n",
            "           6       0.33      0.22      0.27         9\n",
            "           7       0.32      0.60      0.41        10\n",
            "           8       0.12      0.38      0.19         8\n",
            "           9       0.57      0.44      0.50         9\n",
            "          10       0.56      0.45      0.50        11\n",
            "          11       0.71      0.45      0.56        11\n",
            "          12       0.33      0.33      0.33         6\n",
            "          13       0.67      0.67      0.67         9\n",
            "          14       0.36      0.44      0.40         9\n",
            "          15       0.50      0.29      0.36         7\n",
            "          16       0.43      0.50      0.46         6\n",
            "          17       0.67      0.25      0.36         8\n",
            "          18       0.67      0.33      0.44         6\n",
            "          19       0.67      0.50      0.57         8\n",
            "          20       0.33      0.56      0.42         9\n",
            "          21       0.38      0.43      0.40         7\n",
            "          22       0.25      0.20      0.22         5\n",
            "          23       0.00      0.00      0.00         5\n",
            "          24       1.00      0.29      0.44         7\n",
            "          25       0.60      0.43      0.50         7\n",
            "          26       0.17      0.38      0.23         8\n",
            "          27       0.38      0.62      0.48         8\n",
            "          28       0.07      0.11      0.09         9\n",
            "          29       0.33      0.17      0.22         6\n",
            "          30       0.33      0.33      0.33         9\n",
            "          31       0.42      0.71      0.53         7\n",
            "          32       0.50      0.17      0.25         6\n",
            "          33       0.25      0.12      0.17         8\n",
            "          34       0.50      0.83      0.62         6\n",
            "          35       0.33      0.38      0.35         8\n",
            "          36       0.25      0.62      0.36         8\n",
            "          37       0.43      0.38      0.40         8\n",
            "          38       0.50      0.60      0.55         5\n",
            "          39       0.50      0.62      0.56         8\n",
            "          40       0.50      0.50      0.50         6\n",
            "          41       0.40      0.33      0.36         6\n",
            "          42       0.86      0.75      0.80         8\n",
            "          43       0.00      0.00      0.00         5\n",
            "          44       0.14      0.17      0.15         6\n",
            "          45       0.27      0.50      0.35         6\n",
            "          46       0.60      0.60      0.60         5\n",
            "          47       0.25      0.43      0.32         7\n",
            "          48       0.00      0.00      0.00         9\n",
            "          49       1.00      0.50      0.67         6\n",
            "          50       0.50      0.12      0.20         8\n",
            "          51       0.67      0.33      0.44         6\n",
            "          52       0.33      0.38      0.35         8\n",
            "          53       0.50      0.20      0.29         5\n",
            "          54       1.00      0.50      0.67         6\n",
            "          55       0.55      0.75      0.63         8\n",
            "          56       0.40      0.25      0.31         8\n",
            "          57       1.00      0.25      0.40         8\n",
            "          58       0.50      0.57      0.53         7\n",
            "          59       0.25      0.12      0.17         8\n",
            "          60       1.00      0.62      0.77         8\n",
            "          61       0.70      0.78      0.74         9\n",
            "          62       0.75      0.43      0.55         7\n",
            "          63       1.00      0.29      0.44         7\n",
            "          64       0.36      0.83      0.50         6\n",
            "          65       0.33      0.80      0.47         5\n",
            "          66       0.67      0.33      0.44         6\n",
            "          67       1.00      0.33      0.50         9\n",
            "          68       0.00      0.00      0.00        11\n",
            "          69       0.47      0.78      0.58         9\n",
            "          70       1.00      0.25      0.40         8\n",
            "          71       0.40      0.25      0.31         8\n",
            "          72       0.50      0.20      0.29         5\n",
            "          73       0.69      0.82      0.75        11\n",
            "          74       0.33      0.71      0.45         7\n",
            "          75       0.40      0.40      0.40        10\n",
            "          76       0.67      0.29      0.40         7\n",
            "          77       1.00      0.17      0.29         6\n",
            "          78       0.25      0.29      0.27         7\n",
            "          79       0.00      0.00      0.00         7\n",
            "          80       0.55      0.67      0.60         9\n",
            "          81       0.30      0.43      0.35         7\n",
            "          82       0.67      0.44      0.53         9\n",
            "          83       0.40      0.80      0.53         5\n",
            "          84       0.43      0.43      0.43         7\n",
            "          85       0.67      0.25      0.36         8\n",
            "          86       0.75      0.75      0.75         8\n",
            "          87       0.80      0.50      0.62         8\n",
            "          88       0.71      0.56      0.63         9\n",
            "          89       0.27      0.50      0.35         6\n",
            "          90       0.38      0.67      0.48         9\n",
            "          91       0.50      0.80      0.62         5\n",
            "          92       0.60      0.50      0.55         6\n",
            "          93       0.58      0.70      0.64        10\n",
            "          94       0.50      0.36      0.42        11\n",
            "          95       0.44      0.50      0.47         8\n",
            "          96       0.50      0.62      0.56         8\n",
            "          97       0.38      0.45      0.42        11\n",
            "          98       0.33      0.80      0.47         5\n",
            "          99       0.50      0.12      0.20         8\n",
            "         100       0.60      0.33      0.43         9\n",
            "         101       0.42      0.56      0.48         9\n",
            "         102       0.64      0.78      0.70         9\n",
            "         103       0.25      0.25      0.25         4\n",
            "         104       0.33      0.80      0.47         5\n",
            "         105       0.25      0.20      0.22        10\n",
            "         106       1.00      0.14      0.25         7\n",
            "         107       0.50      0.83      0.62         6\n",
            "         108       0.60      0.50      0.55         6\n",
            "         109       0.33      0.56      0.42         9\n",
            "         110       0.80      0.50      0.62         8\n",
            "         111       0.80      0.57      0.67         7\n",
            "         112       1.00      0.20      0.33         5\n",
            "         113       0.00      0.00      0.00         6\n",
            "         114       0.44      1.00      0.61         7\n",
            "         115       0.50      0.11      0.18         9\n",
            "         116       0.45      0.62      0.53         8\n",
            "         117       0.60      0.60      0.60        10\n",
            "         118       0.21      0.60      0.32         5\n",
            "         119       0.33      0.44      0.38         9\n",
            "\n",
            "    accuracy                           0.44       900\n",
            "   macro avg       0.50      0.44      0.42       900\n",
            "weighted avg       0.50      0.44      0.43       900\n",
            "\n"
          ]
        }
      ],
      "source": [
        "from sklearn.metrics import classification_report\n",
        "\n",
        "y_pred = model.predict(x_test, batch_size=64, verbose=1)\n",
        "y_pred_bool = np.argmax(y_pred, axis=1)\n",
        "#target_names=['class 0', 'class 1', 'class 2','class 3','class 4']\n",
        "#print(classification_report(y_true, y_pred_bool, target_names=target_names))\n",
        "print(classification_report(y_true, y_pred_bool))"
      ],
      "id": "4ae16c9f"
    },
    {
      "cell_type": "code",
      "execution_count": null,
      "metadata": {
        "id": "8f1c69b5"
      },
      "outputs": [],
      "source": [
        ""
      ],
      "id": "8f1c69b5"
    }
  ],
  "metadata": {
    "colab": {
      "name": "Copy of dog_breed_vgg16.ipynb",
      "provenance": [],
      "include_colab_link": true
    },
    "gpuClass": "standard",
    "kernelspec": {
      "display_name": "Python 3",
      "language": "python",
      "name": "python3"
    },
    "language_info": {
      "codemirror_mode": {
        "name": "ipython",
        "version": 3
      },
      "file_extension": ".py",
      "mimetype": "text/x-python",
      "name": "python",
      "nbconvert_exporter": "python",
      "pygments_lexer": "ipython3",
      "version": "3.6.8"
    }
  },
  "nbformat": 4,
  "nbformat_minor": 5
}